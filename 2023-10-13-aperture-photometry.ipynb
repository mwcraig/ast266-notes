{
 "cells": [
  {
   "cell_type": "markdown",
   "id": "103a80a1-b2ea-4075-989f-3481316d155f",
   "metadata": {},
   "source": [
    "# 2023-10-13 More about aperture photometry"
   ]
  },
  {
   "cell_type": "markdown",
   "id": "258e3d29-1683-4bb8-99d4-5b3a86dc6720",
   "metadata": {},
   "source": [
    "## Overview\n",
    "\n",
    "+ Review pixel counting ideas from last time\n",
    "+ Overview of getting sky background \n",
    "+ Estimating sky background\n",
    "+ Aperture size"
   ]
  },
  {
   "cell_type": "code",
   "execution_count": null,
   "id": "cc8b3b9b-f2c0-46f2-a127-99555f923e01",
   "metadata": {},
   "outputs": [],
   "source": [
    "from astropy.modeling.models import Gaussian2D\n",
    "from astropy.stats import gaussian_sigma_to_fwhm\n",
    "\n",
    "from matplotlib import pyplot as plt\n",
    "\n",
    "import numpy as np"
   ]
  },
  {
   "cell_type": "code",
   "execution_count": null,
   "id": "d702018e-d909-44f4-95da-5d816784d96a",
   "metadata": {},
   "outputs": [],
   "source": [
    "def image_with_pixels_labeled(image, **text_kwargs):\n",
    "    image_size = image.shape[0]\n",
    "    plt.imshow(image)\n",
    "    plt.colorbar()\n",
    "    for i in range(image_size):\n",
    "        for j in range(image_size):\n",
    "            plt.text(i, j, int(image[j, i]), \n",
    "                     fontweight='bold',\n",
    "                     horizontalalignment='center',\n",
    "                     verticalalignment='center',\n",
    "                     **text_kwargs\n",
    "                    )\n",
    "            plt.scatter(i, j, marker='.', c='red', alpha=0.5)\n"
   ]
  },
  {
   "cell_type": "code",
   "execution_count": null,
   "id": "97309478-7fe9-4f16-8a15-ce3da1249124",
   "metadata": {},
   "outputs": [],
   "source": [
    "def circle(x, y, radius):\n",
    "    angle = np.linspace(0, 2 * np.pi)\n",
    "    return x + radius * np.cos(angle), y + radius * np.sin(angle)"
   ]
  },
  {
   "cell_type": "code",
   "execution_count": null,
   "id": "1b736ec6-cf45-4fa7-a05b-eed6819e3bef",
   "metadata": {},
   "outputs": [],
   "source": [
    "rng = np.random.default_rng(seed=548975)"
   ]
  },
  {
   "cell_type": "code",
   "execution_count": null,
   "id": "7c8c9a4d-023d-41f9-8361-49d150e2fc0e",
   "metadata": {},
   "outputs": [],
   "source": [
    "figure_size = (20, 20)\n",
    "image_size = 25\n",
    "star_center = (12, 12)\n",
    "sigma = 2  # Gaussian width of the star\n",
    "background_image = rng.poisson(lam=200, size=[image_size, image_size])"
   ]
  },
  {
   "cell_type": "code",
   "execution_count": null,
   "id": "7fd956e7-b82a-455e-8786-19f483f10466",
   "metadata": {},
   "outputs": [],
   "source": [
    "circ = circle(*star_center, 2.1)"
   ]
  },
  {
   "cell_type": "markdown",
   "id": "79d1ed1b-47d7-43b4-be1e-59d7be57b1e5",
   "metadata": {
    "tags": []
   },
   "source": [
    "## Part 1\n",
    "\n",
    "### A fake image: background only"
   ]
  },
  {
   "cell_type": "code",
   "execution_count": null,
   "id": "d7ae4cc9-7534-4758-8f2c-fa54193fbaac",
   "metadata": {},
   "outputs": [],
   "source": [
    "plt.figure(figsize=figure_size)\n",
    "\n",
    "image_with_pixels_labeled(background_image, color='black')\n",
    "plt.title('Background only (fake!)')\n",
    "plt.plot(circ[0], circ[1], color='red');\n",
    "        "
   ]
  },
  {
   "cell_type": "code",
   "execution_count": null,
   "id": "f19981b9-1632-4b46-925b-56406414b2f9",
   "metadata": {},
   "outputs": [],
   "source": [
    "\n",
    "fwhm = sigma * gaussian_sigma_to_fwhm\n",
    "\n",
    "star = Gaussian2D(amplitude=200, x_stddev=sigma, y_stddev=sigma)\n",
    "grids = np.mgrid[0:image_size, 0:image_size]\n",
    "star_grid = star(grids[0] - star_center[0], grids[1] - star_center[0])"
   ]
  },
  {
   "cell_type": "code",
   "execution_count": null,
   "id": "06f842f1-0892-4b21-9151-5fe3e132a2c4",
   "metadata": {},
   "outputs": [],
   "source": [
    "total_image = background_image + star_grid"
   ]
  },
  {
   "cell_type": "markdown",
   "id": "52d8addc-bee8-4225-9fd2-3571a82cbbfc",
   "metadata": {},
   "source": [
    "### Same image, now with a star added on"
   ]
  },
  {
   "cell_type": "code",
   "execution_count": null,
   "id": "d0190707-baac-435e-96d5-866886f417a3",
   "metadata": {},
   "outputs": [],
   "source": [
    "plt.figure(figsize=figure_size)\n",
    "\n",
    "image_with_pixels_labeled(total_image, color='darkgray')\n",
    "plt.title('Same fake background, with a star')\n",
    "plt.plot(circ[0], circ[1], color='red');\n",
    "        "
   ]
  },
  {
   "cell_type": "markdown",
   "id": "4b74236e-35e7-4f29-93d7-e74988922f3b",
   "metadata": {},
   "source": [
    "### New image, star and background, no separate background image"
   ]
  },
  {
   "cell_type": "code",
   "execution_count": null,
   "id": "d10b597c-86b3-473c-ac6e-d0115729292e",
   "metadata": {},
   "outputs": [],
   "source": [
    "new_background_image = rng.poisson(lam=200, size=[image_size, image_size])\n",
    "new_total_image = new_background_image + star_grid"
   ]
  },
  {
   "cell_type": "code",
   "execution_count": null,
   "id": "e5e3fc20-be53-4bfc-9496-a56aa424080d",
   "metadata": {},
   "outputs": [],
   "source": [
    "plt.figure(figsize=figure_size)\n",
    "\n",
    "image_with_pixels_labeled(new_total_image, color='darkgray')\n",
    "\n",
    "plt.title('New image, no fake background')\n",
    "plt.plot(circ[0], circ[1], color='red');\n",
    "    "
   ]
  },
  {
   "cell_type": "markdown",
   "id": "edeef1c4-c0d9-470e-9989-4888d1385682",
   "metadata": {},
   "source": [
    "## Part 2: Aperture Size"
   ]
  },
  {
   "cell_type": "markdown",
   "id": "668952b2-56d5-4e54-b3ed-5290ccca350c",
   "metadata": {},
   "source": [
    "### Star only (another fake image!)"
   ]
  },
  {
   "cell_type": "code",
   "execution_count": null,
   "id": "50c401b4-a6e3-4eb2-87c6-065d15983293",
   "metadata": {},
   "outputs": [],
   "source": [
    "plt.figure(figsize=figure_size)\n",
    "\n",
    "image_with_pixels_labeled(star_grid, color='darkgray')\n",
    "\n",
    "for i in range(5):\n",
    "    radius = 2 + i * 2\n",
    "    i_circ = circle(*star_center, radius)\n",
    "    plt.plot(i_circ[0], i_circ[1], label=f'Radius {radius}');\n",
    "plt.title('Star only (fake)')  \n",
    "plt.legend()"
   ]
  },
  {
   "cell_type": "markdown",
   "id": "35e7ac2d-3fc9-458f-bca0-ba3f676ab1ec",
   "metadata": {},
   "source": [
    "### Star and background"
   ]
  },
  {
   "cell_type": "code",
   "execution_count": null,
   "id": "29e4a27c-b707-4253-83d7-ee076aff46ed",
   "metadata": {},
   "outputs": [],
   "source": [
    "plt.figure(figsize=figure_size)\n",
    "\n",
    "image_with_pixels_labeled(new_total_image, color='darkgray')\n",
    "\n",
    "for i in range(5):\n",
    "    radius = 2 + i * 2\n",
    "    i_circ = circle(*star_center, radius)\n",
    "    plt.plot(i_circ[0], i_circ[1], label=f'Radius {radius}');\n",
    "     \n",
    "plt.legend()"
   ]
  },
  {
   "cell_type": "code",
   "execution_count": null,
   "id": "57d574d4-806a-4bf9-90d5-a5df51cad29d",
   "metadata": {},
   "outputs": [],
   "source": []
  }
 ],
 "metadata": {
  "kernelspec": {
   "display_name": "Python 3 (ipykernel)",
   "language": "python",
   "name": "python3"
  },
  "language_info": {
   "codemirror_mode": {
    "name": "ipython",
    "version": 3
   },
   "file_extension": ".py",
   "mimetype": "text/x-python",
   "name": "python",
   "nbconvert_exporter": "python",
   "pygments_lexer": "ipython3",
   "version": "3.10.6"
  }
 },
 "nbformat": 4,
 "nbformat_minor": 5
}
