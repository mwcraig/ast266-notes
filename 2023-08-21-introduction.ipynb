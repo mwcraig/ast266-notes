{
 "cells": [
  {
   "cell_type": "markdown",
   "id": "82d30f44-9475-4033-8e67-559c7c6e94ac",
   "metadata": {},
   "source": [
    "# Course introduction"
   ]
  },
  {
   "cell_type": "markdown",
   "id": "5da5b841-ebe6-4200-93b2-b86bdd0b538f",
   "metadata": {},
   "source": [
    "## Who are you and why are you here?\n",
    "\n",
    "+ What interests you about astronomy?\n",
    "+ Why this course?\n"
   ]
  },
  {
   "cell_type": "markdown",
   "id": "66b2badd-530b-46d8-a0f0-af99c6beafa0",
   "metadata": {},
   "source": [
    "## Meet some folks \n",
    "\n",
    "Find:\n",
    "\n",
    "+ One student who is not a science major\n",
    "+ One student who is a science major\n",
    "+ One student different than the other two who is a different major than yours"
   ]
  },
  {
   "cell_type": "markdown",
   "id": "128d497c-892e-4a16-b9be-55267b7941ab",
   "metadata": {},
   "source": [
    "## Overview"
   ]
  },
  {
   "cell_type": "markdown",
   "id": "73a00855-049d-484b-b2e9-af9c59f24f79",
   "metadata": {},
   "source": [
    "### Project 1: make a color image\n",
    "\n",
    "| Sample from Fall 2022 |\n",
    "| --------------------- |\n",
    "| ![Color image of M33 (Triangulum Galaxy)](willow.jpg) |"
   ]
  },
  {
   "cell_type": "markdown",
   "id": "584c51b4-1bee-4f4e-88f1-84ef3b4f64e8",
   "metadata": {},
   "source": [
    "### Help discover another planet\n",
    "\n",
    "| Sample from 2022 |\n",
    "| ---------------- |\n",
    "| ![Explanet transit curve](watson-planet.png) |\n",
    "\n"
   ]
  },
  {
   "cell_type": "markdown",
   "id": "50589d0d-95ca-426c-92c1-4fd1fe25c18c",
   "metadata": {},
   "source": [
    "## Beyond that...\n",
    "\n",
    "+ Maybe variable stars?\n",
    "+ Stellar evolution?\n",
    "+ ??"
   ]
  }
 ],
 "metadata": {
  "kernelspec": {
   "display_name": "Python 3 (ipykernel)",
   "language": "python",
   "name": "python3"
  },
  "language_info": {
   "codemirror_mode": {
    "name": "ipython",
    "version": 3
   },
   "file_extension": ".py",
   "mimetype": "text/x-python",
   "name": "python",
   "nbconvert_exporter": "python",
   "pygments_lexer": "ipython3",
   "version": "3.10.6"
  }
 },
 "nbformat": 4,
 "nbformat_minor": 5
}
