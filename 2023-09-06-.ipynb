{
 "cells": [
  {
   "cell_type": "markdown",
   "metadata": {},
   "source": [
    "# 2022-09-06\n",
    "\n",
    "## Topics\n",
    "\n",
    "+ Astronomical images (actually, _any_ image) - what goes into a pixel?\n",
    "+ Start review of night\n",
    "+ Finish review of night\n",
    "+ Explore an artificial image"
   ]
  },
  {
   "cell_type": "markdown",
   "metadata": {
    "tags": []
   },
   "source": [
    "## What goes into the counts in a pixel? (brainstorm a bit)\n",
    "\n",
    "<!---\n",
    "+ bias\n",
    "+ read noise\n",
    "+ dark current\n",
    "+ light from the sky\n",
    "+ light from stars, etc\n",
    "--->\n",
    "<!-- + star\n",
    "+ light not from star\n",
    "    - Sun from moon, maybe indirect\n",
    "    - sky glow/light pollution\n",
    "+ Counts from energetic electrons -- called dark current\n",
    "+ Bias -- a voltage/counts added to every pixel to make sure values are greater than zero\n",
    "\n",
    "NOISE ADDED TO EACH IMAGE BY ELECTRONICS -->\n",
    "\n",
    "### Reading/lecture\n",
    "\n",
    "http://www.astropy.org/ccd-reduction-and-photometry-guide/v/dev/notebooks/01-03-Construction-of-an-artificial-but-realistic-image.html"
   ]
  },
  {
   "cell_type": "markdown",
   "metadata": {},
   "source": [
    "## Some image comparisons\n",
    "\n",
    "|  |  |  |\n",
    "| -- | -- | -- |\n",
    "| **Simulated bias** | **Single bias** | **20 bias images, combined** |\n",
    "| ![Simulated bias](media/sample-bias-simulated.png)| ![Single bias](media/sample-bias-single.png) | ![Combined bias](media/sample-bias-combined.png) |\n",
    "| **Single dark image** | **Single dark image, bias subtracted** | |\n",
    "| ![Single dark, with bias](media/sample-dark-with-bias.png) | ![Single dark, without bias](media/sample-dark-single-bias-sub.png) | |\n",
    "| **Simulated dark (no bias)** | **Single dark, no bias** | **20 dark-only, combined** |\n",
    "| ![Simulated dark image](media/sample-dark-simulated-bias-sub.png) | ![Single dark, without bias](media/sample-dark-single-bias-sub.png) | ![20 dark images combined](media/sample-dark-combined-bias-sub.png) |"
   ]
  },
  {
   "cell_type": "markdown",
   "metadata": {},
   "source": [
    "## Image background simulator\n",
    "\n",
    "The cell below will make an image simulator. You should use it to answer these questions:\n",
    "\n",
    "1. Set all sliders to their lowest value. Check/unchek the \"Hot pixels\" box to generate images. Do they change?\n",
    "2. Now increase the noise level to 10. Check/unchek the \"Hot pixels\" box to generate images. Do the images change? Why do you think that happens?\n",
    "3. Now turn up the dark current as high as it can go, and set the noise back to zero. Check/unchek the \"Hot pixels\" box to generate images. Do the images change? Why do you think that happens?"
   ]
  },
  {
   "cell_type": "code",
   "execution_count": null,
   "metadata": {},
   "outputs": [],
   "source": [
    "from ipywidgets import interactive, interact\n",
    "import numpy as np\n",
    "\n",
    "from convenience_functions import show_image\n",
    "from image_sim import read_noise, bias, dark_current, sky_background\n",
    "\n",
    "# @interact(bias_level=(1000,1200,10), dark=(0.01,1,0.01), sky_counts=(0, 300, 10),\n",
    "#           gain=(0.5, 3.0, 0.1), read=(0, 50, 2.0),\n",
    "#           exposure=(0, 300, 10))\n",
    "def complete_image(bias_level=1100, read=10.0, gain=1, dark=0.1, \n",
    "                   exposure=30, hot_pixels=True, sky_counts=200):\n",
    "    synthetic_image = np.zeros([500, 500])\n",
    "    show_image(synthetic_image + \n",
    "               read_noise(synthetic_image, read) +\n",
    "               bias(synthetic_image, bias_level, realistic=True) + \n",
    "               dark_current(synthetic_image, dark, exposure, hot_pixels=hot_pixels) +\n",
    "               sky_background(synthetic_image, sky_counts),\n",
    "               cmap='gray',\n",
    "               figsize=None)\n",
    "    \n",
    "i = interactive(complete_image, bias_level=(1000,1200,10), dark=(0.0,1,0.1), sky_counts=(0, 300, 50),\n",
    "          gain=(0.5, 3.0, 0.25), read=(0, 50, 5.0),\n",
    "          exposure=(0, 300, 30), )\n",
    "\n",
    "for kid in i.children:\n",
    "    try:\n",
    "        kid.continuous_update = False\n",
    "    except KeyError:\n",
    "        pass\n",
    "i"
   ]
  },
  {
   "cell_type": "markdown",
   "metadata": {
    "tags": []
   },
   "source": [
    "### Discussion of bias part of image"
   ]
  },
  {
   "cell_type": "code",
   "execution_count": null,
   "metadata": {},
   "outputs": [],
   "source": [
    "from IPython.display import YouTubeVideo, Image\n",
    "\n",
    "YouTubeVideo('uNx9JEXjzUw')"
   ]
  },
  {
   "cell_type": "markdown",
   "metadata": {},
   "source": [
    "### Discussion of how an individual CCD pixel works, including dark current"
   ]
  },
  {
   "cell_type": "code",
   "execution_count": null,
   "metadata": {},
   "outputs": [],
   "source": [
    "YouTubeVideo('We5IC66itJ8')"
   ]
  },
  {
   "cell_type": "markdown",
   "metadata": {},
   "source": [
    "### Discussion of dark current and sky background in image"
   ]
  },
  {
   "cell_type": "code",
   "execution_count": null,
   "metadata": {},
   "outputs": [],
   "source": [
    "YouTubeVideo('JUddkhCHt2I')"
   ]
  }
 ],
 "metadata": {
  "kernelspec": {
   "display_name": "Python 3 (ipykernel)",
   "language": "python",
   "name": "python3"
  },
  "language_info": {
   "codemirror_mode": {
    "name": "ipython",
    "version": 3
   },
   "file_extension": ".py",
   "mimetype": "text/x-python",
   "name": "python",
   "nbconvert_exporter": "python",
   "pygments_lexer": "ipython3",
   "version": "3.10.6"
  }
 },
 "nbformat": 4,
 "nbformat_minor": 4
}
