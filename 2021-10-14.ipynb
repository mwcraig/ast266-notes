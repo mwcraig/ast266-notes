{
 "cells": [
  {
   "cell_type": "markdown",
   "id": "043ed69e",
   "metadata": {},
   "source": [
    "# 2021-10-14 "
   ]
  },
  {
   "cell_type": "markdown",
   "id": "0eb9e27e",
   "metadata": {},
   "source": [
    "## More about the HR diagram\n",
    "\n",
    "+ Finish up the tutorial from last time if needed.\n",
    "+ Q&A about those with Dr. C\n",
    "+ Do the tutorials \"HR Diagram\" and \"Star Lifetime\"\n",
    "+ More Q&A\n",
    "\n",
    "## Check for template notebook `rough-color-combination`\n",
    "\n",
    "+ If it is there, run it on your data...if it is not there you are done!"
   ]
  }
 ],
 "metadata": {
  "kernelspec": {
   "display_name": "Python 3 (ipykernel)",
   "language": "python",
   "name": "python3"
  },
  "language_info": {
   "codemirror_mode": {
    "name": "ipython",
    "version": 3
   },
   "file_extension": ".py",
   "mimetype": "text/x-python",
   "name": "python",
   "nbconvert_exporter": "python",
   "pygments_lexer": "ipython3",
   "version": "3.8.3"
  }
 },
 "nbformat": 4,
 "nbformat_minor": 5
}
