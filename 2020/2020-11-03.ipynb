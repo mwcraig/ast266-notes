{
 "cells": [
  {
   "cell_type": "markdown",
   "metadata": {},
   "source": [
    "# 2022-10-27\n"
   ]
  },
  {
   "cell_type": "markdown",
   "metadata": {},
   "source": [
    "## Overview\n",
    "\n",
    "+ Magnitudes\n",
    "+ Star color"
   ]
  },
  {
   "cell_type": "markdown",
   "metadata": {},
   "source": [
    "## Magnitudes\n",
    "\n",
    "+ Originally developed by Hipparcos, who called the brightest stars magnitude 1 and the dimmest he could see magnitude 6.\n",
    "+ The magnitude system is \"backwards\" in that bigger numbers mean a fainter object.\n",
    "+ The magnitude scale is logarithmic. A difference of 5 magnitudes is a factor of 100 in brightness.\n",
    "+ There are many different kinds of magnitudes: instruments, through a filter, bolometric, calibrated..."
   ]
  },
  {
   "cell_type": "markdown",
   "metadata": {},
   "source": [
    "Formula for *instrumental* magnitude:\n",
    "\n",
    "\\begin{equation}\n",
    "m_{\\text{inst}} = -2.5 \\log_{10}{(g N_{\\text{star}}/t_{exp})}\n",
    "\\end{equation}\n",
    "\n",
    "where $g$ is the gain of the camera, $N_{\\text{star}}$ is the net counts in the star, and $t_{exp}$ is the exposure time."
   ]
  },
  {
   "cell_type": "markdown",
   "metadata": {},
   "source": [
    "### Examples\n",
    "\n",
    "1. What is the instrumental magnitude for a star with 10,000 counts and gain of 1.5 and exposure time of 30 seconds?\n",
    "1. What is the instrumental magnitude for a star with 10,000 counts and gain of 1.5 and exposure time of 60 seconds?\n",
    "1. What is the instrumental magnitude for a star with 20,000 counts and gain of 1.5 exposure time of 30 seconds?\n",
    "1. What is the instrumental magnitude for a star with 1,000,000 counts and gain of 1.5 and exposure time of 30 seconds?\n",
    "\n"
   ]
  },
  {
   "cell_type": "code",
   "execution_count": null,
   "metadata": {},
   "outputs": [],
   "source": [
    "import numpy as np\n",
    "\n",
    "-2.5 * np.log10(10000 * 1.5 / 30)"
   ]
  },
  {
   "cell_type": "markdown",
   "metadata": {},
   "source": [
    "## Open up this interactive\n",
    "\n",
    "[jupyter.mnstate.edu](http://jupyter.mnstate.edu)"
   ]
  },
  {
   "cell_type": "markdown",
   "metadata": {},
   "source": [
    "## Magnitude and color\n",
    "\n",
    "+ Is the color `B - V` positive or negative for a very red star?\n",
    "+ Is the color `B - V` positive or negative for a very blue star?"
   ]
  },
  {
   "cell_type": "code",
   "execution_count": null,
   "metadata": {},
   "outputs": [],
   "source": []
  }
 ],
 "metadata": {
  "kernelspec": {
   "display_name": "Python 3 (ipykernel)",
   "language": "python",
   "name": "python3"
  },
  "language_info": {
   "codemirror_mode": {
    "name": "ipython",
    "version": 3
   },
   "file_extension": ".py",
   "mimetype": "text/x-python",
   "name": "python",
   "nbconvert_exporter": "python",
   "pygments_lexer": "ipython3",
   "version": "3.10.5"
  }
 },
 "nbformat": 4,
 "nbformat_minor": 4
}
