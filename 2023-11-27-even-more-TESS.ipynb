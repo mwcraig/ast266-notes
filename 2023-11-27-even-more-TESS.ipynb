{
 "cells": [
  {
   "cell_type": "markdown",
   "id": "dfb0761e-5b5a-42f1-9957-1d5561ea0b63",
   "metadata": {},
   "source": [
    "# 2023-11-27 Even more TESS analysis"
   ]
  },
  {
   "cell_type": "markdown",
   "id": "085fed1c-b816-46ee-ae21-fb530aec82a6",
   "metadata": {},
   "source": [
    "## Overview\n",
    "\n",
    "+ Quick verbal check-in to see where groups are at.\n",
    "+ Extract some of the information about your transit from notebook 6\n",
    "+ If appropriate, change some of the settings in 06 and re-run it.\n",
    "+ Maybe run the EXOTIC notebook...\n"
   ]
  }
 ],
 "metadata": {
  "kernelspec": {
   "display_name": "Python 3 (ipykernel)",
   "language": "python",
   "name": "python3"
  },
  "language_info": {
   "codemirror_mode": {
    "name": "ipython",
    "version": 3
   },
   "file_extension": ".py",
   "mimetype": "text/x-python",
   "name": "python",
   "nbconvert_exporter": "python",
   "pygments_lexer": "ipython3",
   "version": "3.10.6"
  }
 },
 "nbformat": 4,
 "nbformat_minor": 5
}
