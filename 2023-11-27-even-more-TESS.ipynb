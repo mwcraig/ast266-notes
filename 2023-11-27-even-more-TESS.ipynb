{
 "cells": [
  {
   "cell_type": "markdown",
   "id": "dfb0761e-5b5a-42f1-9957-1d5561ea0b63",
   "metadata": {},
   "source": [
    "# 2023-11-27 Even more TESS analysis"
   ]
  },
  {
   "cell_type": "markdown",
   "id": "085fed1c-b816-46ee-ae21-fb530aec82a6",
   "metadata": {},
   "source": [
    "## Overview\n",
    "\n",
    "+ Quick verbal check-in to see where groups are at.\n",
    "+ Extract some of the information about your transit from notebook 6\n",
    "\n",
    "\n",
    "Different groups are at different stages, so you have didfferent things to do\n",
    "\n",
    "+ Hunter and Saffron: please work on generating the plots we need to do a TESS submission. In notebooks 1 and 3 there are buttons for generating some of those. The new notebook I just put in D2L you can download then upload to the folder you are working in for looking at comparison stars.\n",
    "\n",
    "+ Jake and Jake: Please do the photometry for the TIC object 260040728 -- same 6 notebooks you ran. onFriday, but with new data that should be clearer 😀\n",
    "\n",
    "+ Shaveen and Travis: Please  do the photometry for the TIC object 452743735 -- same 6 notebooks you ran. onFriday, but with new data that should be clearer and easier to interpret 😀\n",
    "\n",
    "+ Gabe and Kade: Gabe, please show Kade how to redo the photometry with the larger aperture. Then both start doing what Hunter and Saffron are doing.\n",
    "\n",
    "+ Chase: You pretty clearly didn't see a transit even though one was expected. Please start looking for variables in the field of view useing the \"better-variable....\" notebook in D2L. Download it, then upload to the folder you are working in, then run it. For sure look at all of the stars labelled \"TESS Target\" and note down any that seem unusual. Look at the VSX stars if you have a chance."
   ]
  },
  {
   "cell_type": "code",
   "execution_count": null,
   "id": "a0890884-930f-4922-a20e-877e5009c393",
   "metadata": {},
   "outputs": [],
   "source": []
  }
 ],
 "metadata": {
  "kernelspec": {
   "display_name": "Python 3 (ipykernel)",
   "language": "python",
   "name": "python3"
  },
  "language_info": {
   "codemirror_mode": {
    "name": "ipython",
    "version": 3
   },
   "file_extension": ".py",
   "mimetype": "text/x-python",
   "name": "python",
   "nbconvert_exporter": "python",
   "pygments_lexer": "ipython3",
   "version": "3.10.6"
  }
 },
 "nbformat": 4,
 "nbformat_minor": 5
}
