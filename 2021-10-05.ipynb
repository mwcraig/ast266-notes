{
 "cells": [
  {
   "cell_type": "markdown",
   "id": "1a76bc5f",
   "metadata": {},
   "source": [
    "# 2021-10-05"
   ]
  },
  {
   "cell_type": "markdown",
   "id": "debe3106",
   "metadata": {},
   "source": [
    "## Outline for in-class activities\n",
    "\n",
    "+ Open pull requests reviewing these nights (you can trade nights if you want):\n",
    "    - 2021-09-22: Tanner\n",
    "    - 2021-09-26: Mara\n",
    "    - 2021-09-27: Kenzi\n",
    "    - 2021-09-28: Alex\n",
    "    - 2021-10-02: Jenna (Telescope misbehaved this night)\n",
    "+ Make a folder in your jupyter folder with copies of the REDUCED images for your object. You may need to copy these from multiple nights.\n",
    "    - Talk to each other -- my understanding is that the class has calibrated 2021-09-14 and 2021-09-18 which contain many images of each object. \n",
    "+ Look at each of the reduced images and write down, in [this google sheet](https://docs.google.com/spreadsheets/d/1mTC4GJBeHQzljT1cDcLmGkoFPfgjwrqTCtLsWkSwX3s/edit?usp=sharing) (use the tab at the bottom that is for YOUR object), for each image:\n",
    "    - name of the image (copy/paste is your friend)\n",
    "    - whether anything needs to be fixed about the image or if the image needs to be left out\n",
    "        * No need to mention satellites -- they will automatically be removed when we combine\n",
    "        * Do mention things like a gradient in the image (i.e. one side of the image is brighter than the other)\n",
    "        * In some images there were clouds that make it difficult, at best, to see your object -- feel free to leave those out.\n",
    "    - what needs to be fixed in the image if something does need to be fixed\n",
    "    - 👉 Not sure how to look at the images? Use the `folder-viewer-template` notebook from `notebook-templates` 👈"
   ]
  },
  {
   "cell_type": "markdown",
   "id": "9efd3a2e",
   "metadata": {},
   "source": [
    "### Video overview"
   ]
  },
  {
   "cell_type": "code",
   "execution_count": null,
   "id": "50a3e14a",
   "metadata": {},
   "outputs": [],
   "source": [
    "from IPython.display import YouTubeVideo\n",
    "YouTubeVideo('SBmYzlOMz1s')"
   ]
  },
  {
   "cell_type": "markdown",
   "id": "9745da92",
   "metadata": {},
   "source": [
    "## Combining light images\n",
    "\n",
    "Combining images of your object is, in some ways, very similar to combining bias or dark or flat images -- you will combine by averaging (to keep noise down) but will sigma clip (to exclude satellites, etc). \n",
    "\n",
    "The one important difference is that first the images in your object need to be aligned. The telescope shifts slightly between images (and in a few cases the camera and filter wheel were rotating on the back of the telescope). \n",
    "\n",
    "There are two ways this can be done:\n",
    "\n",
    "1. The computer can look for stars in each image and use their positions to shift and/or rotate the images.\n",
    "2. The computer can use information in the header of your image about the orientation of your image and use that to align the images.\n",
    "\n",
    "We are going to use approach 2."
   ]
  },
  {
   "cell_type": "markdown",
   "id": "a8c7345a",
   "metadata": {},
   "source": [
    "### Aside: WCS\n",
    "\n",
    "When you use our image viewer to mouse over an image it displays the Right Ascension (RA) and Declination (Dec) of the point where the pixel is. The viewer can figure that out because stored in each image is a formula, essentially, for calculating coordinates from a pixel location and for converting a coordinate to a pixel location.\n",
    "\n",
    "That formula (which is technically a two dimensional matrix) is called a world coordinate system (WCS) because it translate from pixels in the image to the real world."
   ]
  },
  {
   "cell_type": "markdown",
   "id": "35af3466",
   "metadata": {},
   "source": [
    "### Steps for combining light images\n",
    "\n",
    "1. Reproject all of the images onto one image -- in other words, pick one image as a reference image and shift/rotate all of the other images so that they line up with that reference image.\n",
    "2. Combine the images in the usual way. \n",
    "\n",
    "*NOTE*: We may end up doing this a few times because we may need to subtract the sky background from each image first. We will see."
   ]
  }
 ],
 "metadata": {
  "kernelspec": {
   "display_name": "Python 3 (ipykernel)",
   "language": "python",
   "name": "python3"
  },
  "language_info": {
   "codemirror_mode": {
    "name": "ipython",
    "version": 3
   },
   "file_extension": ".py",
   "mimetype": "text/x-python",
   "name": "python",
   "nbconvert_exporter": "python",
   "pygments_lexer": "ipython3",
   "version": "3.8.3"
  }
 },
 "nbformat": 4,
 "nbformat_minor": 5
}
