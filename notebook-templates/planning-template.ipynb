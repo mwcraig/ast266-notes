{
 "cells": [
  {
   "cell_type": "markdown",
   "metadata": {},
   "source": [
    "# Observation planning EY UMa\n",
    "\n",
    "## Using astroplan to find out which nights an object is up"
   ]
  },
  {
   "cell_type": "markdown",
   "metadata": {},
   "source": [
    "This notebook focuses on two broader questions:\n",
    "\n",
    "1. Which times of year is it possible to observe the object of interest at a particular location?\n",
    "2. On a particular date, which times of night is it best to observe the object of interest?\n",
    "\n",
    "The python package [astroplan](https://astroplan.readthedocs.io) will be used to do all of the work here. As a result, much of this notebook will focus on the mechanics of how to do that rather than on background or theory.\n"
   ]
  },
  {
   "cell_type": "markdown",
   "metadata": {},
   "source": [
    "## Run, but do not modify, the code in the cell below\n",
    "\n",
    "None of the following cells will run until you have run the one below."
   ]
  },
  {
   "cell_type": "code",
   "execution_count": null,
   "metadata": {},
   "outputs": [],
   "source": [
    "# Set plotting interface\n",
    "%matplotlib inline\n",
    "import matplotlib.pyplot as plt\n",
    "from matplotlib import dates\n",
    "import numpy as np\n",
    "\n",
    "# Load a couple of things needed from astroplan\n",
    "from astroplan import Observer, FixedTarget\n",
    "from astroplan.plots import plot_airmass, plot_finder_image\n",
    "\n",
    "# And load Time from astropy\n",
    "from astropy.time import Time\n",
    "\n",
    "# Load astropy units module\n",
    "import astropy.units as u\n",
    "\n",
    "# Get the latest Earth orientation information...\n",
    "\n",
    "from astroplan import download_IERS_A\n",
    "#download_IERS_A()"
   ]
  },
  {
   "cell_type": "markdown",
   "metadata": {},
   "source": [
    "## Plotting visibility over one night\n",
    "\n",
    "To see where an object will be over the course of a night, we need to let the computer know three things:\n",
    "\n",
    "+ Where the observatory is\n",
    "+ Where the object is (uses the coordinates from earlier this week)\n",
    "+ When we want to know the object's location (uses times from previous class)"
   ]
  },
  {
   "cell_type": "markdown",
   "metadata": {},
   "source": [
    "### Where the observatory is\n",
    "\n",
    "Visibility depends on location, so the first step is to provide the location of the observatory. Notice that the longitude is given as degrees *east*; it should be a number between 0 and 360."
   ]
  },
  {
   "cell_type": "code",
   "execution_count": null,
   "metadata": {},
   "outputs": [],
   "source": [
    "feder = Observer(latitude=\"46.86678d\", longitude=\"263.54672d\")"
   ]
  },
  {
   "cell_type": "markdown",
   "metadata": {},
   "source": [
    "### Where the object is\n",
    "\n",
    "The \"`FixedTarget`\" object below is bascially like a `SkyCoord`. It turns out you don't have to type in the coordinates by hand in many cases -- the software can look them up for you from the name.\n",
    "\n",
    "\n",
    "*Note:* Everything done below can be done for either a single object, as below, or for several objects at once. As a first example we will stick to one object, but an example with a couple of objects will be included at the end."
   ]
  },
  {
   "cell_type": "code",
   "execution_count": null,
   "metadata": {},
   "outputs": [],
   "source": [
    "my_object = FixedTarget.from_name('M45')"
   ]
  },
  {
   "cell_type": "markdown",
   "metadata": {},
   "source": [
    "### What time are we interested in?\n",
    "\n",
    "For this example we will put in midnight tonight. At midnight the date changes, so in our time zone midnight tonight is Sep 2, 12:00 AM; on a 24 hour clock this is Sep 2, 00:00:00.\n",
    "\n",
    "To get to UTC we add 5 hours during daylight savings time."
   ]
  },
  {
   "cell_type": "markdown",
   "metadata": {},
   "source": [
    "👇👇"
   ]
  },
  {
   "cell_type": "code",
   "execution_count": null,
   "metadata": {},
   "outputs": [],
   "source": [
    "obs_time = Time(\"\", scale='utc')"
   ]
  },
  {
   "cell_type": "markdown",
   "metadata": {},
   "source": [
    "### Plot the visibility"
   ]
  },
  {
   "cell_type": "code",
   "execution_count": null,
   "metadata": {},
   "outputs": [],
   "source": [
    "plot_airmass(my_object, feder, obs_time, brightness_shading=True, altitude_yaxis=True)\n",
    "plt.grid()\n",
    "plt.title(my_object.name)"
   ]
  },
  {
   "cell_type": "markdown",
   "metadata": {},
   "source": [
    "### Definitions of Altitude and Airmass\n",
    "\n",
    "+ **Altitude**: How far, in degrees, an object is above the horizon. Straight up is $90^\\circ$ and the horizon is $0^\\circ$.\n",
    "\n",
    "+ **Airmass**: A measure of how much atmosphere is between the telescope and space. We will work only with *relative* airmass, which is 1.0 for an object straight up and gets bigger as the object gets lower on the horizon."
   ]
  },
  {
   "cell_type": "markdown",
   "metadata": {},
   "source": [
    "## Plot airmass over a large range of dates to make a rough choice of night\n",
    "\n",
    "The cell immediately below this generates a list of dates, 5 days apart from each other, covering 365 days."
   ]
  },
  {
   "cell_type": "code",
   "execution_count": null,
   "metadata": {},
   "outputs": [],
   "source": [
    "times = obs_time + np.arange(0, 365, 5) * u.day"
   ]
  },
  {
   "cell_type": "code",
   "execution_count": null,
   "metadata": {},
   "outputs": [],
   "source": [
    "ax = plot_airmass(my_object, feder, times, altitude_yaxis=True)\n",
    "plt.title('target visibility at 11PM or 12AM local time'.format(my_object.name))\n",
    "\n",
    "plt.grid()\n",
    "\n",
    "# Code below adds date to the horizontal axis\n",
    "date_formatter = dates.DateFormatter('%D %H:%M')\n",
    "ax.xaxis.set_major_formatter(date_formatter)"
   ]
  },
  {
   "cell_type": "markdown",
   "metadata": {},
   "source": [
    "## Revising the plan\n",
    "\n",
    "From the graph above it is clear that an obsevrvation date between roughly the middle of March to the beginning of July would be better than September.\n",
    "\n",
    "The plot below shows visibility over the night of April 1, 2024 at 11:59 CST. That is April **2**, 2023 at 04:59 UTC."
   ]
  },
  {
   "cell_type": "code",
   "execution_count": null,
   "metadata": {},
   "outputs": [],
   "source": [
    "obs_time = Time(\"2024-04-02 04:59:00\", scale='utc')"
   ]
  },
  {
   "cell_type": "code",
   "execution_count": null,
   "metadata": {},
   "outputs": [],
   "source": [
    "ax = plot_airmass(my_object, feder, obs_time, brightness_shading=True, altitude_yaxis=True)\n",
    "plt.grid()\n",
    "plt.title(my_object.name)"
   ]
  },
  {
   "cell_type": "markdown",
   "metadata": {},
   "source": [
    "It appears EY UMa will be observable from roughly 4AM UTC (10PM CST on 12/1) until the sky begins to brighten at 12:00UTC (6AM CST)"
   ]
  },
  {
   "cell_type": "markdown",
   "metadata": {},
   "source": [
    "## Creating a finding chart\n",
    "\n",
    "A finding chart is simply a picture (or diagram) of the region of the sky surrounding the object of interest. The code below generates a chart for `my_object`. You can change the options in `plot_finder_image` to turn off the reticle, which marks the object of interest, or to turn off the grid."
   ]
  },
  {
   "cell_type": "code",
   "execution_count": null,
   "metadata": {},
   "outputs": [],
   "source": [
    "plt.figure(figsize=(10, 10))\n",
    "ax, hdu = plot_finder_image(my_object, fov_radius=20 * u.arcmin, reticle=True, grid=True)"
   ]
  },
  {
   "cell_type": "code",
   "execution_count": null,
   "metadata": {},
   "outputs": [],
   "source": []
  }
 ],
 "metadata": {
  "kernelspec": {
   "display_name": "Python 3 (ipykernel)",
   "language": "python",
   "name": "python3"
  },
  "language_info": {
   "codemirror_mode": {
    "name": "ipython",
    "version": 3
   },
   "file_extension": ".py",
   "mimetype": "text/x-python",
   "name": "python",
   "nbconvert_exporter": "python",
   "pygments_lexer": "ipython3",
   "version": "3.10.6"
  }
 },
 "nbformat": 4,
 "nbformat_minor": 4
}
