{
 "cells": [
  {
   "cell_type": "markdown",
   "id": "4781c0a8-f414-45c4-bb28-69176f4b623f",
   "metadata": {},
   "source": [
    "# 2023-11-15 Getting data for TESS"
   ]
  },
  {
   "cell_type": "markdown",
   "id": "f9de1194-8c0a-431f-ac6b-dae216bac6ce",
   "metadata": {},
   "source": [
    "## Where to find your images \n",
    "\n",
    "Go to `calibrated-nights/TIC-objects-2023`"
   ]
  },
  {
   "cell_type": "markdown",
   "id": "89abb12d-2cf5-4f39-87c7-ec030b7a91c3",
   "metadata": {},
   "source": [
    "## Night/filter assignments\n",
    "\n",
    "+ TIC object: `444753130`\n",
    "    + `gp` filter: Saffron\n",
    "    + `ip` filter: Hunter\n",
    "+ TIC object: `196474344`\n",
    "    + `gp` filter: Gabe\n",
    "    + `ip` filter: Kade\n",
    "+ TIC object: `266401846`\n",
    "    + `gp` filter: Jake V\n",
    "    + `ip` filter: Jake M\n",
    "+ TIC object: `353960022`\n",
    "    + `gp` filter: Travis\n",
    "    + `ip` filter: Shaveen\n",
    "+ TIC object: `125489084`\n",
    "    + `gp` filter: Chase \n",
    "    + `ip` filter: Mara"
   ]
  },
  {
   "cell_type": "markdown",
   "id": "78fe2ad8-8c26-4746-929e-093e10b74959",
   "metadata": {},
   "source": [
    "## What to do\n",
    "\n",
    "+ Work in your folder\n",
    "+ Go though notebooks 1-6.\n",
    "    - Check a few different images in notebook 1.\n",
    "+ Ask if you are stuck!"
   ]
  }
 ],
 "metadata": {
  "kernelspec": {
   "display_name": "Python 3 (ipykernel)",
   "language": "python",
   "name": "python3"
  },
  "language_info": {
   "codemirror_mode": {
    "name": "ipython",
    "version": 3
   },
   "file_extension": ".py",
   "mimetype": "text/x-python",
   "name": "python",
   "nbconvert_exporter": "python",
   "pygments_lexer": "ipython3",
   "version": "3.10.6"
  }
 },
 "nbformat": 4,
 "nbformat_minor": 5
}
