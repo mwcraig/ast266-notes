{
 "cells": [
  {
   "cell_type": "markdown",
   "metadata": {},
   "source": [
    "# 2022-09-06\n",
    "\n",
    "## Topics\n",
    "\n",
    "+ Astronomical images (actually, _any_ image) - what goes into a pixel?\n",
    "+ Start review of night\n",
    "+ Finish review of night\n",
    "+ Explore an artificial image and answer questions belo"
   ]
  },
  {
   "cell_type": "markdown",
   "metadata": {
    "tags": []
   },
   "source": [
    "## What goes into the counts in a pixel? (brainstorm a bit)\n",
    "\n",
    "<!---\n",
    "+ bias\n",
    "+ read noise\n",
    "+ dark current\n",
    "+ light from the sky\n",
    "+ light from stars, etc\n",
    "--->\n",
    "+ star\n",
    "+ light not from star\n",
    "    - Sun from moon, maybe indirect\n",
    "    - sky glow/light pollution\n",
    "+ Counts from energetic electrons -- called dark current\n",
    "+ Bias -- a voltage/counts added to every pixel to make sure values are greater than zero\n",
    "\n",
    "NOISE ADDED TO EACH IMAGE BY ELECTRONICS\n",
    "\n",
    "### Reading/lecture\n",
    "\n",
    "http://www.astropy.org/ccd-reduction-and-photometry-guide/v/dev/notebooks/01-03-Construction-of-an-artificial-but-realistic-image.html"
   ]
  },
  {
   "cell_type": "markdown",
   "metadata": {},
   "source": [
    "## Review a night of data\n",
    "\n",
    "This will give some experience with what a typical calibration image looks like.\n",
    "\n",
    "1. Go to https://github.com/signup and create a free GitHub acount or log in if you already have an account\n",
    "1. Go to https://github.com/feder-observatory/processed_images/issues\n",
    "2. You will be assigned an issue to work on"
   ]
  },
  {
   "cell_type": "markdown",
   "metadata": {
    "tags": []
   },
   "source": [
    "### Discussion of bias part of image"
   ]
  },
  {
   "cell_type": "code",
   "execution_count": null,
   "metadata": {},
   "outputs": [],
   "source": [
    "from IPython.display import YouTubeVideo, Image\n",
    "\n",
    "YouTubeVideo('uNx9JEXjzUw')"
   ]
  },
  {
   "cell_type": "markdown",
   "metadata": {},
   "source": [
    "### Discussion of how an individual CCD pixel works, including dark current"
   ]
  },
  {
   "cell_type": "code",
   "execution_count": null,
   "metadata": {},
   "outputs": [],
   "source": [
    "YouTubeVideo('We5IC66itJ8')"
   ]
  },
  {
   "cell_type": "markdown",
   "metadata": {},
   "source": [
    "### Discussion of dark current and sky background in image"
   ]
  },
  {
   "cell_type": "code",
   "execution_count": null,
   "metadata": {},
   "outputs": [],
   "source": [
    "YouTubeVideo('JUddkhCHt2I')"
   ]
  }
 ],
 "metadata": {
  "kernelspec": {
   "display_name": "Python 3 (ipykernel)",
   "language": "python",
   "name": "python3"
  },
  "language_info": {
   "codemirror_mode": {
    "name": "ipython",
    "version": 3
   },
   "file_extension": ".py",
   "mimetype": "text/x-python",
   "name": "python",
   "nbconvert_exporter": "python",
   "pygments_lexer": "ipython3",
   "version": "3.10.5"
  }
 },
 "nbformat": 4,
 "nbformat_minor": 4
}
