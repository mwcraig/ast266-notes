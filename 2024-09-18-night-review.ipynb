{
 "cells": [
  {
   "cell_type": "markdown",
   "metadata": {},
   "source": [
    "# 2024-09-18\n",
    "\n",
    "## Topics\n",
    "\n",
    "+ Review of night of data "
   ]
  },
  {
   "cell_type": "markdown",
   "metadata": {},
   "source": [
    "## Review a night of data\n",
    "\n",
    "This will give some experience with what a typical calibration image looks like.\n",
    "\n",
    "1. Go to https://github.com/signup and create a free GitHub acount or log in if you already have an account\n",
    "1. Go to https://github.com/feder-observatory/processed_images/issues\n",
    "2. You will be assigned an issue to work on"
   ]
  },
  {
   "attachments": {},
   "cell_type": "markdown",
   "metadata": {},
   "source": [
    "## Night assignments\n",
    "\n",
    "+ Carly:\t2024-08-31\n",
    "+ Broden:\t2024-08-18\n",
    "+ Hannah:\t2024-05-28\n",
    "+ Adreana:\t2024-09-15\n",
    "+ George:\t2024-09-05\n",
    "+ Kenna:\t2024-06-09\n",
    "+ Matt:\t2024-05-31\n",
    "+ Thomas:\t2024-06-11\n",
    "+ Adien:\t2024-09-06\n",
    "+ Ariana:\t2024-09-08 \n",
    "+ David:\t2024-08-30\n",
    "+ Katelyn:\t2024-08-10"
   ]
  },
  {
   "cell_type": "markdown",
   "metadata": {},
   "source": [
    "## Get ready to calibrate the data\n",
    "\n",
    "1. Go to your `jupyter` folder\n",
    "1. Go into `calibrated-nights`\n",
    "1. Make a folder for your night of data, e.g. `2023-10-28-calibrated`"
   ]
  }
 ],
 "metadata": {
  "kernelspec": {
   "display_name": "Python 3 (ipykernel)",
   "language": "python",
   "name": "python3"
  },
  "language_info": {
   "codemirror_mode": {
    "name": "ipython",
    "version": 3
   },
   "file_extension": ".py",
   "mimetype": "text/x-python",
   "name": "python",
   "nbconvert_exporter": "python",
   "pygments_lexer": "ipython3",
   "version": "3.12.5"
  }
 },
 "nbformat": 4,
 "nbformat_minor": 4
}
