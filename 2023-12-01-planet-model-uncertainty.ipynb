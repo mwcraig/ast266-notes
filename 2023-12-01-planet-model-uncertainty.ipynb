{
 "cells": [
  {
   "cell_type": "markdown",
   "id": "f7dbc002-70a1-4f00-9ed2-a4e45127bad7",
   "metadata": {},
   "source": [
    "# 2023-12-01 What is uncertainty (also called error or precision) in science?"
   ]
  },
  {
   "cell_type": "markdown",
   "id": "4e7e7e6f-0fd0-4eab-84b8-1c1af20fbe10",
   "metadata": {},
   "source": [
    "## Overview\n",
    "\n",
    "Any scientific result should be presented as a measured value and estimated uncertainty in that value. There are multiple ways to think about the uncertainty, depending on the circumstances. \n",
    "\n",
    "It is almost never correct to think about it as an \"error\" -- that implies it is something you can fix if you just try harder. If that is the case you should really just try harder before reporting the result.\n",
    "\n",
    "There are two fairly common cases that are useful to think about:\n",
    "\n",
    "+ You are measuring a process that is truly random. No matter how good your equipment is you will measure a diffferent value every time. In this case it is useful to think about the uncertainty as expressing the range of values you should expect to see if you repeat the experiment. An example of this is measuring the flux from a star: it is a random variable and you would measure a different value each time even if circumstances were identical.\n",
    "+ There is a limit on the precision of what you can measure. In this case, future measurements might be better than what you can do now. In this case it is useful to think about the uncertainty as expression the range of values consistent with the precision with which you can measure that thing. An example of this from astronomy is time: we can measure time much more precisely now than we could 100 years ago.\n",
    "\n",
    "### One goal for today: get a sense of uncertainty in measuring exoplanet properties"
   ]
  },
  {
   "cell_type": "markdown",
   "id": "d210da2b-6f50-46c9-af0f-2a307f2749c4",
   "metadata": {},
   "source": [
    "## Run the wall of code below -- it is a transit measurement for TIC 402828941"
   ]
  },
  {
   "cell_type": "code",
   "execution_count": null,
   "id": "e3842aed-c208-438c-b17a-9b897a4c13fe",
   "metadata": {
    "tags": []
   },
   "outputs": [],
   "source": [
    "%matplotlib widget\n",
    "\n",
    "from astropy.table import Table \n",
    "from astropy.time import Time\n",
    "from astropy.timeseries import TimeSeries, aggregate_downsample\n",
    "from astropy import units as u\n",
    "\n",
    "import ipywidgets as ipw\n",
    "import mpl_interactions.ipyplot as iplt\n",
    "import matplotlib.pyplot as plt\n",
    "import numpy as np\n",
    "import batman\n"
   ]
  },
  {
   "cell_type": "code",
   "execution_count": null,
   "id": "19b94580-1ab2-4753-9099-07dff5e70af9",
   "metadata": {
    "tags": []
   },
   "outputs": [],
   "source": [
    "tab = Table.read('TIC-402828941-2022-08-04-transformed-relative-flux.csv')\n",
    "tic = tab[tab['star_id'] == 1]\n",
    "t_mean = tic['BJD'].mean()\n",
    "\n",
    "t_ob = Time(tic['BJD'], scale='tdb', format='jd')"
   ]
  },
  {
   "cell_type": "code",
   "execution_count": null,
   "id": "3bef22c2-27e3-4360-84e2-fbdda569dc16",
   "metadata": {
    "tags": []
   },
   "outputs": [],
   "source": [
    "bad_beginning = t_ob < t_ob[0] + 15 * u.min\n",
    "\n",
    "tic = tic[~bad_beginning]\n",
    "t_ob = t_ob[~bad_beginning]\n",
    "\n",
    "after_transit = t_ob.jd > 2459795.85\n",
    "\n",
    "norm_fac = 1 / tic['relative_flux'][after_transit].mean()\n",
    "\n",
    "\n",
    "tic['relative_flux'] *= norm_fac"
   ]
  },
  {
   "cell_type": "code",
   "execution_count": null,
   "id": "a28da7c6-7a3f-4d14-a0eb-84c6eaafe27f",
   "metadata": {
    "tags": []
   },
   "outputs": [],
   "source": [
    "\n",
    "ts = TimeSeries([tic['relative_flux']], time=t_ob)\n",
    "\n",
    "bts = aggregate_downsample(ts, time_bin_size=10 * u.min)"
   ]
  },
  {
   "cell_type": "code",
   "execution_count": null,
   "id": "63b88a43-fbfb-4d51-9a65-a7aeb58835a3",
   "metadata": {},
   "outputs": [],
   "source": [
    "params = batman.TransitParams()\n",
    "\n",
    "params.t0 = t_mean                        #time of inferior conjunction\n",
    "params.per = 1.                       #orbital period\n",
    "params.rp = 0.1                       #planet radius (in units of stellar radii)\n",
    "params.a = 15.                        #semi-major axis (in units of stellar radii)\n",
    "params.inc = 87.                      #orbital inclination (in degrees)\n",
    "params.ecc = 0.                       #eccentricity\n",
    "params.w = 90.                        #longitude of periastron (in degrees)\n",
    "params.limb_dark = \"quadratic\"        #limb darkening model\n",
    "params.u = [0.1, 0.1]      #limb darkening coefficients [u1, u2, u3, u4]\n",
    "\n",
    "t = t_mean + np.linspace(-0.2, 0.2, 1000)  #times at which to calculate light curve\n",
    "m = batman.TransitModel(params, t)    #initializes model"
   ]
  },
  {
   "cell_type": "code",
   "execution_count": null,
   "id": "6da796c3-f4d7-430e-8c66-5f22ba470094",
   "metadata": {
    "tags": []
   },
   "outputs": [],
   "source": [
    "def make_set_vals(controls, vals):\n",
    "    def set_vals(change):\n",
    "        rp = controls.controls['planet_radius'].children[1].value\n",
    "        semi_major = controls.controls['semi_major_axis'].children[1].value\n",
    "        t0_shift = controls.controls['t0_shift'].children[1].value\n",
    "        depth = 1 - m.light_curve(params).min()\n",
    "        duration = t[m.light_curve(params) < 1]\n",
    "        duration = (duration[-1] - duration[0]) * 24\n",
    "        vals.value = (f'<b>R_p/R_*</b> = {rp}</br>'\n",
    "                      f'<b>a/R_*</b> = {semi_major}</br>'\n",
    "                      f'<b>depth</b> = {depth:.4f} ({1000 * depth:.1f} ppt)({1e6 * depth:.0f} ppm)</br>'\n",
    "                      f'<b>duration</b> = {duration:.2f} hours</br>'\n",
    "                      f'<b>T_c</b> = {t_mean + float(t0_shift):.5f}')\n",
    "        \n",
    "    return set_vals"
   ]
  },
  {
   "cell_type": "code",
   "execution_count": null,
   "id": "0ef6ee24-fda9-436e-8751-2ea3b8b911b6",
   "metadata": {
    "tags": []
   },
   "outputs": [],
   "source": [
    "def f3(t, planet_radius, semi_major_axis, t0_shift):\n",
    "    params.rp = planet_radius\n",
    "    params.a = semi_major_axis\n",
    "    params.t0 = t_mean + t0_shift\n",
    "    return m.light_curve(params)\n",
    "\n",
    "\n",
    "def f_data(t):\n",
    "    return tic['relative_flux']\n",
    "\n",
    "def f_bin_data(t):\n",
    "    return bts['relative_flux']\n",
    "\n",
    "fig, ax = plt.subplots()\n",
    "controls = iplt.plot(t, f3, \n",
    "                     planet_radius=np.linspace(0.01, 0.2, 100), \n",
    "                     semi_major_axis=np.linspace(1.5, 10, 100), \n",
    "                     t0_shift=np.linspace(-0.1, 0.1, 100),\n",
    "                     label=\"Transit model\")\n",
    "\n",
    "vals = ipw.HTML(value='Transit parameters')\n",
    "\n",
    "set_v = make_set_vals(controls, vals)\n",
    "\n",
    "for control in controls.controls.values():\n",
    "    label = control.children[1]\n",
    "    label.observe(set_v, names='value')\n",
    "    \n",
    "_ = iplt.plot(tic['BJD'], f_data, '.', color='red', alpha=0.3, label='all data')\n",
    "\n",
    "_ = iplt.plot(bts.time_bin_center.jd, f_bin_data, '.', color='green', label='binned data')\n",
    "\n",
    "_ = plt.legend()\n",
    "plt.xlabel('Time (BJD_TDB)')\n",
    "plt.ylabel('Relative flux')\n",
    "plt.grid()\n",
    "vals"
   ]
  },
  {
   "cell_type": "markdown",
   "id": "a5261d95-c1a4-4611-8c53-9a039b7e9d8a",
   "metadata": {},
   "source": [
    "## What to do\n",
    "\n",
    "\n",
    "### Interactive graph\n",
    "\n",
    "+ Adjust the sliders until the blue curve, which represents a mathematical model of a transit, matches the data points reasonably well\n",
    "+ Write the values you get for the parameters below on the clipboard at the front of the class:\n",
    "    - R_p/R_*\n",
    "    - a/R_*\n",
    "    - depth\n",
    "    - duration\n",
    "    - T_C \n",
    "+ Find at least one additional set of parameters (slider values) that you think fits the data about as well as the first set you chose.\n",
    "\n",
    "### Compare your parameters with the \"official\" values\n",
    "\n",
    "+ You can look up the parameters by going to this site: https://exofop.ipac.caltech.edu/tess/target.php?id=402828941\n"
   ]
  },
  {
   "cell_type": "code",
   "execution_count": null,
   "id": "fb8ba805-234d-4f55-a2bf-0cf8c9db8d15",
   "metadata": {},
   "outputs": [],
   "source": []
  }
 ],
 "metadata": {
  "kernelspec": {
   "display_name": "Python 3 (ipykernel)",
   "language": "python",
   "name": "python3"
  },
  "language_info": {
   "codemirror_mode": {
    "name": "ipython",
    "version": 3
   },
   "file_extension": ".py",
   "mimetype": "text/x-python",
   "name": "python",
   "nbconvert_exporter": "python",
   "pygments_lexer": "ipython3",
   "version": "3.11.5"
  }
 },
 "nbformat": 4,
 "nbformat_minor": 5
}
