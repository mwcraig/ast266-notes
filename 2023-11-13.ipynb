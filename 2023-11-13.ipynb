{
 "cells": [
  {
   "cell_type": "markdown",
   "id": "e9d1c21f-c9a2-47eb-8860-87a0de98b95c",
   "metadata": {},
   "source": [
    "# 2023-11-13"
   ]
  },
  {
   "cell_type": "markdown",
   "id": "169bd80f-e19f-468c-bc6d-00f8d4de4b14",
   "metadata": {},
   "source": [
    "## Open notebook 06 for the practice exoplanet night\n",
    "\n",
    "Run the entire notebook."
   ]
  },
  {
   "cell_type": "markdown",
   "id": "1bb8cfb3-7064-4558-a1f1-256df5fb9588",
   "metadata": {},
   "source": [
    "## Explore this interactive\n",
    "\n",
    "[http://jupyter.mnstate.edu](http://jupyter.mnstate.edu)\n",
    "\n",
    "\n",
    "## Go to \"Exoplanet System Simulation Interactive\"\n",
    "\n",
    "Answer these questions:\n",
    "\n",
    "1. What does the *inclination* need to be to detect a transit?\n",
    "\n",
    "    Near 90$\\circ$ so that planet actually passes between us and the star.\n",
    "\n",
    "1. How does change the *radius* of the planet affect the light curve? You cannot change the radius directly -- instead change the *mass* of the planet.\n",
    "\n",
    "    Decreasing radius of planet makes red line move faster. Dip gets deeper when planet gets bigger. \n",
    "    \n",
    "1. Why does the planet radius affect the light curve in that way?\n",
    "\n",
    "    Bigger planet blocks more starlight.\n",
    "    \n",
    "1. How does moving the planet closer to the star change the light curve? Why does the light ccurve change that way?\n",
    "\n",
    "    Moving planet closer changes width, makes dip wider.\n",
    "\n",
    "1. Why isn't there a dip in the light curve when the planet goes behind the star?"
   ]
  },
  {
   "cell_type": "markdown",
   "id": "323db9ef-48a7-45ee-a8aa-783b284d5630",
   "metadata": {},
   "source": [
    "## Now try this interactive plot"
   ]
  },
  {
   "cell_type": "code",
   "execution_count": null,
   "id": "823e7175-5bd0-44d7-9ea8-19c620d122aa",
   "metadata": {},
   "outputs": [],
   "source": [
    "%matplotlib widget\n",
    "\n",
    "import mpl_interactions.ipyplot as iplt\n",
    "import matplotlib.pyplot as plt\n",
    "import numpy as np\n",
    "import batman\n"
   ]
  },
  {
   "cell_type": "code",
   "execution_count": null,
   "id": "3d68b8d2-bf9b-4bf0-9bcb-b112cd4d7379",
   "metadata": {},
   "outputs": [],
   "source": [
    "params = batman.TransitParams()\n",
    "\n",
    "params.t0 = 0.                        #time of inferior conjunction\n",
    "params.per = 1.                       #orbital period\n",
    "params.rp = 0.1                       #planet radius (in units of stellar radii)\n",
    "params.a = 15.                        #semi-major axis (in units of stellar radii)\n",
    "params.inc = 87.                      #orbital inclination (in degrees)\n",
    "params.ecc = 0.                       #eccentricity\n",
    "params.w = 90.                        #longitude of periastron (in degrees)\n",
    "params.limb_dark = \"quadratic\"        #limb darkening model\n",
    "params.u = [0.1, 0.1]      #limb darkening coefficients [u1, u2, u3, u4]\n",
    "\n",
    "t = np.linspace(-0.025, 0.025, 1000)  #times at which to calculate light curve\n",
    "m = batman.TransitModel(params, t)    #initializes model"
   ]
  },
  {
   "cell_type": "code",
   "execution_count": null,
   "id": "fcc4b363-42b6-430a-bf50-f857b3dd043b",
   "metadata": {
    "tags": []
   },
   "outputs": [],
   "source": [
    "def f3(t, planet_radius, semi_major_axis):\n",
    "    params.rp = planet_radius\n",
    "    params.a = semi_major_axis\n",
    "    return m.light_curve(params)\n",
    "\n",
    "\n",
    "fig, ax = plt.subplots()\n",
    "controls = iplt.plot(t, f3, planet_radius=np.linspace(0.01, 0.2, 20), semi_major_axis=np.linspace(2, 25, 100), label=\"Transit curve\")\n",
    "#iplt.plot(x, f2, controls=controls, label=\"f2\")\n",
    "_ = plt.legend()\n",
    "plt.grid()\n",
    "plt.show()"
   ]
  }
 ],
 "metadata": {
  "kernelspec": {
   "display_name": "Python 3 (ipykernel)",
   "language": "python",
   "name": "python3"
  },
  "language_info": {
   "codemirror_mode": {
    "name": "ipython",
    "version": 3
   },
   "file_extension": ".py",
   "mimetype": "text/x-python",
   "name": "python",
   "nbconvert_exporter": "python",
   "pygments_lexer": "ipython3",
   "version": "3.10.6"
  }
 },
 "nbformat": 4,
 "nbformat_minor": 5
}
