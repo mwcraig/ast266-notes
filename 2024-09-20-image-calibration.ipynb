{
 "cells": [
  {
   "cell_type": "markdown",
   "id": "362afeab-2f6e-403c-bc3d-39afd6500366",
   "metadata": {},
   "source": [
    "# 2024-09-20 Image calibration "
   ]
  },
  {
   "cell_type": "markdown",
   "id": "0e8fd444-0004-4b36-ba47-3c96a4437cd7",
   "metadata": {},
   "source": [
    "+ You should have created a folder calleed \"sample-calibrated\" inside your \"jupyter\" folder. That is where the calibrated images you make will end up. **It is important that this be inside your \"jupyter\" folder -- that is the place on the server with enough space to hold the calibrated images.**\n",
    "\n",
    "+ Create a \"Image calibration\" notebook inside your \"sample-calibrated\" folder if you don't already have one.\n",
    "\n",
    "+ The settings you will need are here: https://astro-research-setup.readthedocs.io/en/latest/calibration/camera-apogee-alta-cg16m/ \n",
    "\n",
    "+ The uncalibrated images are in \"uncalibrated-nights/sample-for-reduction\"\n",
    "\n",
    "+ One of the questions on the next homework asks you the turn a screenshot of one of your calibrated images of NGC891."
   ]
  },
  {
   "cell_type": "markdown",
   "id": "d1da4ca6-a431-49c2-aa92-585bd03deefd",
   "metadata": {},
   "source": [
    "#### (had server problems today)"
   ]
  }
 ],
 "metadata": {
  "kernelspec": {
   "display_name": "Python 3 (ipykernel)",
   "language": "python",
   "name": "python3"
  },
  "language_info": {
   "codemirror_mode": {
    "name": "ipython",
    "version": 3
   },
   "file_extension": ".py",
   "mimetype": "text/x-python",
   "name": "python",
   "nbconvert_exporter": "python",
   "pygments_lexer": "ipython3",
   "version": "3.12.5"
  }
 },
 "nbformat": 4,
 "nbformat_minor": 5
}
