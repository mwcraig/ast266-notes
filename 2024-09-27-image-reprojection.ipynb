{
 "cells": [
  {
   "cell_type": "markdown",
   "id": "362afeab-2f6e-403c-bc3d-39afd6500366",
   "metadata": {},
   "source": [
    "# 2024-09-27 Image reprojection "
   ]
  },
  {
   "cell_type": "markdown",
   "id": "0e8fd444-0004-4b36-ba47-3c96a4437cd7",
   "metadata": {},
   "source": [
    "Today we will take the next steps towards making our color image.\n",
    "\n",
    "+ Go to your upyter folder → `calibrated-nights` → `color-images-2024` → folder for your object\n",
    "+ Open the launcher\n",
    "+ Open an \"Image viewers\" notebook\n",
    "+ Look through your images and delete any ones you do not want to include"
   ]
  },
  {
   "cell_type": "code",
   "execution_count": null,
   "id": "4dc3d0b0-1cc2-4ee7-b3a8-882ba3af1f99",
   "metadata": {},
   "outputs": [],
   "source": []
  }
 ],
 "metadata": {
  "kernelspec": {
   "display_name": "Python 3 (ipykernel)",
   "language": "python",
   "name": "python3"
  },
  "language_info": {
   "codemirror_mode": {
    "name": "ipython",
    "version": 3
   },
   "file_extension": ".py",
   "mimetype": "text/x-python",
   "name": "python",
   "nbconvert_exporter": "python",
   "pygments_lexer": "ipython3",
   "version": "3.12.5"
  }
 },
 "nbformat": 4,
 "nbformat_minor": 5
}
