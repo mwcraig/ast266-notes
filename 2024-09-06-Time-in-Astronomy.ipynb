{
 "cells": [
  {
   "cell_type": "markdown",
   "metadata": {},
   "source": [
    "# 2024-09-06\n",
    "\n",
    "+ Times in astronomy "
   ]
  },
  {
   "cell_type": "markdown",
   "metadata": {},
   "source": [
    "## Time scales in astronomy"
   ]
  },
  {
   "cell_type": "markdown",
   "metadata": {},
   "source": [
    "The formal definition of these scales are maintained by the International Astronomical Union [Standards of Fundamental Astronomy](http://www.iausofa.org/) (SOFA). The document [SOFA Time Scale and Calendar Tools](http://www.iausofa.org/sofa_ts_c.pdf), sections 2 and 3 are particularly helpful if you want a brief, high-level summary of the time scales, and this overview draws heavily on them."
   ]
  },
  {
   "cell_type": "markdown",
   "metadata": {},
   "source": [
    "### Big picture: several time scales\n",
    "\n",
    "The sheer number of time scales used in astronomy is intimidating; the diagram below, from the [astropy time documentation](http://astropy.readthedocs.io/en/stable/time/index.html), shows all seven of them (the blue boxes):\n",
    "\n",
    "![Time scales and relationships](media/time_scale_conversion.png)\n",
    "\n",
    "Different time _scales_ keep track of time in different ways and at different rates.\n",
    "\n",
    "Two of these time scales matter to us:\n",
    "\n",
    "+ **UTC** is the time used by computers; it is the time in Greenwich, England. It is a combination of atomic clock time with \"leap seconds\" added occasionally to keep midnight roughly at the same time during the night. \n",
    "+ **TDB** is atomic clock time, with some offsets to account for relativistic effects. It is especially important for precise time measurements."
   ]
  },
  {
   "cell_type": "markdown",
   "metadata": {},
   "source": [
    "### Time formats\n",
    "\n",
    "\n",
    "There are several formats for representing times. For example, \"June 30, 1994 11:59:59PM\" and \"1994-06-30 23:59:59\" are both ways of writing the same time. A good list of commont formats is in the [astropy documentation for time formats](http://astropy.readthedocs.io/en/stable/time/index.html#time-format).\n",
    "\n",
    "One common format, ISOT, is this: `1994-06-30T23:59:59`. Note that the order of items in the date is always YEAR-MONTH-DAY, that month and day are always two digits, and that the time is on a 24-clock.\n",
    "\n",
    "Here are several equivalent ways to write this same time:\n",
    "\n",
    "+ ISO format: `1994-06-30 23:59:59`\n",
    "+ Julian day: `2449534.499976852`\n",
    "+ Julian year: `1994.4955509290955`\n",
    "+ GPS: `457056008.0`\n",
    "\n",
    "Happily, we will primarily use only a couple of formats: ISOT and Julian day (jd), and there is software that convert a time to any other format we might need."
   ]
  },
  {
   "cell_type": "markdown",
   "metadata": {},
   "source": [
    "### Julian Date and Modified Julian Date\n",
    "\n",
    "Julian date is the number of days that have elapsed since noon on a particular day about 7,000 years ago. Times are included as a fraction of a day. \n",
    "\n",
    "Different time scales (like UT1 and TAI) can have days that correspond to diferent amounts of time, so when a Julian date is used it should be made clear what time scale it is on.\n",
    "\n",
    "One important time scale, UTC, should NOT be converted directly to a Julian date because the number of seconds in a day in UTC depends on the day. Most days it is 86,400 but the day is one second longer or shorter on UTC leap second days.\n",
    "\n",
    "To repeat, **do not express a time on the UTC scale as a Julian date**. Convert to a different scale first, then be explicit about which time scale you are using when you write a Julian date.\n",
    "\n",
    "#### Modified Julian date\n",
    "\n",
    "The JD has a couple of oddities:\n",
    "\n",
    "+ The day starts at noon, not midnight.\n",
    "+ There have been over 2.4 million days since the designated start of the Julian date system, so it is easy to unintentionally round a Julian date when it is represented in a computer.\n",
    "\n",
    "The modified Julian date (MJD) is the Julian data minus 2,400,000.5. The decimal part shifts the MJD to begin at midnight instead of noon, and subtracting off 2.4 million makes it easier to represent the date on a computer.\n",
    "\n",
    "As with the JD, one should clearly indicate the time scale used when providing a MJD, and UTC is **not** an approporiate time scale."
   ]
  },
  {
   "cell_type": "markdown",
   "metadata": {},
   "source": [
    "### Software for converting between time scales and formats\n",
    "\n",
    "Two options:\n",
    "\n",
    "1. The example below illustrates using [astropy](http://astropy.org) to do time conversions. Very detailed documentation for astropy's `Time` class is [here](https://docs.astropy.org/en/stable/time/index.html#), but you may find it overwhelming if you are new to python. \n",
    "\n",
    "3. Google. Not the best for doing science but great when you just need a number quickly.\n",
    "\n",
    "The examples below walk through some of the basic uses."
   ]
  },
  {
   "cell_type": "markdown",
   "metadata": {},
   "source": [
    "### How to run these code examples\n",
    "\n",
    "You can simply read this notebook without running any of the code. If you want to try the code, feel free to modify the cells and run them.\n",
    "\n",
    "The program in each cell can be run by:\n",
    "\n",
    "+ Clicking in the cell with the mouse, then\n",
    "+ Holding down the shift key and pushing `Enter`.\n",
    "\n",
    "Interspersed with the code below are several exercises. Give them a try!\n",
    "\n",
    "#### *Run ALL the cells in order if you choose to run any of them*"
   ]
  },
  {
   "cell_type": "code",
   "execution_count": null,
   "metadata": {},
   "outputs": [],
   "source": [
    "# Load Time from astropy \n",
    "from astropy.time import Time"
   ]
  },
  {
   "cell_type": "markdown",
   "metadata": {},
   "source": [
    "#### Create a time\n",
    "\n",
    "To create a time you need to supply three things:\n",
    "\n",
    "+ The time itself.\n",
    "+ The scale the time is in (a UTC day is not the same length as a UT1 day, nor is it alwys the same length as a TAI/TT day).\n",
    "+ The format the time is in.\n",
    "\n",
    "If you leave out the last two, astropy will try to guess the scale and format. Try to avoid that by being explicit. That is usually fine for the *format* but you should always *explicitly set the scale*."
   ]
  },
  {
   "cell_type": "markdown",
   "metadata": {},
   "source": [
    "The example below creates a variable named `my_time` that holds the time June 30, 1994 6:59:59PM.\n",
    "\n",
    "#### Notice that the convertion to UTC has been done manually by ADDING 5 HOURS to that time."
   ]
  },
  {
   "cell_type": "code",
   "execution_count": null,
   "metadata": {},
   "outputs": [],
   "source": [
    "# Define a variable -- this means giving a name to a value so that we can refer\n",
    "# to the value later by name.\n",
    "my_time = Time(\"1994-06-30T23:59:59\", scale='utc')"
   ]
  },
  {
   "cell_type": "markdown",
   "metadata": {},
   "source": [
    "#### Display the time you created\n",
    "\n",
    "Creating a variable to hold a time does not automatically print in on the screen. To display it, use the print command, like this:"
   ]
  },
  {
   "cell_type": "code",
   "execution_count": null,
   "metadata": {},
   "outputs": [],
   "source": [
    "print(my_time)"
   ]
  },
  {
   "cell_type": "markdown",
   "metadata": {},
   "source": [
    "#### Convert a time to a different time scale\n",
    "\n",
    "The list of time scales that astropy can represent is listed in [their documentation](https://astropy-cjhang.readthedocs.io/en/latest/time/#time-scale); it includes all of the scales in the diagram at the top of this notebook.\n",
    "\n",
    "Converting between time scales is very straightforward: add a period and the abbreviation for that time scale in lower case (e.g. tdb for Barycentric Dynamical Time). "
   ]
  },
  {
   "cell_type": "code",
   "execution_count": null,
   "metadata": {},
   "outputs": [],
   "source": [
    "print(my_time"
   ]
  },
  {
   "cell_type": "markdown",
   "metadata": {},
   "source": [
    "#### Some time scales will take longer to compute the first time you do them\n",
    "\n",
    "UT1, for example, requires downloading a large table of Earth orientation information the first time you use it. Be patient."
   ]
  },
  {
   "cell_type": "code",
   "execution_count": null,
   "metadata": {},
   "outputs": [],
   "source": [
    "print(my_time.ut1)"
   ]
  },
  {
   "cell_type": "markdown",
   "metadata": {},
   "source": [
    "#### Changing the format\n",
    "\n",
    "Changing the format is also straightforward; add the abbreviation for the format you want ([listed here](http://astropy.readthedocs.io/en/stable/time/index.html#time-format)) to the end of the variable name."
   ]
  },
  {
   "cell_type": "code",
   "execution_count": null,
   "metadata": {},
   "outputs": [],
   "source": [
    "print(\"Time in ISOT format:\", my_time.isot)\n",
    "print(\"Time in Julian Year format:\", my_time.jyear)\n",
    "print(\"Time in Julian Day format:\", my_time.jd)\n",
    "print(\"Time in GPS format:\", my_time.gps)"
   ]
  },
  {
   "cell_type": "markdown",
   "metadata": {},
   "source": [
    "#### Changing the format and scale\n",
    "\n",
    "Both the format and the scale can be changed by combining the previous two operations, but the scale change must come before the format change, like this:"
   ]
  },
  {
   "cell_type": "code",
   "execution_count": null,
   "metadata": {},
   "outputs": [],
   "source": [
    "print(my_time.tdb.jd)"
   ]
  },
  {
   "cell_type": "markdown",
   "metadata": {},
   "source": [
    "### Time zones?\n",
    "\n",
    "Very briefly, no. Do the conversion manually. This matters far less than might be expected because the times of interest are usually extracted from the header of a FITS file, in the UTC scale, in the ISOT format (or something close to it).\n",
    "\n",
    "A much longer but more complicated answer is yes; read [this documentation](http://astropy.readthedocs.io/en/stable/time/index.html#timezones) for details."
   ]
  },
  {
   "cell_type": "markdown",
   "metadata": {},
   "source": [
    "#### Julian Date and UTC do not mix\n",
    "\n",
    "Julian Date is a time format that is a little special: UTC times cannot sensibly be represented as Julian dates because not all UTC days have the same length.\n",
    "\n",
    "Unfortunately, astropy will give you a UTC in JD if you ask:"
   ]
  },
  {
   "cell_type": "code",
   "execution_count": null,
   "metadata": {},
   "outputs": [],
   "source": [
    "print(my_time.jd)"
   ]
  },
  {
   "cell_type": "markdown",
   "metadata": {},
   "source": [
    "### Convert to TDB and THEN calculate the julian date...\n",
    "\n",
    "#### ...and specify the time scale chosen when you communicate your data!"
   ]
  },
  {
   "cell_type": "code",
   "execution_count": null,
   "metadata": {},
   "outputs": [],
   "source": [
    "print(my_time.tdb.jd)\n",
    "print(my_time.tdb.mjd)"
   ]
  },
  {
   "cell_type": "markdown",
   "metadata": {},
   "source": [
    "## Activity \n",
    "\n",
    "1. Pick an important date in your life that you are willing to tell someone else about, and a time on that day in whatever time zone you were in. \n",
    "2. Use astropy to find a time on that date as a Julian Day on the UTC time scale.\n",
    "3. Pair up with someone else in the class. Tell them your Julian day and time zone; they will tell you their Julian day and time zone.\n",
    "4. Use astropy to figure out the calendar day and time for your partner's life event. Check your result with your partner."
   ]
  },
  {
   "cell_type": "code",
   "execution_count": null,
   "metadata": {},
   "outputs": [],
   "source": []
  },
  {
   "cell_type": "markdown",
   "metadata": {
    "tags": []
   },
   "source": [
    "### Video summary of this section\n",
    "\n",
    "Video link: https://youtu.be/vRGr7qYzVRU\n"
   ]
  },
  {
   "cell_type": "code",
   "execution_count": null,
   "metadata": {},
   "outputs": [],
   "source": [
    "from IPython.display import YouTubeVideo\n",
    "\n",
    "YouTubeVideo('vRGr7qYzVRU')"
   ]
  },
  {
   "cell_type": "code",
   "execution_count": null,
   "metadata": {},
   "outputs": [],
   "source": []
  }
 ],
 "metadata": {
  "kernelspec": {
   "display_name": "Python 3 (ipykernel)",
   "language": "python",
   "name": "python3"
  },
  "language_info": {
   "codemirror_mode": {
    "name": "ipython",
    "version": 3
   },
   "file_extension": ".py",
   "mimetype": "text/x-python",
   "name": "python",
   "nbconvert_exporter": "python",
   "pygments_lexer": "ipython3",
   "version": "3.12.5"
  }
 },
 "nbformat": 4,
 "nbformat_minor": 4
}
