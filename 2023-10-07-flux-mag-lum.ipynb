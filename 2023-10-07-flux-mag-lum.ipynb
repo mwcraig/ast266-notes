{
 "cells": [
  {
   "cell_type": "markdown",
   "id": "b4d8f5d2-8e2c-422d-b84c-964d7eb72371",
   "metadata": {},
   "source": [
    "# 2023-10-07 Flux, Magnitude, Luminosity "
   ]
  },
  {
   "cell_type": "markdown",
   "id": "9900decb-9230-4973-a0b8-28afdeee6b8c",
   "metadata": {},
   "source": [
    "## Overview\n",
    "\n",
    "+ Flux definition \n",
    "+ Relative flux\n",
    "+ Apparent magnitude\n",
    "+ Differential magnitude\n",
    "+ Luminosity"
   ]
  },
  {
   "cell_type": "markdown",
   "id": "c2f68e79-2559-4e5a-a7be-58a01165f9b6",
   "metadata": {},
   "source": [
    "## Flux\n",
    "\n",
    "Flux is the amount of light energy received per second per unit area by a detector. It is what the camera on a telescope measures.\n",
    "\n",
    "Another word we'll use for flux is brightness."
   ]
  },
  {
   "cell_type": "markdown",
   "id": "f4345c4c-9dae-4f35-9eb8-76d27cac7115",
   "metadata": {},
   "source": [
    "## Relative flux"
   ]
  },
  {
   "cell_type": "markdown",
   "id": "c03ebc1c-f911-415f-9d8a-041e1e3c1442",
   "metadata": {},
   "source": [
    "Recall this image from last time:\n",
    "\n",
    "![Sketch of light through atmosphere](media/atmosphere-flux-etc.jpg)"
   ]
  },
  {
   "cell_type": "markdown",
   "id": "32286a6d-37ba-46fd-ba43-4b48916e5867",
   "metadata": {},
   "source": [
    "First, let's fix some symbols: use \"F\" instead of \"L\" for the light received."
   ]
  },
  {
   "cell_type": "markdown",
   "id": "8c5c4ad8-9d96-447e-80ac-22f041f6b928",
   "metadata": {},
   "source": [
    "## Magnitude\n",
    "\n",
    "The magnitude system is roughly 2,000 years old, and essentially ranks stars, so the brightest star known at that time were 1, the next brightest were 2, and so on.\n",
    "\n",
    "Turns out magnitude is related to flux by $m=-2.5\\log(f)$."
   ]
  },
  {
   "cell_type": "markdown",
   "id": "8504e230-2cc1-4fa8-9635-68812b5e5301",
   "metadata": {},
   "source": [
    "## Differential magnitude"
   ]
  },
  {
   "cell_type": "markdown",
   "id": "fceea87d-8c0f-4836-a004-aecffbb944c8",
   "metadata": {},
   "source": [
    "Magnitude differences are like flux ratios -- for stars of the same color, atmospheric and instrumental effets cancel out."
   ]
  },
  {
   "cell_type": "markdown",
   "id": "46bcf0b3-98f5-4e77-9191-40a08b4b777d",
   "metadata": {},
   "source": [
    "## Luminsoty"
   ]
  },
  {
   "cell_type": "markdown",
   "id": "390b0263-b23e-48e3-a91f-23234808b968",
   "metadata": {},
   "source": [
    "Recall this HR diagram -- vertical axis is \"luminsoty\" not flux. What is that?"
   ]
  },
  {
   "cell_type": "code",
   "execution_count": 1,
   "id": "493a50e3-7fd5-46ca-9b49-5f02e2f1b55c",
   "metadata": {
    "tags": []
   },
   "outputs": [
    {
     "data": {
      "text/html": [
       "<img src=\"https://chandra.harvard.edu/edu/formal/stellar_ev/story/hr.jpg\"/>"
      ],
      "text/plain": [
       "<IPython.core.display.Image object>"
      ]
     },
     "execution_count": 1,
     "metadata": {},
     "output_type": "execute_result"
    }
   ],
   "source": [
    "from IPython.display import Image\n",
    "Image(url='https://chandra.harvard.edu/edu/formal/stellar_ev/story/hr.jpg')"
   ]
  },
  {
   "cell_type": "code",
   "execution_count": null,
   "id": "99a99b40-4ddc-45d1-98bb-1180dd1c66bf",
   "metadata": {},
   "outputs": [],
   "source": []
  }
 ],
 "metadata": {
  "kernelspec": {
   "display_name": "Python 3 (ipykernel)",
   "language": "python",
   "name": "python3"
  },
  "language_info": {
   "codemirror_mode": {
    "name": "ipython",
    "version": 3
   },
   "file_extension": ".py",
   "mimetype": "text/x-python",
   "name": "python",
   "nbconvert_exporter": "python",
   "pygments_lexer": "ipython3",
   "version": "3.10.6"
  }
 },
 "nbformat": 4,
 "nbformat_minor": 5
}
