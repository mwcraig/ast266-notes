{
 "cells": [
  {
   "cell_type": "markdown",
   "id": "5245a619-1059-40d6-9f33-1bb5af84baf9",
   "metadata": {},
   "source": [
    "# 2024-09-03 Celestial coordinates"
   ]
  },
  {
   "cell_type": "markdown",
   "id": "4f300eca-1f26-4090-82b0-c55a8e9ae50e",
   "metadata": {},
   "source": [
    "## Locating objects on the sky\n",
    "\n",
    "One way to locate things on the Earth is using latitude and longitude. That is the way that GPS locates you and provides directions from one place to another.\n",
    "\n",
    "There is a similar system for locating things in the sky called *right ascension* and *declination*. These are -- sort of -- projections of latitutde and longitude into the sky.\n",
    "\n",
    "### Some reading about right ascension and declination\n",
    "\n",
    "There is a [good article at Sky & Telescope](https://skyandtelescope.org/astronomy-resources/right-ascension-declination-celestial-coordinates/) about celestial coordinates that you will read as part of an upcoming homework."
   ]
  },
  {
   "cell_type": "markdown",
   "id": "7dbdf003-333f-4824-baf3-180572195f74",
   "metadata": {},
   "source": [
    "## Visualizations of celestial coordinates\n",
    "\n",
    "### Visualization 1: no constellations\n",
    "\n",
    "Take a look at this visualization: https://astro.unl.edu/classaction/animations/coordsmotion/radecdemo.html \n",
    "\n",
    "Next, answer the questions below:\n",
    "\n",
    "1. What is the range of values for right ascension? What about the range of values for declination?\n",
    "2. What does a negative declination mean?"
   ]
  },
  {
   "cell_type": "markdown",
   "id": "29edbd73-514a-43c1-956a-0f7782fd9741",
   "metadata": {},
   "source": [
    "### Visualization 2: constellations included\n",
    "\n",
    "Next take a look at this: https://javalab.org/en/equatorial_coordinate_system_en/\n",
    "\n",
    "The Sun is shown as a yellow dot in the simulation. If you change the month you can change where the Sun is.\n",
    "\n",
    "Use this visualization to answer the questions below:\n",
    "\n",
    "1. Pick one of your color image objects and use its right ascension and declination in the simulation to figure out which constellation it is in.\n",
    "2. Move the Sun around until it is as close as you can get to your object. What month is that? Can you observe your object then? Explain.\n",
    "3. What months or months might it be better to observe your object?\n"
   ]
  },
  {
   "cell_type": "markdown",
   "id": "0d0cbf49-bc91-4842-a9ad-ad0241b4d610",
   "metadata": {},
   "source": [
    "## Working with coordinates in notebooks\n",
    "\n",
    "We will use a software package called [Astropy](https://astropy.org) throughout the course. One thing we will need to do frequently is make coordinates for an object. You can do that below."
   ]
  },
  {
   "cell_type": "code",
   "execution_count": null,
   "id": "a3acdb44-ed92-4e16-af83-6ef00ff7e061",
   "metadata": {},
   "outputs": [],
   "source": [
    "from astropy.coordinates import SkyCoord\n",
    "\n",
    "my_object_ra_dec = SkyCoord(ra=\"...\", dec=\"...\", unit=(\"hour\", \"degree\"))"
   ]
  },
  {
   "cell_type": "code",
   "execution_count": null,
   "id": "3e17157f-f377-4946-ac95-8c3a4ecdf276",
   "metadata": {},
   "outputs": [],
   "source": []
  }
 ],
 "metadata": {
  "kernelspec": {
   "display_name": "Python 3 (ipykernel)",
   "language": "python",
   "name": "python3"
  },
  "language_info": {
   "codemirror_mode": {
    "name": "ipython",
    "version": 3
   },
   "file_extension": ".py",
   "mimetype": "text/x-python",
   "name": "python",
   "nbconvert_exporter": "python",
   "pygments_lexer": "ipython3",
   "version": "3.11.9"
  }
 },
 "nbformat": 4,
 "nbformat_minor": 5
}
