{
 "cells": [
  {
   "cell_type": "markdown",
   "id": "54780bb0-129f-40bf-b6ab-bf5ef2aec788",
   "metadata": {},
   "source": [
    "# 2023-11-08 Practice doing exoplanet photometry"
   ]
  },
  {
   "cell_type": "markdown",
   "id": "052f153e-7ef3-468f-a7cb-69cec933e82d",
   "metadata": {},
   "source": [
    "## Overview\n",
    "\n",
    "We will run through several of the notebooks we use for exoplanet photometry.\n",
    "\n",
    "The notebooks we will use are:\n",
    "\n",
    "1. Seeing profile -- measure the size of the stars in the image.\n",
    "2. Comparison stars -- select the comparison stars for photometry, generate a list of variable stars.\n",
    "3. Photometry -- perform the photometry. You will need information from the first two notebooks.\n",
    "4. Transform photometry -- this is one way of removing the effects of air by matching stars with a catalog.\n",
    "5. Relative flux -- this another way, commonly used in exoplanet analysis, of removing atmospheric effects.\n",
    "6. Transit fitting -- this reads in the relative flux and uses that to attempt to model the exoplanet transit"
   ]
  },
  {
   "cell_type": "markdown",
   "id": "b1a44e34-ef4b-4d09-834c-737c0791778d",
   "metadata": {},
   "source": [
    "## Instructions\n",
    "\n",
    "+ In your `jupyter` folder make a folder called `exoplanet-practice`\n",
    "+ Go into that folder, then open the Launcher."
   ]
  },
  {
   "cell_type": "code",
   "execution_count": null,
   "id": "02000665-2feb-4840-b0b5-dd3e68524b8c",
   "metadata": {},
   "outputs": [],
   "source": []
  }
 ],
 "metadata": {
  "kernelspec": {
   "display_name": "Python 3 (ipykernel)",
   "language": "python",
   "name": "python3"
  },
  "language_info": {
   "codemirror_mode": {
    "name": "ipython",
    "version": 3
   },
   "file_extension": ".py",
   "mimetype": "text/x-python",
   "name": "python",
   "nbconvert_exporter": "python",
   "pygments_lexer": "ipython3",
   "version": "3.10.6"
  }
 },
 "nbformat": 4,
 "nbformat_minor": 5
}
