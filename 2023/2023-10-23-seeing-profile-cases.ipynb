{
 "cells": [
  {
   "cell_type": "markdown",
   "id": "8eae6461-6e98-486d-809f-4b4df01db005",
   "metadata": {},
   "source": [
    "# 2023-10-23 Seeing profile: some tricky cases"
   ]
  },
  {
   "cell_type": "markdown",
   "id": "d860947e-8868-4bbc-a865-812d9962b4e9",
   "metadata": {},
   "source": [
    "## Overview\n",
    "\n",
    "+ Look at several stars in a image to choose an aperture radius\n",
    "+ Look at a few \"special cases\" to watch out for."
   ]
  },
  {
   "cell_type": "markdown",
   "id": "a7908732-0b87-4ad2-ab1a-a2528a50a8dc",
   "metadata": {},
   "source": [
    "## Seeing profile for a real image"
   ]
  },
  {
   "cell_type": "markdown",
   "id": "bef7ea11-0720-4750-87ae-e7e9c97ea4fe",
   "metadata": {},
   "source": [
    "+ Navigate to the folder with your \"combined\" images -- there should be 3, one for `B`, `V`, and `rp`.\n",
    "+ Open and run the notebook \"01 Seeing profile\"  \n",
    "    - If there is no notebook 01, then open the launcher, and start the photometry notebook 01\n",
    "+ Run the notebook "
   ]
  },
  {
   "cell_type": "markdown",
   "id": "2e0a7480-5183-4fe4-a75e-84311e8afd53",
   "metadata": {},
   "source": [
    "### Spoecial cases"
   ]
  },
  {
   "cell_type": "markdown",
   "id": "f6f17bc0-78eb-4688-920c-7b0795eeaf76",
   "metadata": {},
   "source": [
    "Look for each of these special cases in your image. \n",
    "\n",
    "| two stars close together | brightest star | faint star |\n",
    "| ------------------------ | -------------- | ----------- |\n",
    "| ![Two stars close together](media/seeing-profile-star-examples/two-nearby-stars.png) | ![Brightest star in field](media/seeing-profile-star-examples/brightest_star.png) | ![Faint star in field](media/seeing-profile-star-examples/faint_star.png) |\n",
    "\n",
    "\n",
    "\n",
    "\n",
    "\n",
    "When you find an example of the case:\n",
    "\n",
    "+ shift-click to make its profiles\n",
    "+ Look at each of the profile plots\n",
    "+ Something will look odd about also one of them -- identify the \"odd\" thing and describe it."
   ]
  },
  {
   "cell_type": "markdown",
   "id": "c52db18f-528b-4cab-ae53-621f2e9862df",
   "metadata": {},
   "source": [
    "### Choose an aperture radius\n",
    "\n",
    "To choose an aperture radius, \n",
    "\n",
    "+ look at the seeing profile of a few stars in the image you picked. Include a bright star, a faint star and some in between. Be sure to write down the FWHM for each.\n",
    "+ Open one of the other images and record the FWHM in a few different cases (bright, faint, in between).\n",
    "+ Repeat for the last of the three images.\n",
    "\n",
    "Finally, choose a singe radius -- something like 1.5×FWHM is usuallly good.\n",
    "\n",
    "Save one of the profile plots that supports your choce."
   ]
  },
  {
   "cell_type": "code",
   "execution_count": null,
   "id": "6b7ced12-92b8-4800-9d25-2200ff01f4a1",
   "metadata": {},
   "outputs": [],
   "source": []
  }
 ],
 "metadata": {
  "kernelspec": {
   "display_name": "Python 3 (ipykernel)",
   "language": "python",
   "name": "python3"
  },
  "language_info": {
   "codemirror_mode": {
    "name": "ipython",
    "version": 3
   },
   "file_extension": ".py",
   "mimetype": "text/x-python",
   "name": "python",
   "nbconvert_exporter": "python",
   "pygments_lexer": "ipython3",
   "version": "3.11.5"
  }
 },
 "nbformat": 4,
 "nbformat_minor": 5
}
