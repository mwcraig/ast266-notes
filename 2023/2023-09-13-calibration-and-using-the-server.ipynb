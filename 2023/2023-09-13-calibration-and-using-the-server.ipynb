{
 "cells": [
  {
   "cell_type": "markdown",
   "id": "a1adb2c9-515c-4e3b-9ac3-629a1603e54e",
   "metadata": {},
   "source": [
    "# 2023-09-13 Image calibration and using the server "
   ]
  },
  {
   "cell_type": "markdown",
   "id": "6a4b6ef9-5b2a-4414-b013-1328d51a597d",
   "metadata": {},
   "source": [
    "## Try this server link (which will also be in D2L)\n",
    "\n",
    "https://jupyter3.mnstate.edu"
   ]
  },
  {
   "cell_type": "markdown",
   "id": "a780776b-cd8b-4c34-b2e5-38a527991ca8",
   "metadata": {},
   "source": [
    "## Do these things\n",
    "\n",
    "+ Go into your \"jupyter\" folder\n",
    "+ Make a new folder\n",
    "+ Use the launcher to put a blank notebook in the new folder\n",
    "+ Use the file manager to delete the blank notebook \n",
    "+ Go up one folder\n",
    "+ Delete the folder you made\n",
    "+ Make a new folder called \"sample-calibrated\"\n",
    "+ Go into that folder\n",
    "+ Use the launcher to make a \"Reduction Template\""
   ]
  },
  {
   "cell_type": "code",
   "execution_count": null,
   "id": "3faa47a5-1ea2-46d0-8a72-bea3c33bc3eb",
   "metadata": {},
   "outputs": [],
   "source": []
  }
 ],
 "metadata": {
  "kernelspec": {
   "display_name": "Python 3 (ipykernel)",
   "language": "python",
   "name": "python3"
  },
  "language_info": {
   "codemirror_mode": {
    "name": "ipython",
    "version": 3
   },
   "file_extension": ".py",
   "mimetype": "text/x-python",
   "name": "python",
   "nbconvert_exporter": "python",
   "pygments_lexer": "ipython3",
   "version": "3.11.8"
  }
 },
 "nbformat": 4,
 "nbformat_minor": 5
}
