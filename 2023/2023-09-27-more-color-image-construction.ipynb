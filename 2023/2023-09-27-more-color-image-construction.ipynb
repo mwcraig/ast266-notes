{
 "cells": [
  {
   "cell_type": "markdown",
   "id": "7286d40f-bd9f-4149-935c-d05d8d020cd7",
   "metadata": {},
   "source": [
    "# 2023-09-27 -- More work making a color image"
   ]
  },
  {
   "cell_type": "markdown",
   "id": "d63f59a1-8d09-4ff7-b6b2-fcd51b18cb20",
   "metadata": {},
   "source": [
    "## Over view of steps on the way to a color image\n",
    "\n",
    "- [x] Pick object\n",
    "- [x] Take data\n",
    "- [x] Calibrate images\n",
    "- [x] Remove/disregard any images that look bad\n",
    "- [x] Reproject (shift) images so that they are aligned\n",
    "- [x] Combine all of the images in each filter to make one combined image for each filter\n",
    "- [x] Combine the three color images into a single image\n",
    "- [ ] Fine tune the color image"
   ]
  },
  {
   "cell_type": "markdown",
   "id": "d5f66a56-793b-4931-9514-fdbcb2f40215",
   "metadata": {},
   "source": [
    "## To do today\n",
    "\n",
    "1. Go to your jupyter folder → calibrated-nights → color-images-2023 → your \"M\" object\n",
    "2. Use the launcher to make add a \"Color Mixer\" to the folder\n",
    "3. Run the notebook\n",
    "3. Adjust the black and white levels for each filter\n",
    "3. Try making a combined light image"
   ]
  }
 ],
 "metadata": {
  "kernelspec": {
   "display_name": "Python 3 (ipykernel)",
   "language": "python",
   "name": "python3"
  },
  "language_info": {
   "codemirror_mode": {
    "name": "ipython",
    "version": 3
   },
   "file_extension": ".py",
   "mimetype": "text/x-python",
   "name": "python",
   "nbconvert_exporter": "python",
   "pygments_lexer": "ipython3",
   "version": "3.11.8"
  }
 },
 "nbformat": 4,
 "nbformat_minor": 5
}
