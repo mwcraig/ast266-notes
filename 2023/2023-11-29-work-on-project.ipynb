{
 "cells": [
  {
   "cell_type": "markdown",
   "id": "dfb0761e-5b5a-42f1-9957-1d5561ea0b63",
   "metadata": {},
   "source": [
    "# 2023-11-29 Work on project presentations"
   ]
  },
  {
   "cell_type": "markdown",
   "id": "085fed1c-b816-46ee-ae21-fb530aec82a6",
   "metadata": {},
   "source": [
    "## Overview\n",
    "\n",
    "+ If your notebook 6 is complete, then take a look at the outline of your final presenation (see D2L).\n",
    "+ Try running notebook 7....\n",
    "+ ...let us know what problems you have.\n"
   ]
  },
  {
   "cell_type": "code",
   "execution_count": null,
   "id": "d40b035b-cc52-4acf-b55d-500c2a7078af",
   "metadata": {},
   "outputs": [],
   "source": []
  }
 ],
 "metadata": {
  "kernelspec": {
   "display_name": "Python 3 (ipykernel)",
   "language": "python",
   "name": "python3"
  },
  "language_info": {
   "codemirror_mode": {
    "name": "ipython",
    "version": 3
   },
   "file_extension": ".py",
   "mimetype": "text/x-python",
   "name": "python",
   "nbconvert_exporter": "python",
   "pygments_lexer": "ipython3",
   "version": "3.10.6"
  }
 },
 "nbformat": 4,
 "nbformat_minor": 5
}
