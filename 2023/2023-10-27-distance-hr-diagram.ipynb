{
 "cells": [
  {
   "cell_type": "markdown",
   "id": "f142d54d-2b46-4566-8bd4-fcf4f9c14204",
   "metadata": {},
   "source": [
    "# 2023-10-27 Removing atmospheric effects, round 1"
   ]
  },
  {
   "cell_type": "markdown",
   "id": "3850c1c7-d611-4a31-8103-cf4e57c76be0",
   "metadata": {},
   "source": [
    "## Overview\n",
    "\n",
    "From last time, you have measuresments of the brightness of the stars in your color image.\n",
    "\n",
    "Today we will talk about how to remove the effects of the atmosphere and our instruments on those measurements."
   ]
  },
  {
   "cell_type": "markdown",
   "id": "4b8a42c8-68b8-43de-aca9-e776aca07e1e",
   "metadata": {},
   "source": [
    "## Atmospheric and instrumental effects\n",
    "\n",
    "Discussion on the ipad....\n",
    "\n",
    "<!-- ![Sketch of atmospheric and intrumental effects](media/AST-266-26.jpg) -->"
   ]
  },
  {
   "cell_type": "markdown",
   "id": "ceab0b65-f1fc-4b66-9c1e-5c020160267d",
   "metadata": {},
   "source": [
    "<!-- ![Sketch of atmospheric and intrumental effects](media/AST-266-27.jpg) -->"
   ]
  },
  {
   "cell_type": "markdown",
   "id": "38baacbb-688d-4977-842c-bd8631c2c62e",
   "metadata": {},
   "source": [
    "## Calibrating your magnitudes\n",
    "\n",
    "### Go to your combined folder and make a notebook 04"
   ]
  },
  {
   "cell_type": "markdown",
   "id": "fcb2a371-4384-4952-aab4-536e88ae124b",
   "metadata": {},
   "source": [
    "## Color-magnitude diagram...maybe an HR diagram?"
   ]
  },
  {
   "cell_type": "code",
   "execution_count": null,
   "id": "ee72772d-c334-4608-86da-bda622278c00",
   "metadata": {},
   "outputs": [],
   "source": [
    "from pathlib import Path\n",
    "import numpy as np\n",
    "\n",
    "from astropy.coordinates import SkyCoord\n",
    "from astropy import units as u\n",
    "from astropy.table import Table\n",
    "\n",
    "from astroquery.gaia import Gaia\n",
    "\n",
    "%matplotlib inline\n",
    "import matplotlib.pyplot as plt"
   ]
  },
  {
   "cell_type": "markdown",
   "id": "d741ef81-169a-4f04-9f75-05b8c84fc074",
   "metadata": {},
   "source": [
    "#### 👇👇 put in the name of your file here 👇👇"
   ]
  },
  {
   "cell_type": "code",
   "execution_count": null,
   "id": "816792ba-b79c-4abd-a864-e768b9050c92",
   "metadata": {},
   "outputs": [],
   "source": [
    "your_mag_table = 'donovan-photo_m1.csv'"
   ]
  },
  {
   "cell_type": "code",
   "execution_count": null,
   "id": "8b8f2d39-df2c-43ef-b3e7-04be40b89470",
   "metadata": {},
   "outputs": [],
   "source": [
    "mag_table = Table.read(your_mag_table)"
   ]
  },
  {
   "cell_type": "code",
   "execution_count": null,
   "id": "d80e6c82-be0c-4f79-9bba-86139d5c52ef",
   "metadata": {},
   "outputs": [],
   "source": [
    "B = mag_table[mag_table['filter'] == 'B']\n",
    "V = mag_table[mag_table['filter'] == 'V']"
   ]
  },
  {
   "cell_type": "code",
   "execution_count": null,
   "id": "8203ea51-7be5-4242-903b-02808606fcb1",
   "metadata": {},
   "outputs": [],
   "source": [
    "mag_col = 'mag_inst_cal'\n",
    "# fig, resid = plt.subplots(1, 1, figsize=(10, 10))\n",
    "\n",
    "# resid.plot(B['color_cat'], B['color_cat'] - (B[mag_col] - V[mag_col]), '.', label='catalog colors', alpha=0.4)\n",
    "# #plt.ylim(16.5, 10)\n",
    "# resid.set_xlabel('Catalog B-V')\n",
    "# resid.set_ylabel('Diff between catalog and calibrated B-V')\n",
    "# resid.set_title(your_mag_table)\n",
    "# resid.grid()"
   ]
  },
  {
   "cell_type": "code",
   "execution_count": null,
   "id": "21e3f4f0-20bc-4404-8af5-79a7f689550d",
   "metadata": {},
   "outputs": [],
   "source": [
    "good_color = np.abs(B['color_cat'] - (B['mag_inst_cal'] - V['mag_inst_cal'])) < 0.1"
   ]
  },
  {
   "cell_type": "code",
   "execution_count": null,
   "id": "28d01be9-2372-4529-9272-a85574877f46",
   "metadata": {},
   "outputs": [],
   "source": [
    "fig, cmd = plt.subplots(1, 1, figsize=(10, 10))\n",
    "\n",
    "cmd.plot(B[mag_col][good_color] - V[mag_col][good_color], V[mag_col][good_color], '.')\n",
    "cmd.set_ylim(*cmd.get_ylim()[::-1])\n",
    "cmd.set_ylabel('V')\n",
    "cmd.set_xlabel('B - V')\n",
    "cmd.set_xlim(-0.5, 2.5)\n",
    "cmd.grid()\n"
   ]
  },
  {
   "cell_type": "code",
   "execution_count": null,
   "id": "52e47041-e339-49ca-b48b-4045174b0897",
   "metadata": {},
   "outputs": [],
   "source": []
  }
 ],
 "metadata": {
  "kernelspec": {
   "display_name": "Python 3 (ipykernel)",
   "language": "python",
   "name": "python3"
  },
  "language_info": {
   "codemirror_mode": {
    "name": "ipython",
    "version": 3
   },
   "file_extension": ".py",
   "mimetype": "text/x-python",
   "name": "python",
   "nbconvert_exporter": "python",
   "pygments_lexer": "ipython3",
   "version": "3.10.6"
  }
 },
 "nbformat": 4,
 "nbformat_minor": 5
}
