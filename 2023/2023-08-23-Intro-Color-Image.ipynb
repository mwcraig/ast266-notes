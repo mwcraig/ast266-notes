{
 "cells": [
  {
   "cell_type": "markdown",
   "id": "7ba71c87-4452-4e2c-aaba-13d51185efa7",
   "metadata": {},
   "source": [
    "# 2023-08-23 Color image project"
   ]
  },
  {
   "cell_type": "markdown",
   "id": "f6fd23c4-0fef-4863-9bb0-a32a8083aee0",
   "metadata": {},
   "source": [
    "## Overview\n",
    "\n",
    "+ Choose object \n",
    "+ Figure out **where** it is\n",
    "+ Work out **when** it is visible from here\n",
    "+ Learn **how** to write a plan to tell the computer to take images\n",
    "+ Take images in 3 filters\n",
    "+ Align and combine"
   ]
  },
  {
   "cell_type": "markdown",
   "id": "b95175f6-c92e-4211-9c81-af70b98c4dda",
   "metadata": {
    "tags": []
   },
   "source": [
    "## Example of creating color image\n",
    "\n",
    "### Start with several individual images\n",
    "\n",
    "Several (10 or 20 of each filter) images were combined to make one nicer image in each filter.\n",
    "\n",
    "|  |  |  |  |  |  |\n",
    "| ---- | ---- | ---- | ---- | ---- | ------|\n",
    "| **B filter (blue)** | ![B filter M33](media/M33/M33-S001-R001-C001-B.jpg) | ![B filter M33](media/M33/M33-S001-R001-C002-B.jpg) | ![B filter M33](media/M33/M33-S001-R005-C001-B.jpg) | combine to get | ![B filter combined](media/M33/blue.jpg) |\n",
    "| **V filter (green)** | ![V filter M33](media/M33/M33-S001-R001-C001-V.jpg) | ![V filter M33](media/M33/M33-S001-R003-C001-V.jpg) | ![V filter M33](media/M33/M33-S001-R005-C001-V.jpg) | combine to get | ![V filter combined](media/M33/green.jpg) |\n",
    "| **rp filter (red)** | ![rp filter M33](media/M33/M33-S001-R001-C001-rp.jpg) | ![rp filter M33](media/M33/M33-S001-R002-C001-rp.jpg) | ![rp filter M33](media/M33/M33-S001-R005-C001-rp.jpg) | combine to get | ![rp filter combined](media/M33/red.jpg) |\n",
    "\n",
    "### Combine the blue, green and red images to make a color image\n",
    "\n",
    "| blue | + | green | + | red | = | color |\n",
    "| -- | -- | -- | -- | -- | -- | -- |\n",
    "| ![B filter combined image](media/M33/blue.jpg) | ＋ | ![V (green) filter combined](media/M33/green.jpg) |  ＋ | ![rp filter combined](media/M33/red.jpg) | = | ![Color image M33](media/M33/color.jpg) |"
   ]
  },
  {
   "cell_type": "markdown",
   "id": "4cb7aac8-6300-471c-be6f-8fa884764383",
   "metadata": {},
   "source": [
    "## Choose object\n",
    "\n",
    "1. Please go to the [wikipedia page of Messier objects](https://en.wikipedia.org/wiki/Messier_object). \n",
    "2. Sort the table by \"Right Ascension\"\n",
    "3. Choose an object that:\n",
    "    a. has **positive** \"Declination\"\n",
    "    b. has \"Right Ascension\" **NOT** in the range 5-15 hours"
   ]
  }
 ],
 "metadata": {
  "kernelspec": {
   "display_name": "Python 3 (ipykernel)",
   "language": "python",
   "name": "python3"
  },
  "language_info": {
   "codemirror_mode": {
    "name": "ipython",
    "version": 3
   },
   "file_extension": ".py",
   "mimetype": "text/x-python",
   "name": "python",
   "nbconvert_exporter": "python",
   "pygments_lexer": "ipython3",
   "version": "3.11.8"
  }
 },
 "nbformat": 4,
 "nbformat_minor": 5
}
