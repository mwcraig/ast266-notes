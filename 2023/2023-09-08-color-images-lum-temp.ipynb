{
 "cells": [
  {
   "cell_type": "markdown",
   "id": "dde9c344-8142-44da-b7bf-f355e7e556be",
   "metadata": {},
   "source": [
    "# 2023-09-08 Color image project and Stellar Evolution"
   ]
  },
  {
   "cell_type": "markdown",
   "id": "9f12f938-47f2-4d4c-9715-b94b63d7f9e1",
   "metadata": {},
   "source": [
    "## Telescope images for the color image project so far\n",
    "\n",
    "Take a look at the two links below and answer these questions:\n",
    "\n",
    "+ Do you want to change your object? If so, why?\n",
    "+ How many usable images are there of your object?\n",
    "\n",
    "Link to images:\n",
    "\n",
    "+ Sep 6: http://physics.mnstate.edu/feder_gallery/2023-09-06/\n",
    "+ Sep 7: http://physics.mnstate.edu/feder_gallery/2023-09-07/"
   ]
  },
  {
   "cell_type": "markdown",
   "id": "40cae5a9-9d6e-4a81-a2bf-731c3ced440c",
   "metadata": {},
   "source": [
    "## Stellar evolution\n",
    "\n",
    "+ Demonstrate relationship between temperature and color\n",
    "+ Work on \"Luminosity, Temperature and Size\" tutorial"
   ]
  },
  {
   "cell_type": "code",
   "execution_count": null,
   "id": "40913e47-8cee-4fa4-83d6-8d0a81d273c8",
   "metadata": {},
   "outputs": [],
   "source": []
  }
 ],
 "metadata": {
  "kernelspec": {
   "display_name": "Python 3 (ipykernel)",
   "language": "python",
   "name": "python3"
  },
  "language_info": {
   "codemirror_mode": {
    "name": "ipython",
    "version": 3
   },
   "file_extension": ".py",
   "mimetype": "text/x-python",
   "name": "python",
   "nbconvert_exporter": "python",
   "pygments_lexer": "ipython3",
   "version": "3.11.8"
  }
 },
 "nbformat": 4,
 "nbformat_minor": 5
}
