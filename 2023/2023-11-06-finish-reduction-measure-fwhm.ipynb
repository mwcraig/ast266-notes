{
 "cells": [
  {
   "cell_type": "markdown",
   "id": "4f189272-7f7b-4c32-a84e-f2feca72cea1",
   "metadata": {},
   "source": [
    "# 2023-11-06 Finish your reduction and looking at images"
   ]
  },
  {
   "cell_type": "markdown",
   "id": "6e578ff8-1069-49cd-80c2-20d2eb2b044b",
   "metadata": {},
   "source": [
    "## 1. List of nights, how to copy images you need\n",
    "\n",
    "The list of nights we are working on is at [https://docs.google.com/spreadsheets/d/19EBHRLDWda11yZtA-SWeeZfMP81zcBf_77xZU0FRCpk/edit?usp=sharing](https://docs.google.com/spreadsheets/d/19EBHRLDWda11yZtA-SWeeZfMP81zcBf_77xZU0FRCpk/edit?usp=sharing)\n",
    "\n",
    "For every night that I know wwhat images are missing there are instructinos for what you need to copy into your folder.\n",
    "\n",
    "\n"
   ]
  },
  {
   "cell_type": "code",
   "execution_count": null,
   "id": "5b73a1e0-830d-4649-808f-81225fddee02",
   "metadata": {},
   "outputs": [],
   "source": [
    "from IPython.display import YouTubeVideo\n",
    "\n",
    "YouTubeVideo('https://youtu.be/wQIvehsQjMU?si=_F4qDCiCrKB96SuA')"
   ]
  },
  {
   "cell_type": "markdown",
   "id": "ad416bcc-26bf-4d36-846b-dcf811b3bfcb",
   "metadata": {},
   "source": [
    "## 2. Finish reducing your night of data\n",
    "\n",
    "Once you have the files you need, use the reduction template notebook (Launcher → Astro → Reduction template) to calibrate the data. If you already have a reduction template then use it -- there is no need to create a new one.\n",
    "\n",
    "The settings to use are in the [notes from Nov 1](2023-11-01.ipynb)"
   ]
  },
  {
   "cell_type": "markdown",
   "id": "394d5c0d-511a-4e73-a057-1c782ad519ad",
   "metadata": {},
   "source": [
    "## 3. Look at seeing profile (FWHM) for several images\n",
    "\n",
    "If there are images in your night whose name starts `TIC` then look at those. If there is more than one `TIC` object, just choose one of them in your. If there are multiple filters, just pick one.\n",
    "\n",
    "If there is no `TIC` object then pick any one of the objects in your calibrated to look at.\n",
    "\n",
    "You want to look roughly every 20 images, and write down, for each image, what the FWHM for the center star in that image. Also write down the maximum SNR.\n",
    "\n",
    "A short video showing how to do that is below."
   ]
  },
  {
   "cell_type": "code",
   "execution_count": null,
   "id": "7fdb50f2-a59c-4a2d-971b-bc8a4a370364",
   "metadata": {},
   "outputs": [],
   "source": [
    "YouTubeVideo('https://youtu.be/hxbaEGNjzlw')"
   ]
  },
  {
   "cell_type": "code",
   "execution_count": null,
   "id": "443a810a-6a14-4491-aabe-fbb6f4118919",
   "metadata": {},
   "outputs": [],
   "source": []
  }
 ],
 "metadata": {
  "kernelspec": {
   "display_name": "Python 3 (ipykernel)",
   "language": "python",
   "name": "python3"
  },
  "language_info": {
   "codemirror_mode": {
    "name": "ipython",
    "version": 3
   },
   "file_extension": ".py",
   "mimetype": "text/x-python",
   "name": "python",
   "nbconvert_exporter": "python",
   "pygments_lexer": "ipython3",
   "version": "3.10.6"
  }
 },
 "nbformat": 4,
 "nbformat_minor": 5
}
