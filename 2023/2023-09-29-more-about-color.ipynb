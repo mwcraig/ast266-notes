{
 "cells": [
  {
   "cell_type": "markdown",
   "id": "c1101963-5f24-4bc8-9994-97cddb128110",
   "metadata": {},
   "source": [
    "# 2023-09-29 More about color"
   ]
  },
  {
   "cell_type": "markdown",
   "id": "89bf210f-aa4d-4fd4-b521-23e524c38837",
   "metadata": {},
   "source": [
    "## Overview\n",
    "\n",
    "Today we will look at\n",
    "\n",
    "+ how color in our images gives information about temperature\n",
    "+ what types of stars are which color\n",
    "+ what color can tell us about age (or at least star formation)"
   ]
  },
  {
   "cell_type": "markdown",
   "id": "d3bcc6f4-4bef-43aa-94de-2a5b43a93c60",
   "metadata": {},
   "source": [
    "## Lecture tutorials: HR diagram and star lifetimes"
   ]
  },
  {
   "cell_type": "code",
   "execution_count": 3,
   "id": "5f6b284d-ca96-42dd-8f4e-bcd82413eb3d",
   "metadata": {},
   "outputs": [
    {
     "data": {
      "text/html": [
       "<img src=\"https://chandra.harvard.edu/edu/formal/stellar_ev/story/hr.jpg\"/>"
      ],
      "text/plain": [
       "<IPython.core.display.Image object>"
      ]
     },
     "execution_count": 3,
     "metadata": {},
     "output_type": "execute_result"
    }
   ],
   "source": [
    "from IPython.display import Image\n",
    "Image(url='https://chandra.harvard.edu/edu/formal/stellar_ev/story/hr.jpg')"
   ]
  },
  {
   "cell_type": "markdown",
   "id": "8f6d47e4-777b-43f9-9393-afcd4f097e62",
   "metadata": {
    "tags": []
   },
   "source": [
    "## Temperature and our images"
   ]
  },
  {
   "cell_type": "markdown",
   "id": "50b121f2-9330-4598-990e-0af3c6ee2835",
   "metadata": {},
   "source": [
    "Go to this site: http://jupyter.mnstate.edu:8866/voila/render/Interactives/Blackbody_Simulation.ipynb\n",
    "\n",
    "and then answer the questions below:\n",
    "\n",
    "1. A very cool star will be brightest in which filter, R, V, or B? Why?\n",
    "2. A very hot star will be  brightest in which filter, R, V, or B? Why?\n",
    "3. A star like our sun (temperature about 5600K) will be brightest in which filter, R, V, or B? Why?"
   ]
  },
  {
   "cell_type": "code",
   "execution_count": null,
   "id": "dd29fad3-7a99-49ed-b21a-b296dec7e9a8",
   "metadata": {},
   "outputs": [],
   "source": []
  }
 ],
 "metadata": {
  "kernelspec": {
   "display_name": "Python 3 (ipykernel)",
   "language": "python",
   "name": "python3"
  },
  "language_info": {
   "codemirror_mode": {
    "name": "ipython",
    "version": 3
   },
   "file_extension": ".py",
   "mimetype": "text/x-python",
   "name": "python",
   "nbconvert_exporter": "python",
   "pygments_lexer": "ipython3",
   "version": "3.11.8"
  }
 },
 "nbformat": 4,
 "nbformat_minor": 5
}
