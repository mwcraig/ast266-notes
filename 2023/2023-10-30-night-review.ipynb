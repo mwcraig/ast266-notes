{
 "cells": [
  {
   "cell_type": "markdown",
   "metadata": {},
   "source": [
    "# 2023-10-30\n",
    "\n",
    "## Topics\n",
    "\n",
    "+ Start review of night of data \n",
    "+ Finish review of night of data"
   ]
  },
  {
   "cell_type": "markdown",
   "metadata": {},
   "source": [
    "## Review a night of data\n",
    "\n",
    "This will give some experience with what a typical calibration image looks like.\n",
    "\n",
    "1. Go to https://github.com/signup and create a free GitHub acount or log in if you already have an account\n",
    "1. Go to https://github.com/feder-observatory/processed_images/issues\n",
    "2. You will be assigned an issue to work on"
   ]
  },
  {
   "cell_type": "markdown",
   "metadata": {},
   "source": [
    "## Night assignments\n",
    "\n",
    "+ Hunter: 2023-10-28\n",
    "+ Saffron: 2023-10-20\n",
    "+ Travis: 2023-10-19\n",
    "+ Gabe: 2023-10-15\n",
    "+ Jake V: 2023-10-11\n",
    "+ Jake M: 2023-10-09\n",
    "+ Shaveen: 2023-10-01\n",
    "+ Chase: 2023-09-26"
   ]
  },
  {
   "cell_type": "markdown",
   "metadata": {},
   "source": [
    "## Get ready to calibrate the data\n",
    "\n",
    "1. Go to your `jupyter` folder\n",
    "1. Go into `calibrated-nights`\n",
    "1. Make a folder for your night of data, e.g. `2023-10-28-calibrated`\n",
    "1. Go into that folder \n",
    "1. Use the *Launcher* to make a *Reduction Template*"
   ]
  }
 ],
 "metadata": {
  "kernelspec": {
   "display_name": "Python 3 (ipykernel)",
   "language": "python",
   "name": "python3"
  },
  "language_info": {
   "codemirror_mode": {
    "name": "ipython",
    "version": 3
   },
   "file_extension": ".py",
   "mimetype": "text/x-python",
   "name": "python",
   "nbconvert_exporter": "python",
   "pygments_lexer": "ipython3",
   "version": "3.10.6"
  }
 },
 "nbformat": 4,
 "nbformat_minor": 4
}
