{
 "cells": [
  {
   "cell_type": "markdown",
   "id": "3680a230-af42-4316-86bf-256346d4d734",
   "metadata": {},
   "source": [
    "# 2022-09-01 "
   ]
  },
  {
   "cell_type": "markdown",
   "id": "fbb9c3cf-edc8-4a64-b571-dcd7db1f631f",
   "metadata": {},
   "source": [
    "## Observatory visits Thu, Sep 1 and Fri, Sep 2\n",
    "\n",
    "Discussed timing/directions/food"
   ]
  },
  {
   "cell_type": "markdown",
   "id": "c7b477a8-5ab0-4f5d-b43f-fa6d47e9ff64",
   "metadata": {},
   "source": [
    "## Filters (also callled passbands or bands)\n",
    "\n",
    "Source: https://ui.adsabs.harvard.edu/abs/2018amos.confE..36C/abstract\n",
    "\n",
    "![Castro_pdf.png](media/Castro_pdf.png)"
   ]
  },
  {
   "cell_type": "markdown",
   "id": "c70c6291-fc60-4ed6-a0f3-8bea27606511",
   "metadata": {},
   "source": []
  }
 ],
 "metadata": {
  "kernelspec": {
   "display_name": "Python 3 (ipykernel)",
   "language": "python",
   "name": "python3"
  },
  "language_info": {
   "codemirror_mode": {
    "name": "ipython",
    "version": 3
   },
   "file_extension": ".py",
   "mimetype": "text/x-python",
   "name": "python",
   "nbconvert_exporter": "python",
   "pygments_lexer": "ipython3",
   "version": "3.10.5"
  }
 },
 "nbformat": 4,
 "nbformat_minor": 5
}
