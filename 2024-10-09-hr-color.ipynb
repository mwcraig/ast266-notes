{
 "cells": [
  {
   "cell_type": "markdown",
   "id": "c1101963-5f24-4bc8-9994-97cddb128110",
   "metadata": {},
   "source": [
    "# 2023-09-29 More about color"
   ]
  },
  {
   "cell_type": "markdown",
   "id": "89bf210f-aa4d-4fd4-b521-23e524c38837",
   "metadata": {},
   "source": [
    "## Overview\n",
    "\n",
    "Today we will look at\n",
    "\n",
    "+ how color in our images gives information about temperature\n",
    "+ what types of stars are which color\n",
    "+ what color can tell us about age (or at least star formation)"
   ]
  },
  {
   "cell_type": "markdown",
   "id": "d3bcc6f4-4bef-43aa-94de-2a5b43a93c60",
   "metadata": {},
   "source": [
    "## Lecture tutorials: HR diagram"
   ]
  },
  {
   "cell_type": "code",
   "execution_count": null,
   "id": "5f6b284d-ca96-42dd-8f4e-bcd82413eb3d",
   "metadata": {},
   "outputs": [],
   "source": [
    "from IPython.display import Image\n",
    "Image(url='https://chandra.harvard.edu/edu/formal/stellar_ev/story/hr.jpg')"
   ]
  },
  {
   "cell_type": "markdown",
   "id": "50b121f2-9330-4598-990e-0af3c6ee2835",
   "metadata": {},
   "source": [
    "## Temperature and our images\n",
    "\n",
    "Go to this site: http://jupyter.mnstate.edu:8866/voila/render/Interactives/Blackbody_Simulation.ipynb\n",
    "\n",
    "and then answer the questions below. The question are grouped by the interactive figure you can use to answer them.\n",
    "\n",
    "### Interactive Figure 1\n",
    "\n",
    "Overview: In the left panel you choose the star you want to look at; in the right panel you can set the temperature of a model star.\n",
    "\n",
    "1. For the Sun:\n",
    "    1. What is the temperature of the model that best matches the spectrum of this star?\n",
    "    2. How much red light does this star make compared to the amount of blue light it makes?\n",
    "    3. At what color does this star emit the most light?\n",
    "4. For the star Proxima Centauri:\n",
    "    1. What is the temperature of the model that best matches the spectrum of this star?\n",
    "    2. How much red light does this star make compared to the amount of blue light it makes?\n",
    "    3. At what color does this star emit the most light?\n",
    "7. For the star Eta Ursae Majoris (aka Alkaid, that star at the end of the handle of the big dipper):\n",
    "    1. What is the temperature of the model that best matches the spectrum of this star?\n",
    "    2. How much red light does this star make compared to the amount of blue light it makes?\n",
    "    3. At what color does this star emit the most light?\n",
    "4. Summarize in your own words the relationship between the temperature and spectrum of a star.\n",
    "\n",
    "### Interactive Figure 2\n",
    "\n",
    "1. For the Sun:\n",
    "    1. Does this star emit more light in the `B` (blue) filter or in the `V` (green) filter?\n",
    "    2. What is the B-V color of this star (it is in the figure label)?\n",
    "1. For the star Proxima Centauri:\n",
    "    1. Does this star emit more light in the `B` (blue) filter or in the `V` (green) filter?\n",
    "    2. What is the B-V color of this star (it is in the figure label)?\n",
    "1. For the star Eta Ursae Majoris:\n",
    "    1. Does this star emit more light in the `B` (blue) filter or in the `V` (green) filter?\n",
    "    2. What is the B-V color of this star (it is in the figure label)?\n",
    "1. Imagine you observe a star whose B-V color is *roughly* 0.9.\n",
    "  1. What is the color of this star: very red? very blue? In between?\n",
    "  2. What is the temperature of this star?\n",
    "1. Imagine you observe a star whose B-V color is *roughly* -0.3.\n",
    "  1. What is the color of this star: very red? very blue? In between?\n",
    "  2. What is the temperature of this star?\n",
    "1. State in your own words what the relationship between temperature and  B-V color is.\n",
    "2. Add a B-V color for each of the temperatures on your HR diagram."
   ]
  },
  {
   "cell_type": "code",
   "execution_count": null,
   "id": "dd29fad3-7a99-49ed-b21a-b296dec7e9a8",
   "metadata": {},
   "outputs": [],
   "source": []
  }
 ],
 "metadata": {
  "kernelspec": {
   "display_name": "Python 3 (ipykernel)",
   "language": "python",
   "name": "python3"
  },
  "language_info": {
   "codemirror_mode": {
    "name": "ipython",
    "version": 3
   },
   "file_extension": ".py",
   "mimetype": "text/x-python",
   "name": "python",
   "nbconvert_exporter": "python",
   "pygments_lexer": "ipython3",
   "version": "3.12.5"
  }
 },
 "nbformat": 4,
 "nbformat_minor": 5
}
