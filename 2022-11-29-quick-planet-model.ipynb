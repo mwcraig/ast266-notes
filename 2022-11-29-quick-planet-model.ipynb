{
 "cells": [
  {
   "cell_type": "markdown",
   "id": "f7dbc002-70a1-4f00-9ed2-a4e45127bad7",
   "metadata": {},
   "source": [
    "# 2022-11-29 "
   ]
  },
  {
   "cell_type": "markdown",
   "id": "4441fa10-5791-48b3-9eb1-f4105618973b",
   "metadata": {},
   "source": [
    "## Explore this interactive\n",
    "\n",
    "[jupyter.mnstate.edu](jupyter.mnstate.edu)\n"
   ]
  },
  {
   "cell_type": "code",
   "execution_count": null,
   "id": "e3842aed-c208-438c-b17a-9b897a4c13fe",
   "metadata": {},
   "outputs": [],
   "source": [
    "%matplotlib ipympl\n",
    "import mpl_interactions.ipyplot as iplt\n",
    "import matplotlib.pyplot as plt\n",
    "import numpy as np\n",
    "import batman\n"
   ]
  },
  {
   "cell_type": "code",
   "execution_count": null,
   "id": "63b88a43-fbfb-4d51-9a65-a7aeb58835a3",
   "metadata": {},
   "outputs": [],
   "source": [
    "params = batman.TransitParams()\n",
    "\n",
    "params.t0 = 0.                        #time of inferior conjunction\n",
    "params.per = 1.                       #orbital period\n",
    "params.rp = 0.1                       #planet radius (in units of stellar radii)\n",
    "params.a = 15.                        #semi-major axis (in units of stellar radii)\n",
    "params.inc = 87.                      #orbital inclination (in degrees)\n",
    "params.ecc = 0.                       #eccentricity\n",
    "params.w = 90.                        #longitude of periastron (in degrees)\n",
    "params.limb_dark = \"quadratic\"        #limb darkening model\n",
    "params.u = [0.1, 0.1]      #limb darkening coefficients [u1, u2, u3, u4]\n",
    "\n",
    "t = np.linspace(-0.025, 0.025, 1000)  #times at which to calculate light curve\n",
    "m = batman.TransitModel(params, t)    #initializes model"
   ]
  },
  {
   "cell_type": "code",
   "execution_count": null,
   "id": "0ef6ee24-fda9-436e-8751-2ea3b8b911b6",
   "metadata": {
    "tags": []
   },
   "outputs": [],
   "source": [
    "def f3(t, planet_radius, semi_major_axis):\n",
    "    params.rp = planet_radius\n",
    "    params.a = semi_major_axis\n",
    "    return m.light_curve(params)\n",
    "\n",
    "\n",
    "fig, ax = plt.subplots()\n",
    "controls = iplt.plot(t, f3, planet_radius=np.linspace(0.01, 0.2, 20), semi_major_axis=np.linspace(2, 25, 100), label=\"Transit curve\")\n",
    "#iplt.plot(x, f2, controls=controls, label=\"f2\")\n",
    "_ = plt.legend()\n",
    "plt.grid()\n",
    "plt.show()"
   ]
  },
  {
   "cell_type": "code",
   "execution_count": null,
   "id": "b57ad14b-0b71-404c-9aec-a1f560236fca",
   "metadata": {},
   "outputs": [],
   "source": []
  }
 ],
 "metadata": {
  "kernelspec": {
   "display_name": "Python 3 (ipykernel)",
   "language": "python",
   "name": "python3"
  },
  "language_info": {
   "codemirror_mode": {
    "name": "ipython",
    "version": 3
   },
   "file_extension": ".py",
   "mimetype": "text/x-python",
   "name": "python",
   "nbconvert_exporter": "python",
   "pygments_lexer": "ipython3",
   "version": "3.10.6"
  }
 },
 "nbformat": 4,
 "nbformat_minor": 5
}
