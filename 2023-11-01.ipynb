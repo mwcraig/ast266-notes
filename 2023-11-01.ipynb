{
 "cells": [
  {
   "cell_type": "markdown",
   "id": "62db2f05-b95a-4c44-8941-564414f05822",
   "metadata": {},
   "source": [
    "# 2023-11-01 -- calibrate a night of data\n",
    "\n",
    "Please calibrate the same night you reveiewed on Monday.\n",
    "\n",
    "Settings are below"
   ]
  },
  {
   "cell_type": "markdown",
   "id": "760323c1-0f96-4b2d-ba4f-1e8ebce31a72",
   "metadata": {},
   "source": [
    "# Information and settings for Andor/Apogee Alta CG16M\n",
    "\n",
    "## Camera parameters\n",
    "\n",
    "+ Name: `Apogee Alta CG16M`\n",
    "+ Gain: `1.45 electron/ADU`\n",
    "+ read noise: `9` electrons\n",
    "+ dark current: `0.01 electron/pixel/sec` typical, but there are hot pixels\n",
    "+ linearity limit: `35000 ADU`\n",
    "+ Pixel size: 9 micron\n",
    "+ Number of pixels: 4096 x 4109 (includes overscan)\n",
    "\n",
    "\n",
    "## Reduction settings\n",
    "\n",
    "### All images\n",
    "\n",
    "+ Do not use the overscan\n",
    "+ Trim to all of first axis, 4096 on second axis\n",
    "\n",
    "### Reducing bias images\n",
    "\n",
    "+ Only need to trim\n",
    "\n",
    "### Combining bias\n",
    "\n",
    "+ Choose sigma clipping, upper and lower bounds of 5.\n",
    "+ Combine using mean/average\n",
    "\n",
    "### Reducing darks\n",
    "\n",
    "IF THE DARK EXPOSURE TIME DOESN'T MATCH ANY OF The OTHER IMAGES:\n",
    "\n",
    "+ Trim\n",
    "+ Subtract bias\n",
    "\n",
    "### Combining darks\n",
    "\n",
    "+ Choose sigma clipping, upper and lower bounds of 5.\n",
    "+ Combine using mean/average\n",
    "+ Group by exposure time\n",
    "\n",
    "## Reducing flats\n",
    "\n",
    "+ Trim\n",
    "+ Subtract bias\n",
    "+ Subtract dark\n",
    "    - Scale by exposure time\n",
    "\n",
    "## Combining flats\n",
    "\n",
    "+ Choose sigma clipping, upper and lower bounds of 5.\n",
    "+ Combine using mean/average first, BUT if there are stars in the combined darks then use median instead.\n",
    "+ Scale before combining\n",
    "    - by median\n",
    "+ Group by filter\n",
    "\n",
    "## Reducing science (light) images\n",
    "\n",
    "+ Trim\n",
    "+ Subtract bias\n",
    "+ Subtract dark\n",
    "    - Scale by exposure time\n",
    "+ Flat correct\n"
   ]
  },
  {
   "cell_type": "code",
   "execution_count": null,
   "id": "13eef96e-b62f-4e27-b721-384b22151c49",
   "metadata": {},
   "outputs": [],
   "source": []
  }
 ],
 "metadata": {
  "kernelspec": {
   "display_name": "Python 3 (ipykernel)",
   "language": "python",
   "name": "python3"
  },
  "language_info": {
   "codemirror_mode": {
    "name": "ipython",
    "version": 3
   },
   "file_extension": ".py",
   "mimetype": "text/x-python",
   "name": "python",
   "nbconvert_exporter": "python",
   "pygments_lexer": "ipython3",
   "version": "3.10.6"
  }
 },
 "nbformat": 4,
 "nbformat_minor": 5
}
