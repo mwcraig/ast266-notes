{
 "cells": [
  {
   "cell_type": "markdown",
   "metadata": {},
   "source": [
    "# 2021-09-09\n",
    "\n",
    "+ Finish review of night\n",
    "+ Explore an artificial image and answer questions below \n",
    "+ Look at our filters/camera"
   ]
  },
  {
   "cell_type": "markdown",
   "metadata": {},
   "source": [
    "## Night review\n",
    "\n",
    "To restart editing:\n",
    "\n",
    "1. Go to https://github.com/feder-observatory/processed_images/pulls and find pull request that is yours\n",
    "2. Click on the pull request, then the \"\"Files changed\" tab. Clcik the three dots and \"Edit\"\n",
    "3. Once you are done, save your changes by clicking the green button -- check that there are no more green buttons.\n",
    "3. Find the issue number for your night here: https://github.com/feder-observatory/processed_images/issues\n",
    "4. Also once done, edit your commont on the pull request (right now it is blank). Add this: `Fixes #` then whatever number your original issue was -- see [this pull request for an example](https://github.com/feder-observatory/processed_images/pull/455)"
   ]
  },
  {
   "cell_type": "markdown",
   "metadata": {},
   "source": [
    "## Artificial image for exploring bias, read noise, etc"
   ]
  },
  {
   "cell_type": "markdown",
   "metadata": {},
   "source": [
    "### Click this link to get a copy of the \"book\" we'll be using for the next couple of weeks: https://bit.ly/3ngKrGs\n",
    "\n",
    "Next, go into \"notebooks\" then open \"Artificial image explorer\""
   ]
  },
  {
   "cell_type": "markdown",
   "metadata": {},
   "source": [
    "### Questions to answer while exploring an artificial image\n",
    "\n",
    "Go to `notebooks → Artificial image explorer.ipynb`\n",
    "\n",
    "+ Use the \"hot pixel\" checkbox to regenerate images.\n",
    "+ Only have one effect at a time turned on.\n",
    "\n",
    "\n",
    "1. Does the bias stay the same each time?\n",
    "    \n",
    "2. Does the dark current stay the same each time?\n",
    "\n",
    "3. What happens if you make the read noise very large?\n",
    "\n",
    "4. What if you make the read noise very small?\n"
   ]
  },
  {
   "cell_type": "markdown",
   "metadata": {},
   "source": [
    "## Our filters and camera"
   ]
  }
 ],
 "metadata": {
  "kernelspec": {
   "display_name": "Python 3",
   "language": "python",
   "name": "python3"
  },
  "language_info": {
   "codemirror_mode": {
    "name": "ipython",
    "version": 3
   },
   "file_extension": ".py",
   "mimetype": "text/x-python",
   "name": "python",
   "nbconvert_exporter": "python",
   "pygments_lexer": "ipython3",
   "version": "3.8.3"
  }
 },
 "nbformat": 4,
 "nbformat_minor": 4
}
