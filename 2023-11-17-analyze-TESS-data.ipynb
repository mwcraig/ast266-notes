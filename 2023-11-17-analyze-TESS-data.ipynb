{
 "cells": [
  {
   "cell_type": "markdown",
   "id": "61193b81-1baa-4ed6-bb4b-3d8c086a6923",
   "metadata": {},
   "source": [
    "# 2023-11-17 More analysis of TESS light curves"
   ]
  },
  {
   "cell_type": "markdown",
   "id": "d392db94-b130-4b25-8264-aafacaf0de27",
   "metadata": {},
   "source": [
    "## Overview\n",
    "\n",
    "+ It is not uncommon for things to go wrong while observing.\n",
    "    - Stars can go out of focus\n",
    "    - Clouds can happen\n",
    "    - The sky can be brighter or dimmer depending on the night\n",
    "+ Given that, it is approporiate to look at the data for clear changes in conditions and consider excluding data during times when conditions are bad."
   ]
  },
  {
   "cell_type": "markdown",
   "id": "1cf4e4f7-5e18-43f2-83a8-77f8537d1c1e",
   "metadata": {},
   "source": [
    "## Start by looking at your second plot in notebook 6\n",
    "\n",
    "The bottom part of the  plot has lots of information about conditions; the top part has a legend explaining what the bottom part curves are.\n",
    "\n",
    "![top part legend](media/notebook-06-legend.png)\n",
    "\n",
    "The bottom part graphs look like this\n",
    "\n",
    "![bottom part curves](media/notebook-06-curves.png)"
   ]
  },
  {
   "cell_type": "markdown",
   "id": "89616f9a-a722-46fd-842f-a4c7ef4b6f35",
   "metadata": {},
   "source": [
    "## To do today\n",
    "\n",
    "1. Look at the quality curves.\n",
    "2. Decide whether it might be appropriate to exclude any of the data.\n",
    "3. Write down the times (BJD) you want to exclude\n",
    "4. Run the revised notebook 06 and enter those times\n",
    "5. Look at the resulting curves"
   ]
  }
 ],
 "metadata": {
  "kernelspec": {
   "display_name": "Python 3 (ipykernel)",
   "language": "python",
   "name": "python3"
  },
  "language_info": {
   "codemirror_mode": {
    "name": "ipython",
    "version": 3
   },
   "file_extension": ".py",
   "mimetype": "text/x-python",
   "name": "python",
   "nbconvert_exporter": "python",
   "pygments_lexer": "ipython3",
   "version": "3.10.6"
  }
 },
 "nbformat": 4,
 "nbformat_minor": 5
}
