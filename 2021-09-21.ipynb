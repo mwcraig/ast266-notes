{
 "cells": [
  {
   "cell_type": "markdown",
   "metadata": {},
   "source": [
    "# 2021-09-21"
   ]
  },
  {
   "cell_type": "markdown",
   "metadata": {},
   "source": [
    "## Outline\n",
    "\n",
    "+ Review images taken of your object and indicate whether you need more.\n",
    "    - If so, how many and what filter?\n",
    "    - Update plan (links below)\n",
    "+ ACP plans -- how the telescope knows what pictures to take\n",
    "+ Image calibration (also called reduction)"
   ]
  },
  {
   "cell_type": "markdown",
   "metadata": {},
   "source": [
    "## Review images of your object\n",
    "\n",
    "+ Look at the images of your object. They were taken on either [2021-09-14](http://physics.mnstate.edu/feder_gallery/2021-09-14/) or [2021-09-18](http://physics.mnstate.edu/feder_gallery/2021-09-18/).\n",
    "+ In this [google sheet](https://docs.google.com/spreadsheets/d/1kaGnUVjhZYWFIsM_-dARU_F00H757cPmswlWEcW8irk/edit?usp=sharing) indicate whether you want/need more images -- enter YES or NO in your row. Why might you want more?\n",
    "    - hard to see your object\n",
    "    - satellite trail through object\n",
    "    - object hard to see in one of the filters\n",
    "   "
   ]
  },
  {
   "cell_type": "markdown",
   "metadata": {},
   "source": [
    "## ACP Plans\n",
    "\n",
    "An ACP plan is a text file with list of objects to observe. Multiple plans can be run in a night by \"chaining\" them together.\n",
    "\n",
    "Take a look at the plans from [2021-09-14](media/2021-09-14-01-a266-objects.txt) and [2021-09-18](media/2021-09-18-01-a266-objects.txt).\n",
    "\n",
    "A sample is below:\n",
    "\n",
    "```\n",
    "\n",
    "#autofocus\n",
    ";\n",
    ";\n",
    "; === Target M27 ===\n",
    ";\n",
    "#repeat 7\n",
    "#count 1,1,1\n",
    "#filter B,gp,rp\n",
    "#interval 120,90,90\n",
    "#binning 1,1,1\n",
    "m27\t19:59:36.340\t22:43:16.09\n",
    "```"
   ]
  },
  {
   "cell_type": "markdown",
   "metadata": {},
   "source": [
    "### If you want 3 more `gp` and one more `B`....\n",
    "\n",
    "\n",
    "```\n",
    ";\n",
    "; === Target M27 ===\n",
    ";\n",
    "#repeat 1\n",
    "#count 1,3\n",
    "#filter B,gp\n",
    "#interval 240,90\n",
    "#binning 1,1\n",
    "m27    19:59:36.340    22:43:16.09\n",
    "```"
   ]
  },
  {
   "cell_type": "markdown",
   "metadata": {},
   "source": [
    "### If you want more images\n",
    "\n",
    "Copy your piece of the plan into [this google doc](https://docs.google.com/document/d/1ofDxQMI0jZt7JkcYqRMHgKgyghc4AvPsVdkDtCt1YNc/edit?usp=sharing).\n",
    "\n",
    "Be sure to modify it to take only as many images as you want/need."
   ]
  },
  {
   "cell_type": "markdown",
   "metadata": {},
   "source": [
    "## Reduction overview\n",
    "\n",
    "We discussed an overview of the calibration (also called reduction) of images. You can read the details [here](http://www.astropy.org/ccd-reduction-and-photometry-guide/v/dev/notebooks/01-05-Calibration-overview.html)."
   ]
  },
  {
   "cell_type": "markdown",
   "metadata": {},
   "source": [
    "### Video discussion of this section from 2020"
   ]
  },
  {
   "cell_type": "code",
   "execution_count": null,
   "metadata": {},
   "outputs": [],
   "source": [
    "from IPython.display import YouTubeVideo\n",
    "YouTubeVideo('egyz1dEy5ao')"
   ]
  },
  {
   "cell_type": "code",
   "execution_count": null,
   "metadata": {},
   "outputs": [],
   "source": []
  }
 ],
 "metadata": {
  "kernelspec": {
   "display_name": "Python 3",
   "language": "python",
   "name": "python3"
  },
  "language_info": {
   "codemirror_mode": {
    "name": "ipython",
    "version": 3
   },
   "file_extension": ".py",
   "mimetype": "text/x-python",
   "name": "python",
   "nbconvert_exporter": "python",
   "pygments_lexer": "ipython3",
   "version": "3.8.3"
  }
 },
 "nbformat": 4,
 "nbformat_minor": 4
}
