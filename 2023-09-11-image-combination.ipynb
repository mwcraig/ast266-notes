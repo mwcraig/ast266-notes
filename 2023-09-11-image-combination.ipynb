{
 "cells": [
  {
   "cell_type": "markdown",
   "metadata": {},
   "source": [
    "# 2023-09-11 Image Combination"
   ]
  },
  {
   "cell_type": "markdown",
   "metadata": {},
   "source": [
    "## Topics\n",
    "\n",
    "+ Observatory update: working smoothly for the most part 😃\n",
    "+ Images for color objets: everyone has at least 32 images now\n",
    "+ Image combination\n",
    "    - Conceptual intro\n",
    "    - More detailed discussion"
   ]
  },
  {
   "cell_type": "markdown",
   "metadata": {},
   "source": [
    "## Image combination: conceptual"
   ]
  },
  {
   "cell_type": "markdown",
   "metadata": {},
   "source": [
    "The three images below were taken at Oxbow Overlook in the North Unit of Theodore Roosevelt National Park around 11:45PM in late July 2020.\n",
    "\n"
   ]
  },
  {
   "cell_type": "code",
   "execution_count": null,
   "metadata": {},
   "outputs": [],
   "source": [
    "from IPython.display import Image, HTML"
   ]
  },
  {
   "cell_type": "code",
   "execution_count": null,
   "metadata": {},
   "outputs": [],
   "source": [
    "Image(url='https://physics.mnstate.edu/craig/images/_DSC1782.gif')"
   ]
  },
  {
   "cell_type": "markdown",
   "metadata": {},
   "source": [
    "## What do you notice in the image?\n",
    "\n"
   ]
  },
  {
   "cell_type": "markdown",
   "metadata": {},
   "source": [
    "<!--\n",
    "2021:\n",
    "\n",
    "+ Multiple streaks\n",
    "+ Stars stretched out on right side (distortion)\n",
    "+ Sky moves\n",
    "+ Last image has brighter sky\n",
    "-->\n",
    "\n",
    "<!-- + Overall brightness changed\n",
    "+ Stars arcing to the right between images\n",
    "+ Larger time gap between first two images than between second two\n",
    "+ Last image less sharp\n",
    "+ Plane moving across sky\n",
    "+ More satellites moving across image -->"
   ]
  },
  {
   "cell_type": "markdown",
   "metadata": {},
   "source": []
  },
  {
   "cell_type": "markdown",
   "metadata": {},
   "source": []
  },
  {
   "cell_type": "markdown",
   "metadata": {},
   "source": []
  },
  {
   "cell_type": "markdown",
   "metadata": {},
   "source": []
  },
  {
   "cell_type": "markdown",
   "metadata": {},
   "source": []
  },
  {
   "cell_type": "markdown",
   "metadata": {},
   "source": [
    "### Steps for processing\n",
    "\n",
    "+ Align images\n",
    "+ Layer the images \n",
    "+ Combine"
   ]
  },
  {
   "cell_type": "markdown",
   "metadata": {},
   "source": [
    "### Ways to combine these three images into one\n",
    "\n",
    "+ Add the images\n",
    "+ Average the images\n",
    "+ Median combine images"
   ]
  },
  {
   "cell_type": "markdown",
   "metadata": {},
   "source": [
    "### Rotations\n",
    "\n",
    "+ Our telescope tracks the stars to remove rotation\n",
    "+ For theses images software was used to align the stars"
   ]
  },
  {
   "cell_type": "markdown",
   "metadata": {},
   "source": [
    "### Average \n",
    "\n",
    "\n",
    "1, 3, 7, 6, 150\n",
    "\n",
    "Add them up, divide by the number of numbers (5 in this case)"
   ]
  },
  {
   "cell_type": "code",
   "execution_count": null,
   "metadata": {},
   "outputs": [],
   "source": [
    "import numpy as np\n",
    "\n",
    "np.mean([1, 3, 7, 6, 150])"
   ]
  },
  {
   "cell_type": "markdown",
   "metadata": {},
   "source": [
    "### Is this average value represntative of all the values?\n"
   ]
  },
  {
   "cell_type": "markdown",
   "metadata": {},
   "source": [
    "### Result of averaging images\n",
    "\n",
    "👉 Note that images have been rotated so that the stars line up."
   ]
  },
  {
   "cell_type": "code",
   "execution_count": null,
   "metadata": {},
   "outputs": [],
   "source": [
    "Image(url='https://physics.mnstate.edu/craig/images/r_dark-mw_stacked-avg-median-clip-St.jpg')"
   ]
  },
  {
   "cell_type": "markdown",
   "metadata": {},
   "source": [
    "### Median\n",
    "\n",
    "Sort the numbers, and median is the middle value."
   ]
  },
  {
   "cell_type": "code",
   "execution_count": null,
   "metadata": {},
   "outputs": [],
   "source": [
    "np.mean([1, 3, 7, 6, 150])"
   ]
  },
  {
   "cell_type": "markdown",
   "metadata": {},
   "source": [
    "For a longer set of numbers one outlier makes less difference but the result is still biased."
   ]
  },
  {
   "cell_type": "code",
   "execution_count": null,
   "metadata": {},
   "outputs": [],
   "source": [
    "np.mean([1, 2, 3, 3, 4, 5, 6, 6, 6, 7, 10, 12, 13, 18, 19, 150])"
   ]
  },
  {
   "cell_type": "code",
   "execution_count": null,
   "metadata": {},
   "outputs": [],
   "source": [
    "np.median([1, 2, 3, 3, 4, 5, 6, 6, 6, 7, 10, 12, 13, 18, 19, 150])"
   ]
  },
  {
   "cell_type": "markdown",
   "metadata": {},
   "source": [
    "### Result of median"
   ]
  },
  {
   "cell_type": "code",
   "execution_count": null,
   "metadata": {},
   "outputs": [],
   "source": [
    "Image(url='https://physics.mnstate.edu/craig/images/r_dark-mw_stacked-median.jpg')"
   ]
  },
  {
   "cell_type": "markdown",
   "metadata": {},
   "source": [
    "## More about combining\n",
    "\n",
    "Please open this notebook by clicking onthis link [01-06-Image-combination.ipynb](01-06-Image-combination.ipynb)"
   ]
  },
  {
   "cell_type": "markdown",
   "metadata": {},
   "source": [
    "### Why does the average reduce noise?\n",
    "\n",
    "Average is two steps:\n",
    "\n",
    "1. Add images together\n",
    "2. Divide by number of images\n",
    "\n"
   ]
  },
  {
   "cell_type": "markdown",
   "metadata": {},
   "source": [
    "The dividing is what lowers the noise....why didn't the noise go down by a factor of 100 when we averaged 100 images together?"
   ]
  },
  {
   "cell_type": "markdown",
   "metadata": {},
   "source": [
    "Two rules for calculating error:\n",
    "\n",
    "+ Counting error: If you count $N$ things the error in the counts is $\\sqrt{N}$\n",
    "\n",
    "+ If you combine two quantities by adding or subtracting whose errors are $e_1$ and $e_2$ then the error in result $\\sqrt{e_1^2 + e_2^2}$"
   ]
  },
  {
   "cell_type": "markdown",
   "metadata": {},
   "source": [
    "Combining 100 identical images. Call error in one of those images $e_1$, then error in the result is $\\sqrt{e_1^2 + e_1^2 + e_1^2 + \\cdots + e_1^2}$"
   ]
  },
  {
   "cell_type": "markdown",
   "metadata": {},
   "source": [
    "This simplifies to $\\sqrt{N e_1^2} = \\sqrt{N} e_1$"
   ]
  },
  {
   "cell_type": "markdown",
   "metadata": {},
   "source": [
    "To do the average, divide by $N$. TO find its error, divide the error in the sum, which was $\\sqrt{N} e_1$ by $N$ to get $e_1/\\sqrt{N}$."
   ]
  },
  {
   "cell_type": "markdown",
   "metadata": {},
   "source": [
    "### Averaging reduces noise more but need to ignore \"extreme values\": sigma clipping"
   ]
  },
  {
   "cell_type": "markdown",
   "metadata": {},
   "source": [
    "#### More about sigma clipping\n",
    "\n",
    "Given the set of number below, sigma clipping is way to exclude extreme values when you do an average."
   ]
  },
  {
   "cell_type": "code",
   "execution_count": null,
   "metadata": {},
   "outputs": [],
   "source": [
    "counts_in_pixel_23 = [1, 2, 3, 3, 4, 5, 6, 6, 6, 7, 10, 12, 13, 18, 19, 150]"
   ]
  },
  {
   "cell_type": "code",
   "execution_count": null,
   "metadata": {},
   "outputs": [],
   "source": [
    "import numpy as np\n",
    "\n",
    "np.mean(counts_in_pixel_23)"
   ]
  },
  {
   "cell_type": "code",
   "execution_count": null,
   "metadata": {},
   "outputs": [],
   "source": [
    "np.mean(counts_in_pixel_23[:-1])"
   ]
  },
  {
   "cell_type": "markdown",
   "metadata": {},
   "source": [
    "Exclude extreme values from average.\n",
    "\n",
    "Outline of how it works:\n",
    "\n",
    "+ Calculate median value of numbers.\n",
    "+ Calculate absolute value of difference between each number and the median.\n",
    "+ Calcualte the median median of the differences.\n",
    "+ Divide each number's difference by the median difference."
   ]
  },
  {
   "cell_type": "markdown",
   "metadata": {},
   "source": [
    "### Recording of image discussion from 2020"
   ]
  },
  {
   "cell_type": "code",
   "execution_count": null,
   "metadata": {},
   "outputs": [],
   "source": [
    "from IPython.display import YouTubeVideo\n",
    "\n",
    "YouTubeVideo('t0mRDrdf2Y8')"
   ]
  },
  {
   "cell_type": "markdown",
   "metadata": {},
   "source": [
    "### Discussion of rotation from 2020"
   ]
  },
  {
   "cell_type": "code",
   "execution_count": null,
   "metadata": {},
   "outputs": [],
   "source": [
    "YouTubeVideo('KGDQs_qurhA')"
   ]
  },
  {
   "cell_type": "markdown",
   "metadata": {},
   "source": [
    "## Image combination\n",
    "\n",
    "Please click this link to open a \"runnable\" copy of the CCD Data reduction guide on our server:\n",
    "\n",
    "http://bit.ly/ast366-ccd-guide\n",
    "\n",
    "(this link is now in D2L Materials → Content →  Resources too)"
   ]
  },
  {
   "cell_type": "markdown",
   "metadata": {},
   "source": [
    "## When we combine images we will almost always sigma clip and combine using average"
   ]
  },
  {
   "cell_type": "markdown",
   "metadata": {},
   "source": [
    "## Recording of lecture (from 2020)"
   ]
  },
  {
   "cell_type": "code",
   "execution_count": null,
   "metadata": {},
   "outputs": [],
   "source": [
    "from IPython.display import YouTubeVideo\n",
    "YouTubeVideo('WPfXaY8LIWs')"
   ]
  }
 ],
 "metadata": {
  "kernelspec": {
   "display_name": "Python 3 (ipykernel)",
   "language": "python",
   "name": "python3"
  },
  "language_info": {
   "codemirror_mode": {
    "name": "ipython",
    "version": 3
   },
   "file_extension": ".py",
   "mimetype": "text/x-python",
   "name": "python",
   "nbconvert_exporter": "python",
   "pygments_lexer": "ipython3",
   "version": "3.10.6"
  }
 },
 "nbformat": 4,
 "nbformat_minor": 4
}
