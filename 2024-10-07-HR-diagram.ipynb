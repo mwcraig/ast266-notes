{
 "cells": [
  {
   "cell_type": "markdown",
   "id": "270b9ed8-3054-450b-8d59-f89732ef73a2",
   "metadata": {},
   "source": [
    "# 2024-10-07 Color images and HR diagram"
   ]
  },
  {
   "cell_type": "markdown",
   "id": "f4f0cab9-34b4-44da-b247-58e10619bc6b",
   "metadata": {},
   "source": [
    "## Color images\n",
    "\n",
    "+ M74/Broden\n",
    "+ M74/George\n",
    "+ M1/Thomas\n",
    "+ M27/David\n",
    "+ M33/Adre\n",
    "+ M33/Hannah\n",
    "+ M57/Kenna\n",
    "+ M92/Kate\n",
    "+ M31/Matt\n",
    "+ M103/Adien\n",
    "+ M103/Carly"
   ]
  },
  {
   "cell_type": "markdown",
   "id": "4faff8b8-773c-4ddd-ade2-7bf733c031bb",
   "metadata": {},
   "source": [
    "## HR diagrams\n",
    "\n",
    "Do the lecture tutorial about HR diagrams"
   ]
  },
  {
   "cell_type": "code",
   "execution_count": null,
   "id": "2b4bc249-472c-46c4-8bc5-2275fe8ab75a",
   "metadata": {},
   "outputs": [],
   "source": []
  }
 ],
 "metadata": {
  "kernelspec": {
   "display_name": "Python 3 (ipykernel)",
   "language": "python",
   "name": "python3"
  },
  "language_info": {
   "codemirror_mode": {
    "name": "ipython",
    "version": 3
   },
   "file_extension": ".py",
   "mimetype": "text/x-python",
   "name": "python",
   "nbconvert_exporter": "python",
   "pygments_lexer": "ipython3",
   "version": "3.12.5"
  }
 },
 "nbformat": 4,
 "nbformat_minor": 5
}
