{
 "cells": [
  {
   "cell_type": "markdown",
   "metadata": {},
   "source": [
    "# 2022-11-01"
   ]
  },
  {
   "cell_type": "markdown",
   "metadata": {},
   "source": [
    "## Overview\n",
    "\n",
    "+ Magnitudes\n",
    "+ Star color"
   ]
  },
  {
   "cell_type": "markdown",
   "metadata": {},
   "source": [
    "## Magnitudes\n",
    "\n",
    "+ The magnitude system is \"backwards\" in that bigger numbers mean a fainter object.\n",
    "+ The magnitude scale is logarithmic. A difference of 5 magnitudes is a factor of 100 in brightness.\n",
    "+ There are many different kinds of magnitudes: instruments, through a filter, bolometric, calibrated..."
   ]
  },
  {
   "cell_type": "markdown",
   "metadata": {},
   "source": [
    "Formula for *instrumental* magnitude, which will *not* match catalog magnitudes:\n",
    "\n",
    "\\begin{equation}\n",
    "m_{\\text{inst}} = -2.5 \\log_{10}{(g N_{\\text{star}}/t_{exp})}\n",
    "\\end{equation}\n",
    "\n",
    "where $g$ is the gain of the camera and $N_{\\text{star}}$ is the net counts in the star."
   ]
  },
  {
   "cell_type": "markdown",
   "metadata": {},
   "source": [
    "### Example \n",
    "\n",
    "1. Open your photometry CSV file for your combined images.\n",
    "2. For the first row of data, \n",
    "    a. find the column called \"exposure\" and write that down -- it is the exposure time in seconds\n",
    "    b. find the column called \"aperture_net_flux\" and write down the value -- it is the $N_{star}$ value\n",
    "3. Calculate the instrumental magnitude using the formula above, using a gain of 1.5 photons/count\n",
    "4. Scroll to the column \"mag_inst\" -- that should come close to matching the value you got by hand."
   ]
  },
  {
   "cell_type": "markdown",
   "metadata": {},
   "source": [
    "## Open up this interactive\n",
    "\n",
    "[jupyter.mnstate.edu](http://jupyter.mnstate.edu)"
   ]
  },
  {
   "cell_type": "markdown",
   "metadata": {},
   "source": [
    "## Magnitude and color\n",
    "\n",
    "+ Is the color `B - V` positive or negative for a very red star?\n",
    "+ Is the color `B - V` positive or negative for a very blue star?## Re-run comp star notebook (if time)"
   ]
  },
  {
   "cell_type": "code",
   "execution_count": null,
   "metadata": {},
   "outputs": [],
   "source": []
  }
 ],
 "metadata": {
  "kernelspec": {
   "display_name": "Python 3 (ipykernel)",
   "language": "python",
   "name": "python3"
  },
  "language_info": {
   "codemirror_mode": {
    "name": "ipython",
    "version": 3
   },
   "file_extension": ".py",
   "mimetype": "text/x-python",
   "name": "python",
   "nbconvert_exporter": "python",
   "pygments_lexer": "ipython3",
   "version": "3.10.5"
  }
 },
 "nbformat": 4,
 "nbformat_minor": 4
}
