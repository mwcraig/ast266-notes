{
 "cells": [
  {
   "cell_type": "markdown",
   "metadata": {},
   "source": [
    "# 2022-11-01"
   ]
  },
  {
   "cell_type": "markdown",
   "metadata": {},
   "source": [
    "## Overview\n",
    "\n",
    "+ Magnitudes\n",
    "+ Star color"
   ]
  },
  {
   "cell_type": "markdown",
   "metadata": {},
   "source": [
    "## Magnitudes\n",
    "\n",
    "+ The magnitude system is \"backwards\" in that bigger numbers mean a fainter object.\n",
    "+ The magnitude scale is logarithmic. A difference of 5 magnitudes is a factor of 100 in brightness.\n",
    "+ There are many different kinds of magnitudes: instruments, through a filter, bolometric, calibrated..."
   ]
  },
  {
   "cell_type": "markdown",
   "metadata": {},
   "source": [
    "Formula for *instrumental* magnitude, which will *not* match catalog magnitudes:\n",
    "\n",
    "\\begin{equation}\n",
    "m_{\\text{inst}} = -2.5 \\log_{10}{(g N_{\\text{star}}/t_{exp})}\n",
    "\\end{equation}\n",
    "\n",
    "where $g$ is the gain of the camera and $N_{\\text{star}}$ is the net counts in the star.\n",
    "\n",
    "**Note:** You do not need to enter the `10` in $\\log_{10}$ on your calculator. The `log` button is almost certainly already log base 10."
   ]
  },
  {
   "cell_type": "markdown",
   "metadata": {},
   "source": [
    "### Example \n",
    "\n",
    "1. Open your photometry CSV file for your combined images.\n",
    "2. For the first row of data, \n",
    "    1. find the column called \"exposure\" and write that down -- it is the exposure time in seconds\n",
    "    2. find the column called \"aperture_net_flux\" and write down the value -- it is the $N_{star}$ value\n",
    "3. Calculate the instrumental magnitude using the formula above, using a gain of 1.5 photons/count\n",
    "4. Scroll to the column \"mag_inst\" -- that should come close to matching the value you got by hand."
   ]
  },
  {
   "cell_type": "markdown",
   "metadata": {},
   "source": [
    "## Open up this interactive\n",
    "\n",
    "[jupyter.mnstate.edu](http://jupyter.mnstate.edu)"
   ]
  },
  {
   "cell_type": "markdown",
   "metadata": {},
   "source": [
    "## Magnitude and color\n",
    "\n",
    "+ Is the color `B - V` positive or negative for a very red star?\n",
    "    - Positive for very red star\n",
    "+ Is the color `B - V` positive or negative for a very blue star?\n",
    "    - negative for very blue star\n",
    "\n",
    "+ One star has `B-V` of 0.5 the other has `B-V` of 1.0 which star is redder?\n",
    "    - Second one, has more red light\n",
    "    \n",
    "+ At what temperature does color index go from positive to negative?\n",
    "    - Around 10000K"
   ]
  },
  {
   "cell_type": "markdown",
   "metadata": {},
   "source": [
    "$$\n",
    "m_{cat} = m_{inst} + c\n",
    "$$\n",
    "\n",
    "For my first star, ...."
   ]
  },
  {
   "cell_type": "code",
   "execution_count": 1,
   "metadata": {},
   "outputs": [
    {
     "data": {
      "text/plain": [
       "19.176000000000002"
      ]
     },
     "execution_count": 1,
     "metadata": {},
     "output_type": "execute_result"
    }
   ],
   "source": [
    "13.74 + 5.436 "
   ]
  },
  {
   "cell_type": "code",
   "execution_count": 2,
   "metadata": {},
   "outputs": [
    {
     "data": {
      "text/plain": [
       "12.744999999999997"
      ]
     },
     "execution_count": 2,
     "metadata": {},
     "output_type": "execute_result"
    }
   ],
   "source": [
    "-6.431 + 19.176\n"
   ]
  },
  {
   "cell_type": "code",
   "execution_count": null,
   "metadata": {},
   "outputs": [],
   "source": []
  }
 ],
 "metadata": {
  "kernelspec": {
   "display_name": "Python 3 (ipykernel)",
   "language": "python",
   "name": "python3"
  },
  "language_info": {
   "codemirror_mode": {
    "name": "ipython",
    "version": 3
   },
   "file_extension": ".py",
   "mimetype": "text/x-python",
   "name": "python",
   "nbconvert_exporter": "python",
   "pygments_lexer": "ipython3",
   "version": "3.10.6"
  }
 },
 "nbformat": 4,
 "nbformat_minor": 4
}
