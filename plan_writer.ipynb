{
 "cells": [
  {
   "cell_type": "code",
   "execution_count": 3,
   "id": "6d060b55-8332-42a7-bc71-2b45461377f9",
   "metadata": {},
   "outputs": [],
   "source": [
    "from dataclasses import dataclass\n",
    "from typing import List\n",
    "\n",
    "import numpy as np\n",
    "\n",
    "from astropy.coordinates import SkyCoord"
   ]
  },
  {
   "cell_type": "code",
   "execution_count": 16,
   "id": "2ce1951d-077e-43a2-b16d-376fc435977e",
   "metadata": {},
   "outputs": [],
   "source": [
    "objects = [\"Groth\", \"M102\", \"M71\", \"M27\", \"M29\", \"M52\", \"M110\", \"M74\", \"M76\", \"M45\"]\n",
    "\n",
    "kwargs = dict(\n",
    "    filters = [\"B\", \"V\", \"rp\"],\n",
    "    exposures = [120, 120, 120],\n",
    "    counts = [2, 1, 1],\n",
    "    binnings = [1, 1, 1],\n",
    ")\n",
    "\n",
    "# kwargs = dict(\n",
    "#     filters = [\"ip\"],\n",
    "#     exposures = [120],\n",
    "#     counts = [1],\n",
    "#     binnings = [1],\n",
    "# )"
   ]
  },
  {
   "cell_type": "code",
   "execution_count": 17,
   "id": "d92a9b8a-67d6-478f-99cc-72eb1b4da276",
   "metadata": {},
   "outputs": [],
   "source": [
    "@dataclass\n",
    "class Plan:\n",
    "    name: str\n",
    "    repeat: int = 1\n",
    "    filters: List[str] = None\n",
    "    exposures: List[float] = None\n",
    "    binnings: List[int] = None\n",
    "    counts: List[int] = None\n",
    "    autofocus: bool = False\n",
    "    delay: int = 30\n",
    "    \n",
    "    @property\n",
    "    def coord(self):\n",
    "        if not hasattr(self, \"_coord\"):\n",
    "            self._coord = SkyCoord.from_name(self.name)\n",
    "            \n",
    "        return self._coord\n",
    "    \n",
    "    def plan(self):\n",
    "        retval = ''\n",
    "        if self.autofocus:\n",
    "            retval += \"#autofocus\\n\"\n",
    "            \n",
    "        if self.repeat > 1:\n",
    "            retval += f'#repeat {self.repeat}\\n'\n",
    "\n",
    "        retval += (\n",
    "            f\"#binning {','.join([str(b) for b in self.binnings])}\\n\"\n",
    "            f\"#filter {','.join(self.filters)}\\n\"\n",
    "            f\"#interval {','.join([str(e) for e in self.exposures])}\\n\"\n",
    "            f\"#count {','.join([str(c) for c in self.counts])}\\n\"\n",
    "            f\"{self.name}\\t{self.coord.ra.to_string('hour', sep=':')}\\t{self.coord.dec.to_string('degree', sep=':')}\"\n",
    "        )\n",
    "        return retval\n",
    "    \n",
    "    @property\n",
    "    def min_time(self):\n",
    "        \"\"\"\n",
    "        Calculate the total exposure time for this plan.\n",
    "        \"\"\"\n",
    "        per_rep = np.array(self.counts) * np.asarray(self.exposures) + self.delay\n",
    "        return sum(per_rep * self.repeat)\n",
    "        "
   ]
  },
  {
   "cell_type": "code",
   "execution_count": 18,
   "id": "3ed50ce2-3409-45ad-a8a2-5f89711d9776",
   "metadata": {},
   "outputs": [],
   "source": [
    "@dataclass\n",
    "class Plans:\n",
    "    plans: List[Plan]\n",
    "    \n",
    "    @property\n",
    "    def min_time(self):\n",
    "        return sum([p.min_time for p in self.plans])"
   ]
  },
  {
   "cell_type": "code",
   "execution_count": 27,
   "id": "8c02026c-b69e-4f29-8c23-96051042b053",
   "metadata": {},
   "outputs": [],
   "source": [
    "plans = {}\n",
    "planos = []\n",
    "for obj in objects:\n",
    "    p = Plan(name=obj, **kwargs, repeat=4, autofocus=True)\n",
    "    if obj == \"Groth\":\n",
    "        p._coord = SkyCoord(ra=\"14:19:17.8\", dec=\"52:49:26.5\", unit=(\"hour\", \"degree\"))\n",
    "    plans[obj] = p.plan()\n",
    "    planos.append(p)\n",
    "    "
   ]
  },
  {
   "cell_type": "code",
   "execution_count": 28,
   "id": "e827ee8f-7fe1-4ea5-b436-af726ae2489e",
   "metadata": {},
   "outputs": [],
   "source": [
    "mps = Plans(planos)"
   ]
  },
  {
   "cell_type": "code",
   "execution_count": 29,
   "id": "9cdef1e3-c078-4a75-9387-4c31e53da6a7",
   "metadata": {},
   "outputs": [
    {
     "name": "stdout",
     "output_type": "stream",
     "text": [
      "Total time is 380.000 sec, 6.333 hour\n",
      ";\n",
      "; Object Groth\n",
      ";\n",
      "#autofocus\n",
      "#repeat 4\n",
      "#binning 1,1,1\n",
      "#filter B,V,rp\n",
      "#interval 120,120,120\n",
      "#count 2,1,1\n",
      "Groth\t14:19:17.8\t52:49:26.5\n",
      "\n",
      ";\n",
      "; Object M102\n",
      ";\n",
      "#autofocus\n",
      "#repeat 4\n",
      "#binning 1,1,1\n",
      "#filter B,V,rp\n",
      "#interval 120,120,120\n",
      "#count 2,1,1\n",
      "M102\t15:06:29.560992\t55:45:47.90988\n",
      "\n",
      ";\n",
      "; Object M71\n",
      ";\n",
      "#autofocus\n",
      "#repeat 4\n",
      "#binning 1,1,1\n",
      "#filter B,V,rp\n",
      "#interval 120,120,120\n",
      "#count 2,1,1\n",
      "M71\t19:53:46.48992\t18:46:45.0984\n",
      "\n",
      ";\n",
      "; Object M27\n",
      ";\n",
      "#autofocus\n",
      "#repeat 4\n",
      "#binning 1,1,1\n",
      "#filter B,V,rp\n",
      "#interval 120,120,120\n",
      "#count 2,1,1\n",
      "M27\t19:59:36.36318501\t22:43:16.31205955\n",
      "\n",
      ";\n",
      "; Object M29\n",
      ";\n",
      "#autofocus\n",
      "#repeat 4\n",
      "#binning 1,1,1\n",
      "#filter B,V,rp\n",
      "#interval 120,120,120\n",
      "#count 2,1,1\n",
      "M29\t20:23:46.32\t38:29:13.2\n",
      "\n",
      ";\n",
      "; Object M52\n",
      ";\n",
      "#autofocus\n",
      "#repeat 4\n",
      "#binning 1,1,1\n",
      "#filter B,V,rp\n",
      "#interval 120,120,120\n",
      "#count 2,1,1\n",
      "M52\t23:24:46.8\t61:35:24\n",
      "\n",
      ";\n",
      "; Object M110\n",
      ";\n",
      "#autofocus\n",
      "#repeat 4\n",
      "#binning 1,1,1\n",
      "#filter B,V,rp\n",
      "#interval 120,120,120\n",
      "#count 2,1,1\n",
      "M110\t0:40:22.057235\t41:41:07.50722014\n",
      "\n",
      ";\n",
      "; Object M74\n",
      ";\n",
      "#autofocus\n",
      "#repeat 4\n",
      "#binning 1,1,1\n",
      "#filter B,V,rp\n",
      "#interval 120,120,120\n",
      "#count 2,1,1\n",
      "M74\t1:36:41.74512366\t15:47:01.1075123\n",
      "\n",
      ";\n",
      "; Object M76\n",
      ";\n",
      "#autofocus\n",
      "#repeat 4\n",
      "#binning 1,1,1\n",
      "#filter B,V,rp\n",
      "#interval 120,120,120\n",
      "#count 2,1,1\n",
      "M76\t1:42:19.65577282\t51:34:31.53497005\n",
      "\n",
      ";\n",
      "; Object M45\n",
      ";\n",
      "#autofocus\n",
      "#repeat 4\n",
      "#binning 1,1,1\n",
      "#filter B,V,rp\n",
      "#interval 120,120,120\n",
      "#count 2,1,1\n",
      "M45\t3:46:24.24\t24:06:50.4\n",
      "\n"
     ]
    }
   ],
   "source": [
    "foo = []\n",
    "for k, v in plans.items():\n",
    "    foo.append(f\";\\n; Object {k}\\n;\")\n",
    "    foo.append(v)\n",
    "    foo.append('')\n",
    "\n",
    "print(f\"Total time is {mps.min_time / 60:.3f} sec, {mps.min_time / 60 /60:.3f} hour\") \n",
    "print(\"\\n\".join(foo))"
   ]
  },
  {
   "cell_type": "code",
   "execution_count": 31,
   "id": "130da143-652a-4878-9376-c4409d58b33e",
   "metadata": {},
   "outputs": [],
   "source": [
    "with open('ast266_color.txt', 'w') as f:\n",
    "    f.write(\"\\n\".join(foo))"
   ]
  },
  {
   "cell_type": "code",
   "execution_count": 10,
   "id": "07da0b20-4027-4560-b456-747cb6caf716",
   "metadata": {},
   "outputs": [
    {
     "data": {
      "text/plain": [
       "522.5"
      ]
     },
     "execution_count": 10,
     "metadata": {},
     "output_type": "execute_result"
    }
   ],
   "source": [
    "p.min_time / 60"
   ]
  },
  {
   "cell_type": "code",
   "execution_count": 11,
   "id": "71e25653-76d1-45e2-b622-6125399caa67",
   "metadata": {},
   "outputs": [
    {
     "data": {
      "text/plain": [
       "78.375"
      ]
     },
     "execution_count": 11,
     "metadata": {},
     "output_type": "execute_result"
    }
   ],
   "source": [
    "mps.min_time / 60 / 60"
   ]
  },
  {
   "cell_type": "code",
   "execution_count": null,
   "id": "dcb68261-384f-47cb-949a-334e173855ac",
   "metadata": {},
   "outputs": [],
   "source": []
  }
 ],
 "metadata": {
  "kernelspec": {
   "display_name": "Python 3 (ipykernel)",
   "language": "python",
   "name": "python3"
  },
  "language_info": {
   "codemirror_mode": {
    "name": "ipython",
    "version": 3
   },
   "file_extension": ".py",
   "mimetype": "text/x-python",
   "name": "python",
   "nbconvert_exporter": "python",
   "pygments_lexer": "ipython3",
   "version": "3.10.6"
  }
 },
 "nbformat": 4,
 "nbformat_minor": 5
}
