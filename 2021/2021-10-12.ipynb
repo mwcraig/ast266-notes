{
 "cells": [
  {
   "cell_type": "markdown",
   "metadata": {},
   "source": [
    "# 2021-10-12\n",
    "\n",
    "## Today\n",
    "\n",
    "+ Start your image combination \n",
    "+ Start exploring HR diagram concepts"
   ]
  },
  {
   "cell_type": "markdown",
   "metadata": {},
   "source": [
    "## Image combination\n",
    "\n",
    "Combining light images is not much different, really, than combining flats or darks or biases, *as long as the light images are aligned*.\n",
    "\n",
    "We will use the same interface we used for combining flats, and the same settings:\n",
    "\n",
    "+ Sigma clip, with lower/upper settings of 5\n",
    "+ Combine using average \n",
    "+ Group by filter\n",
    "\n",
    "### We may end up changing this\n",
    "\n",
    "It isn't clear whether we should be subtracting the background from each image before doing the combination. We will see...\n",
    "\n",
    "### Grab a copy of the `light-image-combo-template.ipynb` to combine your images\n",
    "\n",
    "The output files will be named by filter.\n",
    "\n",
    "### Start this running but **THEN MOVE ON TO THE HR DIAGRAM WORKSHEETS**."
   ]
  },
  {
   "cell_type": "markdown",
   "metadata": {},
   "source": [
    "## Hertzsprung-Russell (HR) Diagram\n",
    "\n",
    "### Blackbody (thermal) spectrum\n",
    "\n",
    "Reading\n",
    "\n",
    "+ Thermal radiation: https://openstax.org/books/astronomy/pages/5-2-the-electromagnetic-spectrum\n",
    "+ About stellar population: https://openstax.org/books/astronomy/pages/18-1-a-stellar-census\n",
    "+ The HR diagram: https://openstax.org/books/astronomy/pages/18-4-the-h-r-diagram\n",
    "\n",
    "### Do these lecture tutorials (work in groups)\n",
    "\n",
    "+ Luminosity, Size and Temperature \n",
    "+ Blackbody radiation"
   ]
  }
 ],
 "metadata": {
  "kernelspec": {
   "display_name": "Python 3",
   "language": "python",
   "name": "python3"
  },
  "language_info": {
   "codemirror_mode": {
    "name": "ipython",
    "version": 3
   },
   "file_extension": ".py",
   "mimetype": "text/x-python",
   "name": "python",
   "nbconvert_exporter": "python",
   "pygments_lexer": "ipython3",
   "version": "3.8.3"
  }
 },
 "nbformat": 4,
 "nbformat_minor": 5
}
