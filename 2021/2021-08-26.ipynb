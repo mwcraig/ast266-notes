{
 "cells": [
  {
   "cell_type": "markdown",
   "metadata": {},
   "source": [
    "# 2021-08-26 "
   ]
  },
  {
   "cell_type": "markdown",
   "metadata": {},
   "source": [
    "## Light and our images"
   ]
  },
  {
   "cell_type": "markdown",
   "metadata": {},
   "source": [
    "### Background: what is light?\n",
    "\n",
    "http://bit.ly/wave-demo-p202\n",
    "\n",
    "#### Light is a wave\n",
    "- Wavelength, $\\lambda$ (Greek letter \"lambda\") is the distance between peaks.\n",
    "- Frequency is number of \"ups and downs\" per second: nine oscilations in 30 seconds, so frequency is 9 / (30 seconds) = 0.3/sec = 0.3 Hz (short for Hertz)\n",
    "- Wavelength and frequency are related: $\\lambda f$ = constant = speeed\n",
    "- Energy is a constant called \"Plank's constant\" times the frequency\n",
    "\n",
    "\\begin{equation}\n",
    "E = hf\n",
    "\\end{equation}\n",
    "\n",
    "In terms of wavelength:\n",
    "\n",
    "\\begin{equation}\n",
    "E = \\frac{hc}{\\lambda}\n",
    "\\end{equation}\n",
    "\n",
    "Energy in eV (electron volts) is \n",
    "\n",
    "\\begin{equation}\n",
    "E = \\frac{12407}{\\lambda}\n",
    "\\end{equation}\n",
    "\n",
    "IF the wavelength in Angstroms.\n",
    "\n",
    "Visible light:\n",
    "\n",
    "- Wavelength is 350-600 nm (nanometers, $10^{-9}$ meters)\n",
    "- speed is $3 \\times 10^8$ m/s"
   ]
  },
  {
   "cell_type": "markdown",
   "metadata": {},
   "source": [
    "### What do our images look like? What do we measure?"
   ]
  },
  {
   "cell_type": "code",
   "execution_count": 1,
   "metadata": {},
   "outputs": [],
   "source": [
    "from astrowidgets import ImageWidget"
   ]
  },
  {
   "cell_type": "code",
   "execution_count": 2,
   "metadata": {},
   "outputs": [
    {
     "data": {
      "application/vnd.jupyter.widget-view+json": {
       "model_id": "7b8ab8e4880d45668a062124b61f2c46",
       "version_major": 2,
       "version_minor": 0
      },
      "text/plain": [
       "ImageWidget(children=(Image(value=b'\\xff\\xd8\\xff\\xe0\\x00\\x10JFIF\\x00\\x01\\x01\\x00\\x00\\x01\\x00\\x01\\x00\\x00\\xff\\x…"
      ]
     },
     "metadata": {},
     "output_type": "display_data"
    }
   ],
   "source": [
    "iw = ImageWidget()\n",
    "iw"
   ]
  },
  {
   "cell_type": "code",
   "execution_count": 3,
   "metadata": {},
   "outputs": [
    {
     "name": "stderr",
     "output_type": "stream",
     "text": [
      "WARNING: FITSFixedWarning: RADECSYS= 'FK5 ' \n",
      "the RADECSYS keyword is deprecated, use RADESYSa. [astropy.wcs.wcs]\n"
     ]
    }
   ],
   "source": [
    "iw.load_fits('TIC_470127886.01-S001-R001-C001-rp.fit')"
   ]
  },
  {
   "cell_type": "code",
   "execution_count": 4,
   "metadata": {},
   "outputs": [
    {
     "name": "stderr",
     "output_type": "stream",
     "text": [
      "WARNING: VerifyWarning: Keyword name 'TRIM_IMAGE' is greater than 8 characters or contains characters not allowed by the FITS standard; a HIERARCH card will be created. [astropy.io.fits.card]\n",
      "WARNING: VerifyWarning: Keyword name 'SUBTRACT_BIAS' is greater than 8 characters or contains characters not allowed by the FITS standard; a HIERARCH card will be created. [astropy.io.fits.card]\n",
      "WARNING: VerifyWarning: Keyword name 'SUBTRACT_DARK' is greater than 8 characters or contains characters not allowed by the FITS standard; a HIERARCH card will be created. [astropy.io.fits.card]\n",
      "WARNING: VerifyWarning: Keyword name 'FLAT_CORRECT' is greater than 8 characters or contains characters not allowed by the FITS standard; a HIERARCH card will be created. [astropy.io.fits.card]\n"
     ]
    }
   ],
   "source": [
    "iw.load_fits('kelt-16-b-S001-R001-C084-r.fit')"
   ]
  },
  {
   "cell_type": "code",
   "execution_count": 11,
   "metadata": {},
   "outputs": [],
   "source": [
    "iw.load_fits('kelt-16-b-S001-R001-C125-r.fit')"
   ]
  }
 ],
 "metadata": {
  "kernelspec": {
   "display_name": "Python 3 (ipykernel)",
   "language": "python",
   "name": "python3"
  },
  "language_info": {
   "codemirror_mode": {
    "name": "ipython",
    "version": 3
   },
   "file_extension": ".py",
   "mimetype": "text/x-python",
   "name": "python",
   "nbconvert_exporter": "python",
   "pygments_lexer": "ipython3",
   "version": "3.10.5"
  }
 },
 "nbformat": 4,
 "nbformat_minor": 4
}
