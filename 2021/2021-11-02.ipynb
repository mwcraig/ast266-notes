{
 "cells": [
  {
   "cell_type": "markdown",
   "metadata": {},
   "source": [
    "# 2021-11-02\n",
    "\n",
    "+ Reproject all of your images\n",
    "+ Predicting the future"
   ]
  },
  {
   "cell_type": "markdown",
   "metadata": {},
   "source": [
    "## Reprojecting images\n",
    "\n",
    "The first step towards combining your images of a single object is to reproject them so that they are all aligned.\n",
    "\n",
    "Running that will take a while so you should start this towards the beginning of class and then read through/work through the time stuff below.\n",
    "\n",
    "👉 _Make sure that the reproject notebook has made at least a couple images so that you know it is working before you move on._"
   ]
  },
  {
   "cell_type": "markdown",
   "metadata": {},
   "source": [
    "## Time scales in astronomy"
   ]
  },
  {
   "cell_type": "code",
   "execution_count": null,
   "metadata": {},
   "outputs": [],
   "source": [
    "# Load Time from astropy \n",
    "from astropy.time import Time"
   ]
  },
  {
   "cell_type": "markdown",
   "metadata": {},
   "source": [
    "## Predicting the future\n",
    "\n",
    "Projects in this course will be focused on measuring *when* something happens (exoplanet transit, variable star maximum). The objects we will be looking at have been studied by others and for timing they report two numbers:\n",
    "\n",
    "+ Epoch -- a day/time at which the event has happened in the past.\n",
    "+ Period -- amount of time, typically in days, between repetitions of the event."
   ]
  },
  {
   "cell_type": "markdown",
   "metadata": {},
   "source": [
    "### Video summary of this section\n",
    "\n",
    "Video link: https://youtu.be/Wa8zwUsB1Po"
   ]
  },
  {
   "cell_type": "code",
   "execution_count": null,
   "metadata": {},
   "outputs": [],
   "source": [
    "YouTubeVideo('Wa8zwUsB1Po')"
   ]
  },
  {
   "cell_type": "markdown",
   "metadata": {},
   "source": [
    "### Example: predicting lunch time\n",
    "\n",
    "Suppose I eat lunch today at noon. If I eat lunch every 1.0417 days (25 hours) when will I next eat lunch?\n",
    "\n",
    "+ Epoch is noon CDT....in UTC that is: 2020-09-29T17:00:00\n",
    "+ Period is 1.0417 days (25 hours)\n",
    "\n",
    "Next lunch: ????"
   ]
  },
  {
   "cell_type": "code",
   "execution_count": null,
   "metadata": {},
   "outputs": [],
   "source": [
    "lunch_time = Time('2020-09-29T17:00:00')\n",
    "print(lunch_time)"
   ]
  },
  {
   "cell_type": "code",
   "execution_count": null,
   "metadata": {},
   "outputs": [],
   "source": [
    "import astropy.units as u\n",
    "\n",
    "next_lunch = lunch_time + 1.0417 * u.day"
   ]
  },
  {
   "cell_type": "code",
   "execution_count": null,
   "metadata": {},
   "outputs": [],
   "source": [
    "next_lunch"
   ]
  },
  {
   "cell_type": "markdown",
   "metadata": {},
   "source": [
    "### Example: variable star V0440 Lac\n",
    "\n",
    "From https://www.aavso.org/vsx/index.php?view=detail.top&oid=17029 I get this information:\n",
    "\n",
    "+ Epoch: HJD 2456159.32 (Some time on August 19, 2012)\n",
    "+ Period: 0.650 d  (15.6 h)\n",
    "\n",
    "The epoch in this case is the time of maximum for this variable star.\n",
    "\n",
    "**Note:** the \"H\" at the beginning of \"HJD\" is important; it stands for \"heliocentric\". We will come back to it later.\n",
    "\n",
    "What is the next time of maximum after the epoch date?"
   ]
  },
  {
   "cell_type": "code",
   "execution_count": null,
   "metadata": {},
   "outputs": [],
   "source": [
    "vsx_epoch = Time(2456159.32, scale='utc', format='jd')\n",
    "period = 0.650 * u.day\n",
    "print(vsx_epoch + period)"
   ]
  },
  {
   "cell_type": "markdown",
   "metadata": {},
   "source": [
    "When would the 5 fifth maximum after epoch be? Add 5 periods to the original epoch."
   ]
  },
  {
   "cell_type": "code",
   "execution_count": null,
   "metadata": {},
   "outputs": [],
   "source": [
    "print(vsx_epoch + 5 * period)"
   ]
  },
  {
   "cell_type": "code",
   "execution_count": null,
   "metadata": {},
   "outputs": [],
   "source": [
    "fifth_vsx_max = vsx_epoch + 5 * period\n",
    "fifth_vsx_max.isot"
   ]
  },
  {
   "cell_type": "markdown",
   "metadata": {},
   "source": [
    "If we wanted to observe that with our telescope at what time + date would we need to be at the  telescope?"
   ]
  },
  {
   "cell_type": "code",
   "execution_count": null,
   "metadata": {},
   "outputs": [],
   "source": [
    "(fifth_vsx_max - 5 *u.hour).isot"
   ]
  },
  {
   "cell_type": "markdown",
   "metadata": {},
   "source": [
    "### V0440 Lac continued: predicting upcoming maximums\n",
    "\n",
    "The formula for predicting maxima given an epoch, called $t_{\\text{epoch}}$ below, and a period, called $P$ below, is\n",
    "\n",
    "\\begin{equation}\n",
    "t_{\\text{future}} = t_{\\text{epoch}} + N * P\n",
    "\\end{equation}"
   ]
  },
  {
   "cell_type": "markdown",
   "metadata": {},
   "source": [
    "Let's use that to calculate some of the future maxima of V0440 Lac"
   ]
  },
  {
   "cell_type": "code",
   "execution_count": null,
   "metadata": {},
   "outputs": [],
   "source": [
    "import numpy as np\n",
    "\n",
    "# You will need to change this value\n",
    "n_start = 2\n",
    "\n",
    "# Make this an astropy time\n",
    "t_epoch = Time(2456159.32, scale='utc', format='jd')  \n",
    "\n",
    "# Fill in period below \n",
    "period = 0.650  * u.day\n",
    "\n",
    "n_end = n_start + 60\n",
    "\n",
    "future_events = t_epoch + period * np.arange(n_start, n_end)"
   ]
  },
  {
   "cell_type": "markdown",
   "metadata": {},
   "source": [
    "Need to find $N$ for roughly now."
   ]
  },
  {
   "cell_type": "code",
   "execution_count": null,
   "metadata": {},
   "outputs": [],
   "source": [
    "t_now = Time(\"2021-10-07T19:56:00\")"
   ]
  },
  {
   "cell_type": "code",
   "execution_count": null,
   "metadata": {},
   "outputs": [],
   "source": [
    "(t_now - t_epoch) / period"
   ]
  },
  {
   "cell_type": "code",
   "execution_count": null,
   "metadata": {},
   "outputs": [],
   "source": [
    "for event, n in zip(future_events, np.arange(n_start, n_end)):\n",
    "    print(n, event.isot)"
   ]
  },
  {
   "cell_type": "markdown",
   "metadata": {},
   "source": [
    "## 👉👉👉👉 Discuss these with a small group \n",
    "\n",
    "1. Suppose that the reported period for V0440 Lac is incorrect by 1 second; in other words, suppose the correct period is 0.65001157 day instead of 0.65 day. By how many seconds would that change the time of the 4,617th peak after the epoch?\n",
    "2. By how many seconds would that change the time of the third peak after the epoch?\n",
    "3. If you want to measure the period accurately is it better to make measurements of peaks close to each other or farhter apart in time?\n",
    "\n"
   ]
  },
  {
   "cell_type": "markdown",
   "metadata": {},
   "source": [
    "TIC_147890655\n",
    "TIC_422385684\n",
    "TIC_302381397\n",
    "TIC_289100911\n",
    "\n",
    "SAMPLE:\n",
    "\n",
    "TIC_237205154\n"
   ]
  },
  {
   "cell_type": "code",
   "execution_count": null,
   "metadata": {},
   "outputs": [],
   "source": []
  }
 ],
 "metadata": {
  "kernelspec": {
   "display_name": "Python 3 (ipykernel)",
   "language": "python",
   "name": "python3"
  },
  "language_info": {
   "codemirror_mode": {
    "name": "ipython",
    "version": 3
   },
   "file_extension": ".py",
   "mimetype": "text/x-python",
   "name": "python",
   "nbconvert_exporter": "python",
   "pygments_lexer": "ipython3",
   "version": "3.9.13"
  }
 },
 "nbformat": 4,
 "nbformat_minor": 4
}
