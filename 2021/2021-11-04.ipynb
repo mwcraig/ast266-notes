{
 "cells": [
  {
   "cell_type": "markdown",
   "metadata": {},
   "source": [
    "# 2021-11-04\n",
    "\n",
    "Today you should:\n",
    "\n",
    "+ Find your \"TIC\" folder -- it is in calibrated-nights in your jupyter folder (see list below)\n",
    "+ Copy the three templates in the notes in the notebook-templates/photometry folder to your TIC folder\n",
    "+ Run each notebook, changing the settings as needed.\n",
    "\n",
    "1. From notebook 1 you want to write down the reecommended aperture radius or 15, whichever is smaller\n",
    "2. You must run notebook 2 before notebook 3\n",
    "3. In notebook 3 you will need to enter the aperture radius from step 1, and several bits of information about your star. Instructions are in the notebook.\n"
   ]
  },
  {
   "cell_type": "markdown",
   "metadata": {},
   "source": [
    "## TIC assignments\n",
    "\n",
    "+ TIC_147890655 -- Izaak (`gp` filter) and Alex (`ip` filter)\n",
    "+ TIC_422385684 -- Tanner (`ip` filter)\n",
    "+ TIC_302381397 -- Kenzi (`ip` filter)\n",
    "+ TIC_289100911 -- Mara (`ip` filter) and  Jenna (`gp` filter)"
   ]
  },
  {
   "cell_type": "code",
   "execution_count": null,
   "metadata": {},
   "outputs": [],
   "source": []
  }
 ],
 "metadata": {
  "kernelspec": {
   "display_name": "Python 3",
   "language": "python",
   "name": "python3"
  },
  "language_info": {
   "codemirror_mode": {
    "name": "ipython",
    "version": 3
   },
   "file_extension": ".py",
   "mimetype": "text/x-python",
   "name": "python",
   "nbconvert_exporter": "python",
   "pygments_lexer": "ipython3",
   "version": "3.8.3"
  }
 },
 "nbformat": 4,
 "nbformat_minor": 4
}
