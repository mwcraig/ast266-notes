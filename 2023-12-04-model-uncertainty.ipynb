{
 "cells": [
  {
   "cell_type": "markdown",
   "id": "f7dbc002-70a1-4f00-9ed2-a4e45127bad7",
   "metadata": {},
   "source": [
    "# 2023-12-01 What is uncertainty (also called error or precision) in science?"
   ]
  },
  {
   "cell_type": "markdown",
   "id": "4e7e7e6f-0fd0-4eab-84b8-1c1af20fbe10",
   "metadata": {},
   "source": [
    "## Overview\n",
    "\n",
    "Any scientific result should be presented as a measured value and estimated uncertainty in that value. There are multiple ways to think about the uncertainty, depending on the circumstances. \n",
    "\n",
    "It is almost never correct to think about it as an \"error\" -- that implies it is something you can fix if you just try harder. If that is the case you should really just try harder before reporting the result.\n",
    "\n",
    "There are two fairly common cases that are useful to think about:\n",
    "\n",
    "+ You are measuring a process that is truly random. No matter how good your equipment is you will measure a diffferent value every time. In this case it is useful to think about the uncertainty as expressing the range of values you should expect to see if you repeat the experiment. An example of this is measuring the flux from a star: it is a random variable and you would measure a different value each time even if circumstances were identical.\n",
    "+ There is a limit on the precision of what you can measure. In this case, future measurements might be better than what you can do now. In this case it is useful to think about the uncertainty as expression the range of values consistent with the precision with which you can measure that thing. An example of this from astronomy is time: we can measure time much more precisely now than we could 100 years ago.\n",
    "\n",
    "### One goal for today: get a sense of uncertainty in measuring exoplanet properties"
   ]
  },
  {
   "cell_type": "markdown",
   "id": "d210da2b-6f50-46c9-af0f-2a307f2749c4",
   "metadata": {},
   "source": [
    "## Run the wall of code below -- it is a transit measurement for TIC 402828941"
   ]
  },
  {
   "cell_type": "code",
   "execution_count": null,
   "id": "e3842aed-c208-438c-b17a-9b897a4c13fe",
   "metadata": {
    "tags": []
   },
   "outputs": [],
   "source": [
    "%matplotlib widget\n",
    "\n",
    "from astropy.table import Table \n",
    "from astropy.time import Time\n",
    "from astropy.timeseries import TimeSeries, aggregate_downsample\n",
    "from astropy import units as u\n",
    "\n",
    "import ipywidgets as ipw\n",
    "import mpl_interactions.ipyplot as iplt\n",
    "import matplotlib.pyplot as plt\n",
    "import numpy as np\n",
    "import batman\n"
   ]
  },
  {
   "cell_type": "code",
   "execution_count": null,
   "id": "19b94580-1ab2-4753-9099-07dff5e70af9",
   "metadata": {
    "tags": []
   },
   "outputs": [],
   "source": [
    "tab = Table.read('TIC-402828941-2022-08-04-transformed-relative-flux.csv')\n",
    "tic = tab[tab['star_id'] == 1]\n",
    "#tic.write('TIC-402828941-2022-08-04-transformed-relative-flux.csv', overwrite=True)\n",
    "t_mean = tic['BJD'].mean()\n",
    "\n",
    "t_ob = Time(tic['BJD'], scale='tdb', format='jd')"
   ]
  },
  {
   "cell_type": "code",
   "execution_count": null,
   "id": "3bef22c2-27e3-4360-84e2-fbdda569dc16",
   "metadata": {
    "tags": []
   },
   "outputs": [],
   "source": [
    "bad_beginning = t_ob < t_ob[0] + 15 * u.min\n",
    "\n",
    "tic = tic[~bad_beginning]\n",
    "t_ob = t_ob[~bad_beginning]\n",
    "\n",
    "after_transit = t_ob.jd > 2459795.85\n",
    "\n",
    "norm_fac = 1 / tic['relative_flux'][after_transit].mean()\n",
    "\n",
    "\n",
    "tic['relative_flux'] *= norm_fac"
   ]
  },
  {
   "cell_type": "code",
   "execution_count": null,
   "id": "a28da7c6-7a3f-4d14-a0eb-84c6eaafe27f",
   "metadata": {
    "tags": []
   },
   "outputs": [],
   "source": [
    "\n",
    "ts = TimeSeries([tic['relative_flux']], time=t_ob)\n",
    "\n",
    "bts = aggregate_downsample(ts, time_bin_size=10 * u.min)"
   ]
  },
  {
   "cell_type": "code",
   "execution_count": null,
   "id": "63b88a43-fbfb-4d51-9a65-a7aeb58835a3",
   "metadata": {
    "tags": []
   },
   "outputs": [],
   "source": [
    "params = batman.TransitParams()\n",
    "\n",
    "params.t0 = t_mean                        #time of inferior conjunction\n",
    "params.per = 1.                       #orbital period\n",
    "params.rp = 0.1                       #planet radius (in units of stellar radii)\n",
    "params.a = 15.                        #semi-major axis (in units of stellar radii)\n",
    "params.inc = 87.                      #orbital inclination (in degrees)\n",
    "params.ecc = 0.                       #eccentricity\n",
    "params.w = 90.                        #longitude of periastron (in degrees)\n",
    "params.limb_dark = \"quadratic\"        #limb darkening model\n",
    "params.u = [0.1, 0.1]      #limb darkening coefficients [u1, u2, u3, u4]\n",
    "\n",
    "t = t_mean + np.linspace(-0.2, 0.2, 1000)  #times at which to calculate light curve\n",
    "m = batman.TransitModel(params, t)    #initializes model"
   ]
  },
  {
   "cell_type": "code",
   "execution_count": null,
   "id": "a4692c6c-6250-430c-bd07-457c2d68ff81",
   "metadata": {
    "tags": []
   },
   "outputs": [],
   "source": [
    "fit_by_peeps = Table.read('exoplanet-params.csv')\n",
    "print(fit_by_peeps.colnames)\n",
    "n_plots = len(fit_by_peeps)"
   ]
  },
  {
   "cell_type": "code",
   "execution_count": null,
   "id": "61d11a06-d66a-4e0a-924e-00598778d90e",
   "metadata": {
    "tags": []
   },
   "outputs": [],
   "source": [
    "n_cols = n_plots // 2\n",
    "n_rows = n_plots // n_cols"
   ]
  },
  {
   "cell_type": "code",
   "execution_count": null,
   "id": "9bad3ae2-3af5-446d-8a87-fa0aae035e0a",
   "metadata": {
    "tags": []
   },
   "outputs": [],
   "source": [
    "fig = plt.figure(layout=\"constrained\")\n",
    "ax_array = fig.subplots(n_cols, n_rows, sharex=True, sharey=True)\n",
    "\n",
    "num = 0\n",
    "for row, ax in zip(fit_by_peeps, ax_array.flatten()):\n",
    "    ax.plot(tic['BJD'], tic['relative_flux'], '.', color='red', alpha=0.2)\n",
    "    ax.plot(bts.time_bin_center.jd, bts['relative_flux'], '.', color='green')\n",
    "    params.rp = row['Rp/R*']\n",
    "    params.a = row['a/R*']\n",
    "    params.t0 = row['T_c']\n",
    "    ax.plot(t, m.light_curve(params))\n",
    "    ax.legend(f'{num}')\n",
    "    num += 1\n",
    "    ax.grid()"
   ]
  },
  {
   "cell_type": "code",
   "execution_count": null,
   "id": "726867d2-51ba-4511-8b5f-ddbbcb217079",
   "metadata": {
    "tags": []
   },
   "outputs": [],
   "source": [
    "fig = plt.figure(layout=\"constrained\")\n",
    "ax_array = fig.subplots(n_cols, n_rows, sharex=True, sharey=True, )\n",
    "\n",
    "scores = {}\n",
    "\n",
    "num = 0\n",
    "\n",
    "for row, ax in zip(fit_by_peeps, ax_array.flatten()):\n",
    "    # ax.plot(tic['BJD'], tic['relative_flux'], '.', color='red', alpha=0.2)\n",
    "    # ax.plot(bts.time_bin_center.jd, bts['relative_flux'], '.', color='green')\n",
    "    params.rp = row['Rp/R*']\n",
    "    params.a = row['a/R*']\n",
    "    params.t0 = row['T_c']\n",
    "    m2 = batman.TransitModel(params, tic['BJD'])\n",
    "    residual = tic['relative_flux'] - m2.light_curve(params)\n",
    "    rms = np.sqrt((residual**2).sum())\n",
    "    cen = residual.mean()\n",
    "    scores[row['Name']] = rms\n",
    "    ax.plot(tic['BJD'], residual, '.', color='red', label=f'{rms=:.3f}, {cen=:.3f}', alpha=0.2)\n",
    "    ax.plot([tic['BJD'].min(), tic['BJD'].max()], [0, 0], color='black')\n",
    "    #ax.legend()\n",
    "    ax.set_title(f'{num} {rms=:.3f}, {cen=:.3f}')\n",
    "    num += 1\n",
    "#    ax.plot(t, m.light_curve(params))\n",
    "    ax.grid()\n",
    "    ax.set_ylim(-0.03, 0.03)\n",
    "    "
   ]
  },
  {
   "cell_type": "code",
   "execution_count": null,
   "id": "eb218356-9bd9-4074-8889-62584008cc8a",
   "metadata": {
    "tags": []
   },
   "outputs": [],
   "source": [
    "dot_plot_x = fit_by_peeps['Rp/R*']\n",
    "dot_plot_y = fit_by_peeps['a/R*']\n",
    "color = np.array(list(scores.values()))\n",
    "plt.ylim(2.5, 5.5)\n",
    "plt.xlim(0.06, 0.17)\n",
    "plt.figure()\n",
    "plt.scatter(dot_plot_x, dot_plot_y, c=color)\n",
    "plt.ylim(2.5, 5.5)\n",
    "plt.xlim(0.06, 0.17)\n",
    "plt.xlabel('Rp/R*')\n",
    "plt.ylabel('a/R*')\n",
    "plt.grid()"
   ]
  },
  {
   "cell_type": "code",
   "execution_count": null,
   "id": "fb8ba805-234d-4f55-a2bf-0cf8c9db8d15",
   "metadata": {},
   "outputs": [],
   "source": []
  }
 ],
 "metadata": {
  "kernelspec": {
   "display_name": "Python 3 (ipykernel)",
   "language": "python",
   "name": "python3"
  },
  "language_info": {
   "codemirror_mode": {
    "name": "ipython",
    "version": 3
   },
   "file_extension": ".py",
   "mimetype": "text/x-python",
   "name": "python",
   "nbconvert_exporter": "python",
   "pygments_lexer": "ipython3",
   "version": "3.11.5"
  }
 },
 "nbformat": 4,
 "nbformat_minor": 5
}
