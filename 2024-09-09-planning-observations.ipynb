{
 "cells": [
  {
   "cell_type": "markdown",
   "id": "fdbaa5fa-9c51-44e6-8378-41cf450ed1c1",
   "metadata": {},
   "source": [
    "# 2024-09-09 -- Planning observations"
   ]
  },
  {
   "cell_type": "markdown",
   "id": "aaabaefc-3501-423f-b567-577cada62c8b",
   "metadata": {},
   "source": [
    "## Observation planning for your night\n"
   ]
  },
  {
   "cell_type": "markdown",
   "id": "977d13ec-b65d-4f46-bf7a-a8257650da83",
   "metadata": {},
   "source": [
    "This notebook focuses on two broader questions:\n",
    "\n",
    "1. On a particular date, which times of night is it best to observe the object of interest?\n",
    "1. Which times of year is it possible to observe the object of interest at a particular location?\n",
    "\n",
    "Behind the scenes, the python package [astroplan](https://astroplan.readthedocs.io) will be used to do all of the work here. As a result, much of this notebook will focus on the mechanics of how to do that rather than on background or theory."
   ]
  },
  {
   "cell_type": "markdown",
   "id": "012a7239-f876-412f-ba1f-60d335e1fbc8",
   "metadata": {},
   "source": [
    "## Run, but do not modify, the code in the cell below\n",
    "\n",
    "None of the following cells will run until you have run the one below."
   ]
  },
  {
   "cell_type": "code",
   "execution_count": null,
   "id": "d548ea98-cd7b-49a0-a5c2-1b0cdcae92ee",
   "metadata": {},
   "outputs": [],
   "source": [
    "# Set plotting interface\n",
    "%matplotlib inline\n",
    "import matplotlib.pyplot as plt\n",
    "from matplotlib import dates\n",
    "import numpy as np\n",
    "\n",
    "# Load a couple of things needed from astroplan\n",
    "from astroplan import Observer, FixedTarget\n",
    "from astroplan.plots import plot_airmass, plot_finder_image\n",
    "\n",
    "# And load Time from astropy\n",
    "from astropy.time import Time\n",
    "\n",
    "# Load astropy units module\n",
    "import astropy.units as u\n",
    "\n",
    "# Get the latest Earth orientation information...\n",
    "\n",
    "from astroplan import download_IERS_A\n",
    "#download_IERS_A()"
   ]
  },
  {
   "cell_type": "markdown",
   "id": "9a2bdaa1-8f8e-4be4-a9ca-8b81ab86516a",
   "metadata": {},
   "source": [
    "## Plotting visibility over one night\n",
    "\n",
    "To see where an object will be over the course of a night, we need to let the computer know three things:\n",
    "\n",
    "+ Where the observatory is\n",
    "+ Where the object is (uses the coordinates from earlier this week)\n",
    "+ When we want to know the object's location (uses times from previous class)"
   ]
  },
  {
   "cell_type": "markdown",
   "id": "fe731908-1009-4da3-afc4-ae0fe446e827",
   "metadata": {},
   "source": [
    "### Where the observatory is\n",
    "\n",
    "Visibility depends on location, so the first step is to provide the location of the observatory. Notice that the longitude is given as degrees *east*; it should be a number between 0 and 360. The \"d\" after each number is short for degrees.\n",
    "\n",
    "The observatory location is:\n",
    "\n",
    "+ latitude: `46.86678d`\n",
    "+ longitude: `263.54672d`\n",
    "+ elevation: `311 meters`"
   ]
  },
  {
   "cell_type": "code",
   "execution_count": null,
   "id": "5a576033-d098-4688-b184-ca4eb626f579",
   "metadata": {},
   "outputs": [],
   "source": [
    "feder = Observer(latitude=\"\", longitude=\"\", elevation= * u.m)"
   ]
  },
  {
   "cell_type": "code",
   "execution_count": null,
   "id": "5e6a3c62-4acb-47dd-9ca6-427a186621de",
   "metadata": {},
   "outputs": [],
   "source": [
    "print(feder)"
   ]
  },
  {
   "cell_type": "markdown",
   "id": "82c64c5a-fcfe-43c6-b0ed-4484e5b7622e",
   "metadata": {},
   "source": [
    "### Where the object is\n",
    "\n",
    "The \"`FixedTarget`\" object below is bascially like a `SkyCoord`. It turns out you don't have to type in the coordinates by hand in many cases -- the software can look them up for you from the name.\n",
    "\n",
    "\n",
    "*Note:* Everything done below can be done for either a single object, as below, or for several objects at once. As a first example we will stick to one object, but an example with a couple of objects will be included at the end."
   ]
  },
  {
   "cell_type": "markdown",
   "id": "c38d5abc-2ca2-4802-8cfc-aa95775be815",
   "metadata": {},
   "source": [
    "👇👇replace the object M-number below with your object's M-number"
   ]
  },
  {
   "cell_type": "code",
   "execution_count": null,
   "id": "b21716a5-868c-48d7-aeba-43397c707255",
   "metadata": {},
   "outputs": [],
   "source": [
    "my_object = FixedTarget.from_name('M51')\n",
    "print(my_object)"
   ]
  },
  {
   "cell_type": "markdown",
   "id": "f9b13bb7-8a20-4f5b-8f7d-f657f5bc24d6",
   "metadata": {},
   "source": [
    "### What time are we interested in?\n",
    "\n",
    "For this example we will put in midnight tonight. At midnight the date changes, so in our time zone midnight tonight is Sep 7, 12:00 AM; on a 24 hour clock this is Sep 7, 00:00:00.\n",
    "\n",
    "To get to UTC we add 5 hours during daylight savings time."
   ]
  },
  {
   "cell_type": "markdown",
   "id": "48b0b438-2a39-47d7-91db-3b0676a6bd74",
   "metadata": {},
   "source": [
    "👇👇"
   ]
  },
  {
   "cell_type": "code",
   "execution_count": null,
   "id": "a8899260-2185-4a0c-b8dd-19e7c5465fe6",
   "metadata": {},
   "outputs": [],
   "source": [
    "obs_time = Time('2023-09-02T05:00:00', scale='utc')\n",
    "print(obs_time)"
   ]
  },
  {
   "cell_type": "markdown",
   "id": "ce694bde-0178-4412-bc2d-6ecab2e488b7",
   "metadata": {},
   "source": [
    "### Plot the visibility"
   ]
  },
  {
   "cell_type": "code",
   "execution_count": null,
   "id": "4dae30b8-40a6-4aa1-a452-799197ea71e3",
   "metadata": {},
   "outputs": [],
   "source": [
    "plot_airmass(my_object, feder, obs_time, brightness_shading=True, altitude_yaxis=True)\n",
    "plt.grid()\n",
    "plt.title(my_object.name)"
   ]
  },
  {
   "cell_type": "markdown",
   "id": "6f2dc99b-c608-44e4-b94d-0e79e346d1f9",
   "metadata": {},
   "source": [
    "### Definitions of Altitude and Airmass\n",
    "\n",
    "+ **Altitude**: How far, in degrees, an object is above the horizon. Straight up is $90^\\circ$ and the horizon is $0^\\circ$.\n",
    "\n",
    "+ **Airmass**: A measure of how much atmosphere is between the telescope and space. We will work only with *relative* airmass, which is 1.0 for an object straight up and gets bigger as the object gets lower on the horizon."
   ]
  },
  {
   "cell_type": "markdown",
   "id": "c3fc1eed-f37d-4238-8501-d7cd00cd58a1",
   "metadata": {},
   "source": [
    "### What does that mean exactly?\n",
    "\n",
    "Go here and look up your object: https://stellarium-web.org/"
   ]
  },
  {
   "cell_type": "markdown",
   "id": "457acf03-0a1a-4f23-a6e5-05fd09ee848a",
   "metadata": {},
   "source": [
    "## Plot airmass over a large range of dates to make a rough choice of night\n",
    "\n",
    "The cell immediately below this generates a list of dates, 5 days apart from each other, covering 365 days."
   ]
  },
  {
   "cell_type": "code",
   "execution_count": null,
   "id": "7f7b70e5-6641-466b-af5f-af2d0746c86e",
   "metadata": {},
   "outputs": [],
   "source": [
    "times = obs_time + np.arange(0, 365, 5) * u.day"
   ]
  },
  {
   "cell_type": "code",
   "execution_count": null,
   "id": "8956ae33-1e8f-4340-bdf3-f9ab2fef0cdf",
   "metadata": {},
   "outputs": [],
   "source": [
    "ax = plot_airmass(my_object, feder, times, altitude_yaxis=True)\n",
    "plt.title('target visibility at 11PM or 12AM local time'.format(my_object.name))\n",
    "\n",
    "plt.grid()\n",
    "\n",
    "# Code below adds date to the horizontal axis\n",
    "date_formatter = dates.DateFormatter('%D %H:%M')\n",
    "ax.xaxis.set_major_formatter(date_formatter)"
   ]
  },
  {
   "cell_type": "markdown",
   "id": "4948255c-397f-461d-9b27-821d9159049d",
   "metadata": {},
   "source": [
    "## Revising the visibility plot for a new night\n",
    "\n",
    "From the graph above it is clear that an obsevrvation date between roughly the middle of March to the beginning of July would be better than September.\n",
    "\n",
    "The plot below shows visibility over the night of April 1, 2024 at 11:59 CST. That is April **2**, 2023 at 04:59 UTC."
   ]
  },
  {
   "cell_type": "code",
   "execution_count": null,
   "id": "0393d7b4-a308-4a27-990b-9319704d8790",
   "metadata": {},
   "outputs": [],
   "source": [
    "obs_time = Time(\"2024-04-02 04:59:00\", scale='utc')"
   ]
  },
  {
   "cell_type": "code",
   "execution_count": null,
   "id": "6ca5f767-c381-4e2d-870b-a74654f16a41",
   "metadata": {},
   "outputs": [],
   "source": [
    "ax = plot_airmass(my_object, feder, obs_time, brightness_shading=True, altitude_yaxis=True)\n",
    "plt.grid()\n",
    "plt.title(my_object.name)"
   ]
  },
  {
   "cell_type": "markdown",
   "id": "23a39fa1-decb-4650-80ea-c4b04696908b",
   "metadata": {},
   "source": [
    "It appears M51 will be observable from roughly 2:45AM UTC (9:45:00PM CDT on 4/1) until the sky begins to brighten at 10:30UTC (5:30AM CDT)"
   ]
  },
  {
   "cell_type": "markdown",
   "id": "389fe9b9-8a76-40fa-ac3e-17df706a1cb0",
   "metadata": {},
   "source": [
    "## Creating a finding chart\n",
    "\n",
    "A finding chart is simply a picture (or diagram) of the region of the sky surrounding the object of interest. The code below generates a chart for `my_object`. You can change the options in `plot_finder_image` to turn off the reticle, which marks the object of interest, or to turn off the grid."
   ]
  },
  {
   "cell_type": "code",
   "execution_count": null,
   "id": "165c7c85-273f-4943-8edb-b5b28dd66c45",
   "metadata": {},
   "outputs": [],
   "source": [
    "plt.figure(figsize=(10, 10))\n",
    "ax, hdu = plot_finder_image(my_object, fov_radius=20 * u.arcmin, reticle=True, grid=True)"
   ]
  },
  {
   "cell_type": "markdown",
   "id": "b737fcec-69d9-4d78-ad2e-3d3d42b02fbc",
   "metadata": {},
   "source": [
    "## Turning this into an observing plan \n",
    "\n",
    "An observing plan is a text file with a particular format. The example plan below is not the most complicated possibilty but gives you an idea of what the files looks like."
   ]
  },
  {
   "cell_type": "code",
   "execution_count": null,
   "id": "657508bd-ff94-43c0-a351-fa0c1772bdd4",
   "metadata": {},
   "outputs": [],
   "source": [
    "plan = f\"\"\"\n",
    "#autofocus\n",
    "#repeat 10\n",
    "#filter B,V,rp\n",
    "#binning 1,1,1\n",
    "#count 1,1,1\n",
    "#interval 240,120,120\n",
    "\n",
    "{my_object.name}\\t{my_object.ra.degree}\\t{my_object.dec.degree}\n",
    "\"\"\"\n",
    "\n",
    "print(plan)"
   ]
  },
  {
   "cell_type": "code",
   "execution_count": null,
   "id": "4c716c04-d0ab-4e03-94ea-d5b59e5b99d4",
   "metadata": {},
   "outputs": [],
   "source": []
  }
 ],
 "metadata": {
  "kernelspec": {
   "display_name": "Python 3 (ipykernel)",
   "language": "python",
   "name": "python3"
  },
  "language_info": {
   "codemirror_mode": {
    "name": "ipython",
    "version": 3
   },
   "file_extension": ".py",
   "mimetype": "text/x-python",
   "name": "python",
   "nbconvert_exporter": "python",
   "pygments_lexer": "ipython3",
   "version": "3.12.5"
  }
 },
 "nbformat": 4,
 "nbformat_minor": 5
}
