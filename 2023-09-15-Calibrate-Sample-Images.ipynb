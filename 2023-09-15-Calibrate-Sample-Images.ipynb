{
 "cells": [
  {
   "cell_type": "markdown",
   "id": "0026a737-1d2a-40f6-b843-62198ea728d2",
   "metadata": {},
   "source": [
    "# 2023-09-15 Calibrate some sample images"
   ]
  },
  {
   "cell_type": "markdown",
   "id": "18d3024a-876c-4298-ac54-f4197f51e9bf",
   "metadata": {},
   "source": [
    "## Some reminders from last time\n",
    "\n",
    "+ You should have created a folder calleed \"sample-calibrated\" inside your \"jupyter\" folder. That is where the calibrated images you make will end up. **It is important that this be inside your \"jupyter\" folder -- that is the place on the server with enough space to hold the calibrated images.**\n",
    "\n",
    "+ Create a \"Reduction Template\" inside your \"sample-calibrated\" folder if you don't already have one.\n",
    "\n",
    "+ The uncalibrated images are in \"uncalibrated-nights/sample-for-reduction\"\n",
    "\n",
    "+ One of the questions on the next homework asks you the turn a screenshot of one of your calibrated images of NGC891."
   ]
  }
 ],
 "metadata": {
  "kernelspec": {
   "display_name": "Python 3 (ipykernel)",
   "language": "python",
   "name": "python3"
  },
  "language_info": {
   "codemirror_mode": {
    "name": "ipython",
    "version": 3
   },
   "file_extension": ".py",
   "mimetype": "text/x-python",
   "name": "python",
   "nbconvert_exporter": "python",
   "pygments_lexer": "ipython3",
   "version": "3.10.6"
  }
 },
 "nbformat": 4,
 "nbformat_minor": 5
}
