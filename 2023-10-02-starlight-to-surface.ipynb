{
 "cells": [
  {
   "cell_type": "markdown",
   "id": "62de8bff-b495-4fe3-ae81-5c22d32ce0ac",
   "metadata": {},
   "source": [
    "# 2023-10-02 -- starlight, from the star to the computer screen"
   ]
  },
  {
   "cell_type": "markdown",
   "id": "fb0bfbda-32fa-416c-ba19-1c44e719d8f0",
   "metadata": {},
   "source": [
    "## Overview\n",
    "\n",
    "Our goal today is to understand\n",
    "\n",
    "1. What things affect the amount of starlight recorded in an image\n",
    "2. Whether those things affect different colors of light the same way\n",
    "3. What we might need to measure and remove these effects\n",
    "4. Ways we might be able to avoid the need to measure these effects"
   ]
  },
  {
   "cell_type": "code",
   "execution_count": null,
   "id": "dc24aee5-2948-4f85-9368-f5c70bcc6249",
   "metadata": {},
   "outputs": [],
   "source": []
  }
 ],
 "metadata": {
  "kernelspec": {
   "display_name": "Python 3 (ipykernel)",
   "language": "python",
   "name": "python3"
  },
  "language_info": {
   "codemirror_mode": {
    "name": "ipython",
    "version": 3
   },
   "file_extension": ".py",
   "mimetype": "text/x-python",
   "name": "python",
   "nbconvert_exporter": "python",
   "pygments_lexer": "ipython3",
   "version": "3.10.6"
  }
 },
 "nbformat": 4,
 "nbformat_minor": 5
}
