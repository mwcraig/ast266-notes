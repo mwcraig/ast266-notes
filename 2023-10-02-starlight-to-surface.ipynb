{
 "cells": [
  {
   "cell_type": "markdown",
   "id": "62de8bff-b495-4fe3-ae81-5c22d32ce0ac",
   "metadata": {},
   "source": [
    "# 2023-10-02 -- starlight, from the star to the computer screen"
   ]
  },
  {
   "cell_type": "markdown",
   "id": "fb0bfbda-32fa-416c-ba19-1c44e719d8f0",
   "metadata": {},
   "source": [
    "## Overview\n",
    "\n",
    "Our goal today is to understand\n",
    "\n",
    "1. What things affect the amount of starlight recorded in an image\n",
    "2. Whether those things affect different colors of light the same way\n",
    "3. What we might need to measure and remove these effects\n",
    "4. Ways we might be able to avoid the need to measure these effects"
   ]
  },
  {
   "cell_type": "markdown",
   "id": "13801f17-7671-469d-8b6d-9945aaac59ce",
   "metadata": {},
   "source": [
    "## Things that affect the light we detect\n",
    "\n",
    "Light coming from a star in space can be afffected by a number of different things:\n",
    "\n",
    "+ The Earth's atmosphere, which scatters some light, reducing the amount that reaches the observer.\n",
    "+ Smoke in the atmosphere, which has the same effect as the rest of the atmosphere but causes more reddening than the rest of the atmosphere.\n",
    "+ There may be dust in space between us and the star -- we will ignore this, though it is important in some cases.\n",
    "+ Each part of the observatory affects the light:\n",
    "    - the telescope optics (mirrors, lenses, etc)\n",
    "    - the filter, if any, in the path of the light\n",
    "    - the camera itself.\n",
    "    \n",
    "The widget below will play the notes from the day we discussed this."
   ]
  },
  {
   "cell_type": "code",
   "execution_count": null,
   "id": "68f79bc2-3586-490d-9746-3f5f7ea40ddd",
   "metadata": {
    "tags": []
   },
   "outputs": [],
   "source": [
    "from display_tools import NotePlayer"
   ]
  },
  {
   "cell_type": "code",
   "execution_count": null,
   "id": "52b9f293-12d8-45d9-b371-06b9bf7f00fa",
   "metadata": {
    "tags": []
   },
   "outputs": [],
   "source": [
    "np = NotePlayer('media/photometry-notes-1/', description='<h2>Things that affect light reaching telescope</h2>')"
   ]
  },
  {
   "cell_type": "code",
   "execution_count": null,
   "id": "32082802-a728-4933-84f8-181e37e2d8ee",
   "metadata": {
    "tags": []
   },
   "outputs": [],
   "source": [
    "np"
   ]
  },
  {
   "cell_type": "markdown",
   "id": "7494e9d5-235f-4fe0-84ec-46512a046da8",
   "metadata": {},
   "source": [
    "### Effect of each of these components\n",
    "\n",
    "+ The atmosphere and smoke both effectively remove light. They remove more blue light than red light -- that is especially true of smoke.\n",
    "+ Astronomical filters are designed to only let a specific range of light through. Doing that allows astronomers to measure the temperature of the light source.\n",
    "+ The camera's sensistivity depends on the color of the light that reaches the camera."
   ]
  },
  {
   "cell_type": "code",
   "execution_count": null,
   "id": "fecbf596-e0de-43e0-bec0-9a0682c6429d",
   "metadata": {
    "tags": []
   },
   "outputs": [],
   "source": [
    "np2 = NotePlayer('media/photometry-notes-2/', interval=2000)\n",
    "np2"
   ]
  },
  {
   "cell_type": "markdown",
   "id": "064fd6c5-fa89-4d0a-8127-bdad1c24ee19",
   "metadata": {},
   "source": [
    "## Color matters\n",
    "\n",
    "Both smoke and the ordinary atmosphere affect blue light more than red light. In addition, the fraction of the light from a star that makes it through a particular filter depends on the color of the star. The same is true of the camera itself. \n",
    "\n",
    "One conclusion from this is that we can minimize the effects of the atmosphere, smoke, etc., by comparing objects of the same color when possible."
   ]
  },
  {
   "cell_type": "code",
   "execution_count": null,
   "id": "bf8c1ff7-d0b9-4b6a-9d3c-4e4efb4fe5c8",
   "metadata": {
    "tags": []
   },
   "outputs": [],
   "source": [
    "np3 = NotePlayer('media/photometry-notes-3/', interval=2000)\n",
    "np3"
   ]
  },
  {
   "cell_type": "markdown",
   "id": "a737f378-bb9a-49cf-9254-1bfaffbba203",
   "metadata": {},
   "source": [
    "## Making this quantitative\n",
    "\n",
    "It will be easier to talk about this when we start measuring light if we can summarize all of these effects in an equation, which is below\n",
    "\n",
    "$$\n",
    "\\text{Light into camera} = f_A f_S f_T f_F f_C (\\text{Light from camera}),\n",
    "$$\n",
    "\n",
    "where each of the $f$ factors indicate what fractionof the light gets through that stage, so\n",
    "\n",
    "+ $f_A$ is the fraction of the light that gets through the atmosphere (excluding smoke)\n",
    "+ $f_S$ is the fraction of the light that gets through the smoke; $f_S=1$ would mean 100% of the light gets through (i.e. no smoke)\n",
    "+ $f_T$ is the fraction of the light that gets through the telescope \n",
    "+ $f_F$ is the fraction of the light that gets through the filter (always less than 100% by design)\n",
    "+ $f_C$ is the fraction of the light that gets deteted by the camera\n",
    "\n",
    "*Note:* Mathematically the relationship  between the light at the top of the atmosphere and the light detected at the camera is a bit more complciated, but this treatment captures the essence of it.\n"
   ]
  },
  {
   "cell_type": "markdown",
   "id": "5a32df5c-c4f4-4206-9c65-9e9c71ca7c12",
   "metadata": {},
   "source": [
    "![a](media/photometry-notes-4/AST-266-17.jpg)"
   ]
  },
  {
   "cell_type": "markdown",
   "id": "c7b5675c-0ea4-4fac-8212-5ad5c27987f9",
   "metadata": {},
   "source": [
    "## What does \"Amount of Light\" mean?"
   ]
  },
  {
   "cell_type": "markdown",
   "id": "adc7bc46-bb76-4d27-b579-706286b3dd77",
   "metadata": {},
   "source": [
    "There are two things amount of light could mean. One is *luminosity*, the amount of energy per second emitted from the star or other object. The other is *brightness* or *flux*, which is the amount of energy per second per unit area of the detector.\n",
    "\n",
    "The more distant an object the smaller its brightness will be because of the inverse square law\n",
    "\n",
    "$$\n",
    "B = \\frac{L}{4\\pi d^2}\n",
    "$$\n"
   ]
  },
  {
   "cell_type": "markdown",
   "id": "4e4dff3a-6cb2-4196-8a6b-2cdd355b4d06",
   "metadata": {},
   "source": [
    "### Magnitude\n",
    "\n",
    "Magnitude is a measure of brightness of a star or other object in the sky. Historically, is started as a rating system: 1 was for the brightest group of stars, 2 for the next brightest group, and so on.\n",
    "\n",
    "Once astronomers better understood the relationship  between luminosity and flux it became convenient to relate flux and magnitude in some way.\n",
    "\n",
    "Our discussion of this is below."
   ]
  },
  {
   "cell_type": "code",
   "execution_count": null,
   "id": "2ad639c3-d189-4ac8-8603-eb32f52dacf5",
   "metadata": {
    "tags": []
   },
   "outputs": [],
   "source": [
    "np5 = NotePlayer('media/photometry-notes-5/', interval=2000)\n",
    "np5"
   ]
  }
 ],
 "metadata": {
  "kernelspec": {
   "display_name": "Python 3 (ipykernel)",
   "language": "python",
   "name": "python3"
  },
  "language_info": {
   "codemirror_mode": {
    "name": "ipython",
    "version": 3
   },
   "file_extension": ".py",
   "mimetype": "text/x-python",
   "name": "python",
   "nbconvert_exporter": "python",
   "pygments_lexer": "ipython3",
   "version": "3.11.5"
  }
 },
 "nbformat": 4,
 "nbformat_minor": 5
}
