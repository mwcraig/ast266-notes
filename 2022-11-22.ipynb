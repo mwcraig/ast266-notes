{
 "cells": [
  {
   "cell_type": "markdown",
   "id": "e9d1c21f-c9a2-47eb-8860-87a0de98b95c",
   "metadata": {},
   "source": [
    "# 2022-11-17 "
   ]
  },
  {
   "cell_type": "markdown",
   "id": "169bd80f-e19f-468c-bc6d-00f8d4de4b14",
   "metadata": {},
   "source": [
    "## Magnitudes + calibration"
   ]
  },
  {
   "cell_type": "markdown",
   "id": "1bb8cfb3-7064-4558-a1f1-256df5fb9588",
   "metadata": {},
   "source": [
    "## Explore this interactive\n",
    "\n",
    "[jupyter.mnstate.edu](jupyter.mnstate.edu)\n",
    "\n",
    "Answer these questions:\n",
    "\n",
    "1. What does the *inclination* need to be to detect a transit?\n",
    "1. How does change the *radius* of the planet affect the light curve? You cannot change the radius directly -- instead change the *mass* of the planet.\n",
    "1. Why does the planet radius affect the light curve in that way?\n",
    "1. How does moving the planet closer to the star change the light curve? Why does the light ccurve change that way?\n",
    "1. Why isn't there a dip in the light curve when the planet goes behind the star?"
   ]
  },
  {
   "cell_type": "code",
   "execution_count": null,
   "id": "71a32efd-e1e9-4ecf-b820-51ed028de30c",
   "metadata": {},
   "outputs": [],
   "source": []
  }
 ],
 "metadata": {
  "kernelspec": {
   "display_name": "Python 3 (ipykernel)",
   "language": "python",
   "name": "python3"
  },
  "language_info": {
   "codemirror_mode": {
    "name": "ipython",
    "version": 3
   },
   "file_extension": ".py",
   "mimetype": "text/x-python",
   "name": "python",
   "nbconvert_exporter": "python",
   "pygments_lexer": "ipython3",
   "version": "3.10.6"
  }
 },
 "nbformat": 4,
 "nbformat_minor": 5
}
