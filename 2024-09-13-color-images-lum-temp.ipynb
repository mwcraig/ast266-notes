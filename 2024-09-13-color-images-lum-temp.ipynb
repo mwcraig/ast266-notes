{
 "cells": [
  {
   "cell_type": "markdown",
   "id": "dde9c344-8142-44da-b7bf-f355e7e556be",
   "metadata": {},
   "source": [
    "# 2023-09-08 Color image project and Stellar Evolution"
   ]
  },
  {
   "cell_type": "markdown",
   "id": "9f12f938-47f2-4d4c-9715-b94b63d7f9e1",
   "metadata": {},
   "source": [
    "## Telescope images for the color image project so far\n",
    "\n",
    "Take a look at the two links below and answer these questions:\n",
    "\n",
    "+ Do you want to change your object? If so, why?\n",
    "+ How many usable images are there of your object?\n",
    "\n",
    "Link to images:\n",
    "\n",
    "+ Aug 31: https://physics.mnstate.edu/feder_gallery/2024-08-31/\n",
    "+ Sep 5: https://physics.mnstate.edu/feder_gallery/2024-09-05/\n",
    "+ Sep 6: https://physics.mnstate.edu/feder_gallery/2024-09-06/\n",
    "+ Sep 8: https://physics.mnstate.edu/feder_gallery/2024-09-08/"
   ]
  },
  {
   "cell_type": "code",
   "execution_count": null,
   "id": "1ed14240-129b-4db4-906a-f7e3225cca0c",
   "metadata": {},
   "outputs": [],
   "source": [
    "from IPython.display import Image\n",
    "Image('media/M103-all-colors.gif')"
   ]
  },
  {
   "cell_type": "markdown",
   "id": "40cae5a9-9d6e-4a81-a2bf-731c3ced440c",
   "metadata": {},
   "source": [
    "## Star properties\n",
    "\n",
    "+ Demonstrate relationship between temperature and color\n",
    "+ Work on \"Luminosity, Temperature and Size\" tutorial"
   ]
  },
  {
   "cell_type": "code",
   "execution_count": null,
   "id": "40913e47-8cee-4fa4-83d6-8d0a81d273c8",
   "metadata": {},
   "outputs": [],
   "source": []
  }
 ],
 "metadata": {
  "kernelspec": {
   "display_name": "Python 3 (ipykernel)",
   "language": "python",
   "name": "python3"
  },
  "language_info": {
   "codemirror_mode": {
    "name": "ipython",
    "version": 3
   },
   "file_extension": ".py",
   "mimetype": "text/x-python",
   "name": "python",
   "nbconvert_exporter": "python",
   "pygments_lexer": "ipython3",
   "version": "3.12.5"
  }
 },
 "nbformat": 4,
 "nbformat_minor": 5
}
