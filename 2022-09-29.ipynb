{
 "cells": [
  {
   "cell_type": "markdown",
   "id": "efb59a0d-bd7f-40a9-8712-4a9314e510da",
   "metadata": {},
   "source": [
    "# 2022-09-29 "
   ]
  },
  {
   "cell_type": "markdown",
   "id": "98ce0de2-cdb2-489d-8b2d-a4ed8bafcf9a",
   "metadata": {},
   "source": [
    "## Three things for today:\n",
    "\n",
    "+ Start calibration your night -- see D2L for settings, or see notes from 2022-09-20.\n",
    "+ Work through tutorial \"Luminosity, Temperature and Size\"\n",
    "+ Work through tutorial \"HR Diagram\""
   ]
  },
  {
   "cell_type": "markdown",
   "id": "74baf962-ccb9-4682-8865-f8ae3170172e",
   "metadata": {},
   "source": [
    "## Night assignments\n",
    "\n",
    "+ Abby: 2022-09-02\n",
    "+ Adam: 2022-08-29\n",
    "+ Donovan: 2022-08-31\n",
    "+ Emily: 2022-08-13\n",
    "+ Collin: 2022-09-07\n",
    "+ Gracie: 2022-09-03\n",
    "+ Izzy: 2022-09-04\n",
    "+ Layton: 2022-08-25\n",
    "+ Obaid: 2022-08-30\n",
    "+ Willow: 2022-09-05\n"
   ]
  },
  {
   "cell_type": "code",
   "execution_count": null,
   "id": "8336f4b4-bf3f-4315-91e9-bc8b4ed56f45",
   "metadata": {},
   "outputs": [],
   "source": []
  }
 ],
 "metadata": {
  "kernelspec": {
   "display_name": "Python 3 (ipykernel)",
   "language": "python",
   "name": "python3"
  },
  "language_info": {
   "codemirror_mode": {
    "name": "ipython",
    "version": 3
   },
   "file_extension": ".py",
   "mimetype": "text/x-python",
   "name": "python",
   "nbconvert_exporter": "python",
   "pygments_lexer": "ipython3",
   "version": "3.9.13"
  }
 },
 "nbformat": 4,
 "nbformat_minor": 5
}
