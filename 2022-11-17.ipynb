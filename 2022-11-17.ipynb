{
 "cells": [
  {
   "cell_type": "markdown",
   "id": "e9d1c21f-c9a2-47eb-8860-87a0de98b95c",
   "metadata": {},
   "source": [
    "# 2022-11-17 "
   ]
  },
  {
   "cell_type": "markdown",
   "id": "169bd80f-e19f-468c-bc6d-00f8d4de4b14",
   "metadata": {},
   "source": [
    "## Flux, luminosity and distance"
   ]
  },
  {
   "cell_type": "markdown",
   "id": "93375ef0-de5e-424c-89d6-ca18bc795370",
   "metadata": {},
   "source": [
    "Reminders:\n",
    "\n",
    "+ *flux* is what a telescope measures -- the amount of light (or energy) per unit area per second. \n",
    "    - Note, though, that it takes careful calibration to convert the counts in an image to a flux in units of energy per second per unit area.\n",
    "    - In many cases this coinversion can be avoided, fortunately.\n",
    "+ *Luminosity* is the amount of energy per second a light source, like a star emits.\n",
    "+ A Hertzsprung-Russel diagram plots the relationship between *luminosity* and *temperature*, though *color* is often used as an indirect measurement of temperature.\n",
    "\n",
    "The relationship between flux, which is $f$ in the equation below, and luminosity, which is $L$ in the equation below, captures what you know from everyday experience: the further away a light is, the dimmer it appears. If we call the distance from the observer/telescope to the light source (say a star) $d$ then the flux-luminosity relationship  is\n",
    "\n",
    "$$\n",
    "f = \\frac{L}{4\\pi d^2}.\n",
    "$$\n",
    "\n",
    "There is a nice geometric interpretation of this: the luminsoty $L$ of the star spreads out over a sphere of radius $d$ as it travels through space. The area of a sphere is $4\\pi d^2$, so the relationship above is luminosty divided by area, which is flux.\n",
    "\n",
    "This relationship  is called the *inverse square law*. There are exceptions to it, the most common of which in every day life is a laser. A laser is designed to send all of its light in one direction. Because the light does not spread out (or at least does not spread out quickly) its flux-luminosity relationship  is different.\n",
    "\n",
    "There are astronomical sources in which radiation is \"beamed\" instead of spreading out uniformly in all directions. One example is a pulasre, a rapidly spoinng neutron star.. Another is a quasr, which is the core of a galaxy whose central black hole is consuming large amounts of gas, primarily emitting radiation in two directions."
   ]
  },
  {
   "cell_type": "markdown",
   "id": "1073fcbc-bb29-4518-a992-9e91116067bc",
   "metadata": {},
   "source": [
    "## Connection to magnitudes"
   ]
  },
  {
   "cell_type": "code",
   "execution_count": null,
   "id": "4f4415c1-f3b8-49ba-9524-49453f6e47b7",
   "metadata": {},
   "outputs": [],
   "source": []
  }
 ],
 "metadata": {
  "kernelspec": {
   "display_name": "Python 3 (ipykernel)",
   "language": "python",
   "name": "python3"
  },
  "language_info": {
   "codemirror_mode": {
    "name": "ipython",
    "version": 3
   },
   "file_extension": ".py",
   "mimetype": "text/x-python",
   "name": "python",
   "nbconvert_exporter": "python",
   "pygments_lexer": "ipython3",
   "version": "3.10.6"
  }
 },
 "nbformat": 4,
 "nbformat_minor": 5
}
