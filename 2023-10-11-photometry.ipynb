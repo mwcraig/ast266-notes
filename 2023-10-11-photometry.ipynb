{
 "cells": [
  {
   "cell_type": "markdown",
   "id": "103a80a1-b2ea-4075-989f-3481316d155f",
   "metadata": {},
   "source": [
    "# 2023-10-11 Intro aperture photometry"
   ]
  },
  {
   "cell_type": "markdown",
   "id": "258e3d29-1683-4bb8-99d4-5b3a86dc6720",
   "metadata": {},
   "source": [
    "## Overview\n",
    "\n",
    "+ Reason through \"tricky\" aspects of counting pixels\n",
    "+ Think about how to separate starlight from background"
   ]
  },
  {
   "cell_type": "markdown",
   "id": "79d1ed1b-47d7-43b4-be1e-59d7be57b1e5",
   "metadata": {},
   "source": [
    "## Part 1: Counting background"
   ]
  },
  {
   "cell_type": "code",
   "execution_count": null,
   "id": "cc8b3b9b-f2c0-46f2-a127-99555f923e01",
   "metadata": {},
   "outputs": [],
   "source": [
    "from astropy.modeling.models import Gaussian2D\n",
    "from matplotlib import pyplot as plt\n",
    "\n",
    "import numpy as np"
   ]
  },
  {
   "cell_type": "code",
   "execution_count": null,
   "id": "1b736ec6-cf45-4fa7-a05b-eed6819e3bef",
   "metadata": {},
   "outputs": [],
   "source": [
    "rng = np.random.default_rng(seed=548975)"
   ]
  },
  {
   "cell_type": "code",
   "execution_count": null,
   "id": "7c8c9a4d-023d-41f9-8361-49d150e2fc0e",
   "metadata": {},
   "outputs": [],
   "source": [
    "image_size = 10\n",
    "\n",
    "background_image = rng.poisson(lam=200, size=[image_size, image_size])"
   ]
  },
  {
   "cell_type": "code",
   "execution_count": null,
   "id": "97309478-7fe9-4f16-8a15-ce3da1249124",
   "metadata": {},
   "outputs": [],
   "source": [
    "def circle(x, y, radius):\n",
    "    angle = np.linspace(0, 2 * np.pi)\n",
    "    return x + radius * np.cos(angle), y + radius * np.sin(angle)"
   ]
  },
  {
   "cell_type": "code",
   "execution_count": null,
   "id": "7fd956e7-b82a-455e-8786-19f483f10466",
   "metadata": {},
   "outputs": [],
   "source": [
    "circ = circle(5, 5, 2.1)"
   ]
  },
  {
   "cell_type": "code",
   "execution_count": null,
   "id": "d7ae4cc9-7534-4758-8f2c-fa54193fbaac",
   "metadata": {},
   "outputs": [],
   "source": [
    "plt.figure(figsize=(10, 10))\n",
    "plt.imshow(background_image)\n",
    "plt.colorbar()\n",
    "for i in range(image_size):\n",
    "    for j in range(image_size):\n",
    "        plt.text(i, j, int(background_image[j, i]), \n",
    "                 fontweight='bold',\n",
    "                 color='black',\n",
    "                 horizontalalignment='center',\n",
    "                 verticalalignment='center')\n",
    "        plt.scatter(i, j, marker='.', c='red', alpha=0.5)\n",
    "\n",
    "plt.plot(circ[0], circ[1], color='red');\n",
    "        "
   ]
  },
  {
   "cell_type": "markdown",
   "id": "52d8addc-bee8-4225-9fd2-3571a82cbbfc",
   "metadata": {},
   "source": [
    "## Part 2: Now with a star...."
   ]
  },
  {
   "cell_type": "code",
   "execution_count": null,
   "id": "f19981b9-1632-4b46-925b-56406414b2f9",
   "metadata": {},
   "outputs": [],
   "source": [
    "star = Gaussian2D(amplitude=200, x_stddev=1.25, y_stddev=1.25)\n",
    "grids = np.mgrid[0:10, 0:10]\n",
    "star_grid = star(grids[0] - 5, grids[1] - 5)"
   ]
  },
  {
   "cell_type": "code",
   "execution_count": null,
   "id": "06f842f1-0892-4b21-9151-5fe3e132a2c4",
   "metadata": {},
   "outputs": [],
   "source": [
    "total_image = background_image + star_grid"
   ]
  },
  {
   "cell_type": "code",
   "execution_count": null,
   "id": "d0190707-baac-435e-96d5-866886f417a3",
   "metadata": {},
   "outputs": [],
   "source": [
    "plt.figure(figsize=(10, 10))\n",
    "plt.imshow(total_image)\n",
    "plt.colorbar()\n",
    "for i in range(image_size):\n",
    "    for j in range(image_size):\n",
    "        plt.text(i, j, int(total_image[j, i]), \n",
    "                 fontweight='bold',\n",
    "                 color='darkgray',\n",
    "                 horizontalalignment='center',\n",
    "                 verticalalignment='center')\n",
    "        plt.scatter(i, j, marker='.', c='red', alpha=0.5)\n",
    "\n",
    "plt.plot(circ[0], circ[1], color='red');\n",
    "        "
   ]
  },
  {
   "cell_type": "code",
   "execution_count": null,
   "id": "44c9b7bb-9089-466b-a45d-510e27d63330",
   "metadata": {},
   "outputs": [],
   "source": []
  }
 ],
 "metadata": {
  "kernelspec": {
   "display_name": "Python 3 (ipykernel)",
   "language": "python",
   "name": "python3"
  },
  "language_info": {
   "codemirror_mode": {
    "name": "ipython",
    "version": 3
   },
   "file_extension": ".py",
   "mimetype": "text/x-python",
   "name": "python",
   "nbconvert_exporter": "python",
   "pygments_lexer": "ipython3",
   "version": "3.10.6"
  }
 },
 "nbformat": 4,
 "nbformat_minor": 5
}
