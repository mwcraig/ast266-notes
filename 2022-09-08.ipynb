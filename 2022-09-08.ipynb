{
 "cells": [
  {
   "cell_type": "markdown",
   "id": "f4ab08cf-fabc-4ec0-9540-4a5e7b6a99c9",
   "metadata": {},
   "source": [
    "# 2022-09-08 \n",
    "\n",
    "## More about astronomical images"
   ]
  },
  {
   "cell_type": "markdown",
   "id": "db2f3d34-e2e2-4354-a501-62f8f384ca3b",
   "metadata": {},
   "source": [
    "### Questions to answer while exploring an artificial image\n",
    "\n",
    "The code cell below will launch an viewer with an artificial image. \n",
    "\n",
    "Run it, maybe add a new view for the output and put that next to the questions below, then answer the questions.\n",
    "\n",
    "Note: \n",
    "\n",
    "+ Use the \"hot pixel\" checkbox to regenerate images.\n",
    "+ Only have one effect at a time turned on. \n",
    "+ Turn effects off by dragging them to zero.\n",
    "\n",
    "\n",
    "1. Does the bias stay the same each time?\n",
    "     \n",
    "2. Does the dark current stay the same each time?\n",
    "\n",
    "3. What happens if you make the read noise very large?\n",
    "\n",
    "4. What if you make the read noise very small?\n"
   ]
  },
  {
   "cell_type": "code",
   "execution_count": null,
   "id": "9987c4fd-a685-416c-81c9-a585f2de52e3",
   "metadata": {},
   "outputs": [],
   "source": [
    "from matplotlib import pyplot as plt\n",
    "import numpy as np\n",
    "from photutils.aperture import EllipticalAperture\n",
    "from ipywidgets import interactive, interact\n",
    "from convenience_functions import show_image\n",
    "import image_sim as isim\n",
    "\n",
    "image_size = 256\n",
    "\n",
    "# @interact(bias_level=(1000,1200,10), dark=(0.01,1,0.01), sky_counts=(0, 300, 10),\n",
    "#           gain=(0.5, 3.0, 0.1), read=(0, 50, 2.0),\n",
    "#           exposure=(0, 300, 10))\n",
    "def complete_image(bias_level=1100, read=10.0, gain=1, dark=0.1, \n",
    "                   exposure=30, hot_pixels=True, sky_counts=200):\n",
    "    synthetic_image = np.zeros([image_size, image_size])\n",
    "    show_image(synthetic_image + \n",
    "               isim.read_noise(synthetic_image, read) +\n",
    "               isim.bias(synthetic_image, bias_level, realistic=True) + \n",
    "               isim.dark_current(synthetic_image, dark, exposure, hot_pixels=hot_pixels) +\n",
    "               isim.sky_background(synthetic_image, sky_counts),\n",
    "               cmap='gray',\n",
    "               figsize=None)\n",
    "    \n",
    "i = interactive(complete_image, bias_level=(1000,1200,10), dark=(0.0,1,0.1), sky_counts=(0, 300, 50),\n",
    "          gain=(0.5, 3.0, 0.25), read=(0, 50, 5.0),\n",
    "          exposure=(0, 300, 30))\n",
    "\n",
    "for kid in i.children:\n",
    "    try:\n",
    "        kid.continuous_update = False\n",
    "    except KeyError:\n",
    "        pass\n",
    "i"
   ]
  },
  {
   "cell_type": "code",
   "execution_count": null,
   "id": "99789ad0-b5d6-4363-8613-6f87bc9af88d",
   "metadata": {},
   "outputs": [],
   "source": []
  }
 ],
 "metadata": {
  "kernelspec": {
   "display_name": "Python 3 (ipykernel)",
   "language": "python",
   "name": "python3"
  },
  "language_info": {
   "codemirror_mode": {
    "name": "ipython",
    "version": 3
   },
   "file_extension": ".py",
   "mimetype": "text/x-python",
   "name": "python",
   "nbconvert_exporter": "python",
   "pygments_lexer": "ipython3",
   "version": "3.10.5"
  }
 },
 "nbformat": 4,
 "nbformat_minor": 5
}
