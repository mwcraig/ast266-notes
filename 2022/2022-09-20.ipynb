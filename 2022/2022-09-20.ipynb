{
 "cells": [
  {
   "cell_type": "markdown",
   "id": "c4911983",
   "metadata": {},
   "source": [
    "# 2022-09-22"
   ]
  },
  {
   "cell_type": "markdown",
   "id": "d1a7b765",
   "metadata": {},
   "source": [
    "##  Our data reduction choices/settings"
   ]
  },
  {
   "cell_type": "markdown",
   "id": "2e7635c7",
   "metadata": {},
   "source": [
    "### Calibrating and combining bias images\n",
    "\n",
    "1. Remove (trim) overscan region (upper limit is 4096)\n",
    "2. Optionally, subtract overscan (but **not** for our camera)\n",
    "3. Combine images\n",
    "    + Average the bias images\n",
    "        - Do *not* scale before combining\n",
    "    + Eliminate outlying values by doing sigma clipping, set min and max to 5\n",
    "    + Do not `group by` anything "
   ]
  },
  {
   "cell_type": "markdown",
   "id": "91f61c6b",
   "metadata": {},
   "source": [
    "### Calibrating and combining dark images\n",
    "\n",
    "1. Trim overscan region (upper limit 4096)\n",
    "2. Optionally, subtract overscan (but **not** for our camera)\n",
    "3. Subtract the **combined** bias image from each dark image\n",
    "4. Combine dark images \n",
    "    + Average the dark images\n",
    "        - Do *not* scale before combining\n",
    "    + Use sigma clipping to exclude extreme values, min and max of 5\n",
    "    + Group by exposure times"
   ]
  },
  {
   "cell_type": "markdown",
   "id": "a87449e7",
   "metadata": {},
   "source": [
    "### Calibrating and combining flat images\n",
    "\n",
    "Twilight flats each have a different exposure time, and small differences in average pixel counts.\n",
    "\n",
    "1. Trim overscan region, max is 4096\n",
    "2. Optionally, subtract overscan (but **not** for our camera)\n",
    "3. Subtract **combined** bias from each flat\n",
    "4. Subtract **combined** dark from each flat image, scale the exposure time of the combined dark to match flat image\n",
    "5. Combine the flat images\n",
    "    + Sigma clip, min and max of 5\n",
    "    + Average the flat images together\n",
    "        - Scale so that their *median* all have same value (1)\n",
    "    + Group by filter *only*"
   ]
  },
  {
   "cell_type": "markdown",
   "id": "0934f110",
   "metadata": {},
   "source": [
    "### Calibrating science images\n",
    "\n",
    "1. Trim overscan region, max 4096\n",
    "2. Optionally, subtract overscan (but not for our camera)\n",
    "3. Subtract **combined** bias from each science image\n",
    "4. Subtract **combined** dark from each science image, scale the exposure time of the combined dark to match science image\n",
    "5. Divide each science image by the **combined** flat for that image's filter (i.e. Flat correct)"
   ]
  },
  {
   "cell_type": "markdown",
   "id": "e9cc7fac",
   "metadata": {},
   "source": [
    "## Video walk-through of settings\n",
    "\n",
    "Part 1: https://youtu.be/0XkOVcoJC_M?t=1090\n",
    "\n",
    "Part 2: https://youtu.be/WZDAsY6KINc"
   ]
  },
  {
   "cell_type": "markdown",
   "id": "88ad4f27",
   "metadata": {},
   "source": [
    "## What you are doing today\n",
    "\n",
    "### Calibrate the data in the folder '(your jupyter folder)/uncalibrated-nights/sample-for-reduction'\n",
    "\n",
    "\n",
    "2. Make a new folder in your jupyter folder called \"sample-your_name_here\" and open that folder\n",
    "3. Use either the launcher or the \"astro\" menu to make a new reduction template.\n",
    "4. Open the reduction template and run it. \n"
   ]
  },
  {
   "cell_type": "code",
   "execution_count": null,
   "id": "5c7583ec-2b4d-47f5-a98f-f50499d614e9",
   "metadata": {},
   "outputs": [],
   "source": []
  }
 ],
 "metadata": {
  "kernelspec": {
   "display_name": "Python 3 (ipykernel)",
   "language": "python",
   "name": "python3"
  },
  "language_info": {
   "codemirror_mode": {
    "name": "ipython",
    "version": 3
   },
   "file_extension": ".py",
   "mimetype": "text/x-python",
   "name": "python",
   "nbconvert_exporter": "python",
   "pygments_lexer": "ipython3",
   "version": "3.9.13"
  }
 },
 "nbformat": 4,
 "nbformat_minor": 5
}
