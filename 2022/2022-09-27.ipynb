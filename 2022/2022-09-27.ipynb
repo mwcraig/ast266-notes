{
 "cells": [
  {
   "cell_type": "markdown",
   "id": "4fe24cde-963b-48fe-ba45-74c6d9c125c9",
   "metadata": {},
   "source": [
    "# 2022-09-27 -- filters, camera sensitivity and color"
   ]
  },
  {
   "cell_type": "markdown",
   "id": "5bf51918-974b-4e22-8b04-b4e93e5dba67",
   "metadata": {
    "tags": []
   },
   "source": [
    "## Electromagnetic spectrum"
   ]
  },
  {
   "cell_type": "markdown",
   "id": "a3c790fd-7773-4b5c-9a81-e89938d4d843",
   "metadata": {},
   "source": [
    "Please work on the tutorial \"Electromagnetic (EM) Spectrum of Light\"\n",
    "\n",
    "The visible spectrum of light, which is the part we can see with our eyes, is the wavelength range from rougly 400 nm to 700 nm.\n",
    "\n",
    "1 nanometer (nm) is $10^{-9}$m."
   ]
  },
  {
   "cell_type": "markdown",
   "id": "54910a79-8f8a-4a40-a098-fd274e52da7e",
   "metadata": {},
   "source": [
    "![Spectrum](media/Linear_visible_spectrum.svg.png)\n",
    "\n",
    "Image credit: By Gringer - Own work, Public Domain, https://commons.wikimedia.org/w/index.php?curid=4639774"
   ]
  },
  {
   "cell_type": "markdown",
   "id": "a93e842e-d878-42d0-889c-8775be0163e5",
   "metadata": {},
   "source": [
    "## Quantumn efficiency: how our camera responds to light"
   ]
  },
  {
   "cell_type": "markdown",
   "id": "462bb3bc-6585-4068-b03a-309aa1ebabf3",
   "metadata": {},
   "source": [
    "The *quantum efficiency* of a camera is, essentially, what fraction of the light that falls on the camera is actually detected. For example,a QE of 0.50 means 50% of the light that hits the detector is actually detected.\n",
    "\n",
    "The QE for our camera is below.\n",
    "\n",
    "![Graph of quantum efficiency for Apogee Ultra CG16M](media/Camera_Sensor_QE.png)\n",
    "\n",
    "Source: [Documentation for KAF-16803 image sensor](https://www.dropbox.com/s/bu721t8oheicmsa/Camera%20Sensor%20Docs.pdf?dl=0)"
   ]
  },
  {
   "cell_type": "markdown",
   "id": "f163a0dd-653a-4b33-ab14-ddc39cb9b781",
   "metadata": {},
   "source": [
    "### Questions to discuss briefly\n",
    "\n",
    "1. Is the QE better for blue light (roughly 400-500nm), for red light (600-700nm) or in between?\n",
    "1. What about infrared light (700-800nm)?\n",
    "2. If you had to pick a rough ballpark number for the QE for camera what would you poick and why?"
   ]
  },
  {
   "cell_type": "markdown",
   "id": "0c43d387-f13c-48e7-b68d-0a0d8b56604e",
   "metadata": {},
   "source": [
    "## Astronomical filters/passbands\n",
    "\n",
    "Each of the filters in the filter wheel in the telescope lets through a pecific range of light. There are several filter sets; we have parts of two of them, the Johnson-Cousin filters and the Sloan filters.\n",
    "\n",
    "The graph below shows what range of wavelengths each filter lets through. The vertical axis indicates what fraction of light at each wavelength is transmitted, i.e. goes through the filter.\n",
    "\n",
    "![Transmission curves for Johnson-Cousins and Sloan passbands](media/Castro_pdf.png)\n",
    "\n",
    "Source:  [Castro, P., Payne, T., Moody, J., et al. 2018, The Advanced Maui Optical and Space Surveillance Technologies Conference, 36](https://amostech.com/TechnicalPapers/2018/Poster/Castro.pdf)"
   ]
  }
 ],
 "metadata": {
  "kernelspec": {
   "display_name": "Python 3 (ipykernel)",
   "language": "python",
   "name": "python3"
  },
  "language_info": {
   "codemirror_mode": {
    "name": "ipython",
    "version": 3
   },
   "file_extension": ".py",
   "mimetype": "text/x-python",
   "name": "python",
   "nbconvert_exporter": "python",
   "pygments_lexer": "ipython3",
   "version": "3.9.13"
  }
 },
 "nbformat": 4,
 "nbformat_minor": 5
}
