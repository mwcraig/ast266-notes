{
 "cells": [
  {
   "cell_type": "markdown",
   "metadata": {},
   "source": [
    "# Noise and uncertainty"
   ]
  },
  {
   "cell_type": "markdown",
   "metadata": {},
   "source": [
    "## Polling data\n",
    "\n",
    "Information about polls/surveys and the margin of error in the polls was collected by the class last year.\n",
    "\n",
    "The data they submitted is in [this google sheet](https://docs.google.com/spreadsheets/d/1wrdE4CZCmWJNOCWq2iAjgjqSGZRofyg-w_BFuJzMPBo/edit?usp=sharing).\n",
    "\n",
    "Intuitively you might expect that the margin of error gets smaller as the number of people in the poll increases."
   ]
  },
  {
   "cell_type": "markdown",
   "metadata": {},
   "source": [
    "## Expected error in polling data\n",
    "\n",
    "For $N$ counts the expected error is $\\sqrt{N}$.\n",
    "\n",
    "For 100 counts then expected error is 10.\n",
    "\n",
    "Percent  error is expected error divided by total number of counts:\n",
    "\n",
    "$$\n",
    "e = \\frac{\\sqrt{N}}{N} = \\frac{1}{\\sqrt{N}}\n",
    "$$\n",
    "\n",
    "For 100 counts, the percent error is $e = 0.1$ (or 10%)\n"
   ]
  },
  {
   "cell_type": "code",
   "execution_count": 1,
   "metadata": {},
   "outputs": [],
   "source": [
    "import matplotlib.pyplot as plt\n",
    "\n",
    "import numpy as np"
   ]
  },
  {
   "cell_type": "code",
   "execution_count": 2,
   "metadata": {},
   "outputs": [
    {
     "data": {
      "image/png": "[encoded data removed]",
      "text/plain": [
       "<Figure size 432x288 with 1 Axes>"
      ]
     },
     "metadata": {
      "needs_background": "light"
     },
     "output_type": "display_data"
    }
   ],
   "source": [
    "N = np.logspace(1, 4)\n",
    "\n",
    "plt.plot(N, 1 / np.sqrt(N))\n",
    "plt.xlabel('Number')\n",
    "plt.ylabel('Fractional error')\n",
    "plt.grid()"
   ]
  },
  {
   "cell_type": "markdown",
   "metadata": {},
   "source": [
    "## Combining errors\n",
    "\n",
    "### Polling\n",
    "\n",
    "Imagine two polls. Poll A has 100 people in it, Poll B has 400 people in it.\n",
    "\n",
    "Formula for error: $\\sqrt{N}$\n",
    "\n",
    "Now imagine you combine those two poll results by adding them. What is the the error in that combined poll?"
   ]
  },
  {
   "cell_type": "markdown",
   "metadata": {},
   "source": [
    "### 1. Use $\\sqrt{N}$, combining $N$ first\n",
    "\n",
    "+ Combine people from both polls to get 500.\n",
    "+ Calculate $\\sqrt{N}$, get 22.36."
   ]
  },
  {
   "cell_type": "code",
   "execution_count": 3,
   "metadata": {},
   "outputs": [
    {
     "data": {
      "text/plain": [
       "22.360679774997898"
      ]
     },
     "execution_count": 3,
     "metadata": {},
     "output_type": "execute_result"
    }
   ],
   "source": [
    "np.sqrt(500)"
   ]
  },
  {
   "cell_type": "code",
   "execution_count": 4,
   "metadata": {},
   "outputs": [
    {
     "data": {
      "text/plain": [
       "0.044721359549995794"
      ]
     },
     "execution_count": 4,
     "metadata": {},
     "output_type": "execute_result"
    }
   ],
   "source": [
    "1/np.sqrt(500)"
   ]
  },
  {
   "cell_type": "markdown",
   "metadata": {},
   "source": [
    "### 2. Combine errors directly using error combination formula\n",
    "\n",
    "If the error in two measurements are $\\sigma_1$ and $\\sigma_2$ then the error in the result when you add or subtract them is\n",
    "\n",
    "$$\n",
    "\\sigma_T = \\sqrt{\\sigma_1^2 + \\sigma_2^2}\n",
    "$$"
   ]
  },
  {
   "cell_type": "markdown",
   "metadata": {},
   "source": [
    "Try this for the combining two polls case, where $\\sigma_1 = \\sqrt{100} = 10$ and $\\sigma_2 = \\sqrt{400} = 20$"
   ]
  },
  {
   "cell_type": "code",
   "execution_count": 5,
   "metadata": {},
   "outputs": [
    {
     "name": "stdout",
     "output_type": "stream",
     "text": [
      "22.360679774997898\n"
     ]
    }
   ],
   "source": [
    "print(np.sqrt(10**2 + 20**2))"
   ]
  },
  {
   "cell_type": "markdown",
   "metadata": {},
   "source": [
    "Suppose a pixel in an image whose value is 100, so percent error 0.1, and you want to get the percent error down to 0.05.\n",
    "\n",
    "What does the pixel value need to be so the percent error is 0.05?  400\n",
    "\n",
    "Imagine the first image was a 30 second exposure...what does the exposure time need to be in the second image to get 400 counts?  4 times longer, so 120 seconds."
   ]
  },
  {
   "cell_type": "markdown",
   "metadata": {},
   "source": [
    "This is the same as the result we got using method 1."
   ]
  },
  {
   "cell_type": "markdown",
   "metadata": {},
   "source": [
    "+ 104\n",
    "+ 100.14\n"
   ]
  },
  {
   "cell_type": "markdown",
   "metadata": {},
   "source": [
    "#### Exercise\n",
    "\n",
    "Suppose you measure the number of pohotons (amount of light) received by the camera and it is 10,000. The read noise, written $\\sigma_R$, for our old camera at the telescope was 30.\n",
    "\n",
    "What is the total error in measurement, including error in the counts and the read noise?\n",
    "\n",
    "Put your answer into chat....\n",
    "\n",
    "+ Error 1, due to counts: $\\sigma_1 = \\sqrt{N} = \\sqrt{10000} = 100$\n",
    "+ Error 2, due to read noise: $\\sigma_2 = 30$\n",
    "\n",
    "Combine using\n",
    "\n",
    "$$\n",
    "\\sigma_T = \\sqrt{\\sigma_1^2 + \\sigma_2^2} = \\sqrt{100^2 + 30^2} = 104.4\n",
    "$$\n",
    "\n"
   ]
  },
  {
   "cell_type": "code",
   "execution_count": 6,
   "metadata": {},
   "outputs": [
    {
     "data": {
      "text/plain": [
       "104.4030650891055"
      ]
     },
     "execution_count": 6,
     "metadata": {},
     "output_type": "execute_result"
    }
   ],
   "source": [
    "np.sqrt(100**2 + 30**2)"
   ]
  },
  {
   "cell_type": "markdown",
   "metadata": {},
   "source": [
    "REDO error calculation, but for 450 photons. What is $\\sigma_T$ in this case?\n",
    "\n",
    "Answers from class:\n",
    "\n",
    "+ 36.7\n",
    "\n",
    "$$\n",
    "\\sigma_T^2 = \\sqrt{(450 + 900)} = 36.74\n",
    "$$\n"
   ]
  },
  {
   "cell_type": "markdown",
   "metadata": {},
   "source": [
    "Last time: to measure the amount of light from a star, start with the counts in the image for star, subtract the counts for the sky.\n",
    "\n",
    "For our example pixel, counts where star is  are 300, sky near there is 40, so counts because of star are 260.\n",
    "\n",
    "What is the error in that final measurement?\n",
    "\n",
    "$$\n",
    "\\sqrt{300 + 40} = 18.4\n",
    "$$\n",
    "\n",
    "Towards a more general formula for error (this is NOT complete or correct and uses slightly different notation from the book):\n",
    "\n",
    "$$\n",
    "\\sqrt{N_{star} + N_{sky} + N_{dark} + (\\sigma_R)^2}\n",
    "$$\n",
    "\n",
    "Here we are combining several errros:\n",
    "\n",
    "+ Counts from the star\n",
    "+ Counts from the sky (which we subtract)\n",
    "+ Counts from dark current (which we also subtract)\n",
    "+ Read noise"
   ]
  },
  {
   "cell_type": "code",
   "execution_count": null,
   "metadata": {},
   "outputs": [],
   "source": []
  }
 ],
 "metadata": {
  "kernelspec": {
   "display_name": "Python 3 (ipykernel)",
   "language": "python",
   "name": "python3"
  },
  "language_info": {
   "codemirror_mode": {
    "name": "ipython",
    "version": 3
   },
   "file_extension": ".py",
   "mimetype": "text/x-python",
   "name": "python",
   "nbconvert_exporter": "python",
   "pygments_lexer": "ipython3",
   "version": "3.10.5"
  }
 },
 "nbformat": 4,
 "nbformat_minor": 4
}
