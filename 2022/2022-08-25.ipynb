{
 "cells": [
  {
   "cell_type": "markdown",
   "id": "8db11937-984a-4baa-aeaa-cf4c368180f0",
   "metadata": {},
   "source": [
    "## Color Image objects\n",
    "\n",
    "\n",
    "\n",
    "+ M57 -- Adam -- ring\n",
    "+ M64 -- Collin -- black eye galaxy\n",
    "+ M51 -- Layton -- whirlpool galaxy\n",
    "+ M13 -- Watson -- Globular cluster\n",
    "+ M57 -- Obaid -- ring nebula\n",
    "+ M94 -- Gracie -- cat's eye galaxy\n",
    "+ M106 -- Donavan -- galaxy\n",
    "+ M94 -- Abby -- cat's eye galaxy\n",
    "+ M5 + M63 -- Izzy -- M5 (globular) and galaxy\n",
    "+ M34 -- Mara -- open cluster\n",
    "+ NGC 7380 -- Tanner -- Wizard's nebula"
   ]
  },
  {
   "cell_type": "code",
   "execution_count": null,
   "id": "b7985a65-1f5d-4b03-a5e4-e00b95364a03",
   "metadata": {},
   "outputs": [],
   "source": []
  }
 ],
 "metadata": {
  "kernelspec": {
   "display_name": "Python 3 (ipykernel)",
   "language": "python",
   "name": "python3"
  },
  "language_info": {
   "codemirror_mode": {
    "name": "ipython",
    "version": 3
   },
   "file_extension": ".py",
   "mimetype": "text/x-python",
   "name": "python",
   "nbconvert_exporter": "python",
   "pygments_lexer": "ipython3",
   "version": "3.10.5"
  }
 },
 "nbformat": 4,
 "nbformat_minor": 5
}
