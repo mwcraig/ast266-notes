{
 "cells": [
  {
   "cell_type": "markdown",
   "id": "f2621fbb-8f37-4117-80af-220f3ec48656",
   "metadata": {},
   "source": [
    "# 2022-10-13 "
   ]
  },
  {
   "cell_type": "markdown",
   "id": "5411a426-0acb-4c2e-bc09-57c43f4d5c5d",
   "metadata": {
    "tags": []
   },
   "source": [
    "## Hertzsprung-Russell (HR) Diagram\n",
    "\n",
    "### Blackbody (thermal) spectrum\n",
    "\n",
    "Reading\n",
    "\n",
    "+ Thermal radiation: https://openstax.org/books/astronomy/pages/5-2-the-electromagnetic-spectrum\n",
    "+ About stellar population: https://openstax.org/books/astronomy/pages/18-1-a-stellar-census\n",
    "+ The HR diagram: https://openstax.org/books/astronomy/pages/18-4-the-h-r-diagram\n",
    "\n",
    "#### Do these lecture tutorials (work in groups)\n",
    "\n",
    "+ Luminosity, Size and Temperature \n",
    "+ Blackbody radiation"
   ]
  },
  {
   "cell_type": "markdown",
   "id": "d499126b-719a-49ab-ab98-aca64058ac00",
   "metadata": {},
   "source": [
    "### More about the HR diagram\n",
    "\n",
    "### Reading\n",
    "\n",
    "+ Star formation: https://openstax.org/books/astronomy/pages/21-1-star-formation\n",
    "+ HR diagram and stellar evolution: https://openstax.org/books/astronomy/pages/21-2-the-h-r-diagram-and-the-study-of-stellar-evolution\n",
    "+ Evolution to red giants: https://openstax.org/books/astronomy/pages/22-1-evolution-from-the-main-sequence-to-red-giants\n",
    "\n",
    "\n",
    "\n",
    "#### Do these tutorials \n",
    "\n",
    "+ HR Diagram\n",
    "+ Star Lifetime"
   ]
  },
  {
   "cell_type": "markdown",
   "id": "3da9b829-1d80-4e0d-98c9-891e3df46cd2",
   "metadata": {},
   "source": [
    "![HR diagram matched to spectra](media/Extra-questions-HR-blackbody.png)"
   ]
  },
  {
   "cell_type": "markdown",
   "id": "518731b5-848c-4ce1-a951-f5210c2be0e1",
   "metadata": {},
   "source": [
    "### Question\n",
    "\n",
    "Imagine you observe a group of stars and there are no blue stars"
   ]
  }
 ],
 "metadata": {
  "kernelspec": {
   "display_name": "Python 3 (ipykernel)",
   "language": "python",
   "name": "python3"
  },
  "language_info": {
   "codemirror_mode": {
    "name": "ipython",
    "version": 3
   },
   "file_extension": ".py",
   "mimetype": "text/x-python",
   "name": "python",
   "nbconvert_exporter": "python",
   "pygments_lexer": "ipython3",
   "version": "3.9.13"
  }
 },
 "nbformat": 4,
 "nbformat_minor": 5
}
