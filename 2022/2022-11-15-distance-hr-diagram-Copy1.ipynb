{
 "cells": [
  {
   "cell_type": "code",
   "execution_count": null,
   "id": "ee72772d-c334-4608-86da-bda622278c00",
   "metadata": {},
   "outputs": [],
   "source": [
    "from pathlib import Path\n",
    "import numpy as np\n",
    "\n",
    "from astropy.coordinates import SkyCoord\n",
    "from astropy import units as u\n",
    "from astropy.table import Table\n",
    "\n",
    "from astroquery.gaia import Gaia\n",
    "\n",
    "%matplotlib inline\n",
    "import matplotlib.pyplot as plt"
   ]
  },
  {
   "cell_type": "code",
   "execution_count": null,
   "id": "9b22577e-2a40-4b40-9671-d1ad26df7c0a",
   "metadata": {},
   "outputs": [],
   "source": [
    "def two_up(B, V, title, mag_col='mag_inst_cal'):\n",
    "    fig, ax = plt.subplots(1, 2, figsize=(20, 10))\n",
    "    resid, cmd = ax\n",
    "    resid.plot(B['color_cat'], B['color_cat'] - (B[mag_col] - V[mag_col]), '.', label='catalog colors', alpha=0.4)\n",
    "    #plt.ylim(16.5, 10)\n",
    "    resid.set_xlabel('Catalog B-V')\n",
    "    resid.set_ylabel('Diff between catalog and calibrated B-V')\n",
    "    resid.set_title(title)\n",
    "    resid.grid()\n",
    "    good_color = np.abs(B['color_cat'] - (B['mag_inst_cal'] - V['mag_inst_cal'])) < 0.1\n",
    "    \n",
    "    cmd.plot(B[mag_col][good_color] - V[mag_col][good_color], V[mag_col][good_color], '.')\n",
    "    cmd.set_ylim(*cmd.get_ylim()[::-1])\n",
    "    cmd.set_ylabel('V')\n",
    "    cmd.set_xlabel('B - V')\n",
    "    cmd.set_xlim(-0.5, 2.5)\n",
    "    cmd.grid()\n",
    "    "
   ]
  },
  {
   "cell_type": "code",
   "execution_count": null,
   "id": "816792ba-b79c-4abd-a864-e768b9050c92",
   "metadata": {},
   "outputs": [],
   "source": [
    "your_mag_table = 'donovan-photo_m1.csv'"
   ]
  },
  {
   "cell_type": "code",
   "execution_count": null,
   "id": "8b8f2d39-df2c-43ef-b3e7-04be40b89470",
   "metadata": {},
   "outputs": [],
   "source": [
    "mag_table = Table.read(your_mag_table)"
   ]
  },
  {
   "cell_type": "code",
   "execution_count": null,
   "id": "d80e6c82-be0c-4f79-9bba-86139d5c52ef",
   "metadata": {},
   "outputs": [],
   "source": [
    "B = mag_table[mag_table['filter'] == 'B']\n",
    "V = mag_table[mag_table['filter'] == 'V']"
   ]
  },
  {
   "cell_type": "code",
   "execution_count": null,
   "id": "8203ea51-7be5-4242-903b-02808606fcb1",
   "metadata": {},
   "outputs": [],
   "source": [
    "mag_col = 'mag_inst_cal'\n",
    "fig, resid = plt.subplots(1, 1, figsize=(10, 10))\n",
    "\n",
    "resid.plot(B['color_cat'], B['color_cat'] - (B[mag_col] - V[mag_col]), '.', label='catalog colors', alpha=0.4)\n",
    "#plt.ylim(16.5, 10)\n",
    "resid.set_xlabel('Catalog B-V')\n",
    "resid.set_ylabel('Diff between catalog and calibrated B-V')\n",
    "resid.set_title(your_mag_table)\n",
    "resid.grid()"
   ]
  },
  {
   "cell_type": "code",
   "execution_count": null,
   "id": "21e3f4f0-20bc-4404-8af5-79a7f689550d",
   "metadata": {},
   "outputs": [],
   "source": [
    "good_color = np.abs(B['color_cat'] - (B['mag_inst_cal'] - V['mag_inst_cal'])) < 0.1"
   ]
  },
  {
   "cell_type": "code",
   "execution_count": null,
   "id": "28d01be9-2372-4529-9272-a85574877f46",
   "metadata": {},
   "outputs": [],
   "source": [
    "fig, cmd = plt.subplots(1, 1, figsize=(10, 10))\n",
    "\n",
    "cmd.plot(B[mag_col][good_color] - V[mag_col][good_color], V[mag_col][good_color], '.')\n",
    "cmd.set_ylim(*cmd.get_ylim()[::-1])\n",
    "cmd.set_ylabel('V')\n",
    "cmd.set_xlabel('B - V')\n",
    "cmd.set_xlim(-0.5, 2.5)\n",
    "cmd.grid()\n"
   ]
  },
  {
   "cell_type": "code",
   "execution_count": null,
   "id": "67a327ec-b01d-46ef-bcc5-9eceb213a365",
   "metadata": {},
   "outputs": [],
   "source": [
    "sc = SkyCoord(ra=mag_table['RA'].mean(), dec=mag_table['Dec'].mean(), unit='degree')"
   ]
  },
  {
   "cell_type": "code",
   "execution_count": null,
   "id": "a2299c42-2440-435f-81ba-98aa1c78c561",
   "metadata": {},
   "outputs": [],
   "source": [
    "Gaia.ROW_LIMIT = -1\n",
    "j = Gaia.cone_search_async(sc, 20 * u.arcmin)"
   ]
  },
  {
   "cell_type": "code",
   "execution_count": null,
   "id": "6793cb11-be0a-45b3-9596-902bba508e7f",
   "metadata": {},
   "outputs": [],
   "source": [
    "r = j.get_results()"
   ]
  },
  {
   "cell_type": "code",
   "execution_count": null,
   "id": "08ddf60f-b34a-498e-8a5a-eec6975f5ece",
   "metadata": {},
   "outputs": [],
   "source": [
    "our_cs = SkyCoord(ra=mag_table['RA'], dec=mag_table['Dec'], unit='degree')"
   ]
  },
  {
   "cell_type": "code",
   "execution_count": null,
   "id": "77d4466b-c485-45c7-bcb2-6086a6abe006",
   "metadata": {},
   "outputs": [],
   "source": [
    "gaia_cs = SkyCoord(ra=r['ra'], dec=r['dec'], unit='degree')"
   ]
  },
  {
   "cell_type": "code",
   "execution_count": null,
   "id": "a9178a58-55ee-445a-8621-e714fb359b39",
   "metadata": {},
   "outputs": [],
   "source": [
    "idx, d2d, _ = our_cs.match_to_catalog_sky(gaia_cs)"
   ]
  },
  {
   "cell_type": "code",
   "execution_count": null,
   "id": "36a70482-b5f1-4fbe-8845-fed7e8c08c02",
   "metadata": {},
   "outputs": [],
   "source": [
    "great = d2d < 1 * u.arcsec"
   ]
  },
  {
   "cell_type": "code",
   "execution_count": null,
   "id": "bc951bf8-3539-4cba-afe8-e3ed0ac629bb",
   "metadata": {},
   "outputs": [],
   "source": [
    "distance = 1000 / r['parallax']"
   ]
  },
  {
   "cell_type": "code",
   "execution_count": null,
   "id": "812bed23-5523-428a-8ab2-d8092ccf5ebb",
   "metadata": {},
   "outputs": [],
   "source": [
    "abs_mag = 0 * mag_table['RA']"
   ]
  },
  {
   "cell_type": "code",
   "execution_count": null,
   "id": "013e79ff-96d7-4603-a378-da6337f27046",
   "metadata": {},
   "outputs": [],
   "source": [
    "abs_mag[great] = mag_table['mag_inst_cal'][great] - 5 * (np.log10(distance[idx[great]]) - 1)"
   ]
  },
  {
   "cell_type": "code",
   "execution_count": null,
   "id": "23d5f35b-2836-48f1-8807-fd4ee1532587",
   "metadata": {},
   "outputs": [],
   "source": [
    "mag_table['abs_mag'] = abs_mag"
   ]
  },
  {
   "cell_type": "code",
   "execution_count": null,
   "id": "237ce7c0-dbf7-47c3-9076-b3f8caee1ef5",
   "metadata": {},
   "outputs": [],
   "source": [
    "B = mag_table[mag_table['filter'] == 'B']\n",
    "V = mag_table[mag_table['filter'] == 'V']\n",
    "good = (B['abs_mag'] != 0) & (V['abs_mag'] != 0) & ~np.isnan(B['abs_mag']) & ~np.isnan(V['abs_mag'])\n",
    "two_up(B[good], V[good], your_mag_table, mag_col='abs_mag')"
   ]
  },
  {
   "cell_type": "code",
   "execution_count": null,
   "id": "52e47041-e339-49ca-b48b-4045174b0897",
   "metadata": {},
   "outputs": [],
   "source": []
  }
 ],
 "metadata": {
  "kernelspec": {
   "display_name": "Python 3 (ipykernel)",
   "language": "python",
   "name": "python3"
  },
  "language_info": {
   "codemirror_mode": {
    "name": "ipython",
    "version": 3
   },
   "file_extension": ".py",
   "mimetype": "text/x-python",
   "name": "python",
   "nbconvert_exporter": "python",
   "pygments_lexer": "ipython3",
   "version": "3.9.7"
  }
 },
 "nbformat": 4,
 "nbformat_minor": 5
}
