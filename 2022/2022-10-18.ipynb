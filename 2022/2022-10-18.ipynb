{
 "cells": [
  {
   "cell_type": "markdown",
   "id": "f2621fbb-8f37-4117-80af-220f3ec48656",
   "metadata": {},
   "source": [
    "# 2022-10-18"
   ]
  },
  {
   "cell_type": "markdown",
   "id": "518731b5-848c-4ce1-a951-f5210c2be0e1",
   "metadata": {},
   "source": [
    "## To do today\n",
    "\n",
    "1. Go the Launcher (where you get the template notebooks from now)\n",
    "2. In the new \"Photometry\" section make a \"01 Seeing profile\" notebook\n",
    "3. Open it, point it at one of your combined images (e.g. `combined_light_filter_rp.fit`), and try running it.\n",
    "4. Let me know what errors you get (that is your turn-in for today in D2L).\n",
    "5. Try making a \"02 Comparison stars\" notebook\n",
    "6. Enter your object name and a file name (can use same as in 3)\n",
    "7. Run it and report errors. or successes"
   ]
  },
  {
   "cell_type": "code",
   "execution_count": null,
   "id": "a31bbd9e-e69c-45ec-a003-9ec67d88a53f",
   "metadata": {},
   "outputs": [],
   "source": []
  }
 ],
 "metadata": {
  "kernelspec": {
   "display_name": "Python 3 (ipykernel)",
   "language": "python",
   "name": "python3"
  },
  "language_info": {
   "codemirror_mode": {
    "name": "ipython",
    "version": 3
   },
   "file_extension": ".py",
   "mimetype": "text/x-python",
   "name": "python",
   "nbconvert_exporter": "python",
   "pygments_lexer": "ipython3",
   "version": "3.10.6"
  }
 },
 "nbformat": 4,
 "nbformat_minor": 5
}
